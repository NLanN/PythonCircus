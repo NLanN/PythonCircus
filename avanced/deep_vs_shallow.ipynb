{
 "cells": [
  {
   "cell_type": "markdown",
   "metadata": {
    "pycharm": {
     "name": "#%% md\n"
    }
   },
   "source": [
    "### Deepcopy vs Shallow copy"
   ]
  },
  {
   "cell_type": "code",
   "execution_count": 4,
   "metadata": {
    "pycharm": {
     "name": "#%%\n"
    }
   },
   "outputs": [
    {
     "name": "stdout",
     "output_type": "stream",
     "text": [
      "2115666026944 2115656921728 2115661120384\n",
      "--------ORIGINAL---------\n",
      "2115583699248\n",
      "2115583699280\n",
      "2115583699312\n",
      "2115666025792\n",
      "--------DEEPCOPY---------\n",
      "[1,2] is relocated\n",
      "2115583699248\n",
      "2115583699280\n",
      "2115583699312\n",
      "2115666027264\n",
      "--------SHALLOW---------\n",
      "2115583699248\n",
      "2115583699280\n",
      "2115583699312\n",
      "2115666025792\n"
     ]
    }
   ],
   "source": [
    "import copy\n",
    "\n",
    "l1 = [1, 2, 3, [1, 2]]\n",
    "\n",
    "l2 = copy.deepcopy(l1)\n",
    "\n",
    "l3 = copy.copy(l1)\n",
    "\n",
    "print(id(l1), id(l2), id(l3))\n",
    "print('--------ORIGINAL---------')\n",
    "\n",
    "for i in l1:\n",
    "    print(id(i))\n",
    "\n",
    "print('--------DEEPCOPY---------')\n",
    "print('[1,2] is relocated')\n",
    "\n",
    "for i in l2:\n",
    "    print(id(i))\n",
    "\n",
    "print('--------SHALLOW---------')\n",
    "\n",
    "for i in l3:\n",
    "    print(id(i))\n",
    "\n",
    "l1.sort(key=lambda x: x[0] if isinstance(x, list) else x)"
   ]
  }
 ],
 "metadata": {
  "interpreter": {
   "hash": "d3eea2e89496e4096d7d96fd6f3eaac49aff5ada75cf88cf9896326921e20e0a"
  },
  "kernelspec": {
   "display_name": "Python 3.9.6 64-bit",
   "language": "python",
   "name": "python3"
  },
  "language_info": {
   "codemirror_mode": {
    "name": "ipython",
    "version": 3
   },
   "file_extension": ".py",
   "mimetype": "text/x-python",
   "name": "python",
   "nbconvert_exporter": "python",
   "pygments_lexer": "ipython3",
   "version": "3.9.6"
  },
  "orig_nbformat": 4
 },
 "nbformat": 4,
 "nbformat_minor": 2
}