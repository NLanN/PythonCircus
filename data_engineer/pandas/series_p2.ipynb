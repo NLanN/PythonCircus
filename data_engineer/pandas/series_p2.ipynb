{
 "cells": [
  {
   "cell_type": "markdown",
   "metadata": {
    "collapsed": true,
    "pycharm": {
     "name": "#%% md\n"
    }
   },
   "source": [
    "# Series part 2"
   ]
  },
  {
   "cell_type": "code",
   "execution_count": 1,
   "outputs": [
    {
     "data": {
      "text/plain": "a    1\nb    2\nc    3\nd    4\ne    5\ndtype: int64"
     },
     "execution_count": 1,
     "metadata": {},
     "output_type": "execute_result"
    }
   ],
   "source": [
    "import pandas as pd\n",
    "\n",
    "pd.Series([1, 2, 3, 4, 5], index=['a', 'b', 'c', 'd', 'e'])"
   ],
   "metadata": {
    "collapsed": false,
    "pycharm": {
     "name": "#%%\n"
    }
   }
  },
  {
   "cell_type": "code",
   "execution_count": 35,
   "outputs": [
    {
     "name": "stderr",
     "output_type": "stream",
     "text": [
      "C:\\Users\\Langl\\AppData\\Local\\Temp\\ipykernel_520\\4204002374.py:1: FutureWarning: The squeeze argument has been deprecated and will be removed in a future version. Append .squeeze(\"columns\") to the call to squeeze.\n",
      "\n",
      "\n",
      "  pd.read_csv('data/summer.csv', usecols=['Athlete'], squeeze=True)\n"
     ]
    },
    {
     "data": {
      "text/plain": "0                    HAJOS, Alfred\n1                 HERSCHMANN, Otto\n2                DRIVAS, Dimitrios\n3               MALOKINIS, Ioannis\n4               CHASAPIS, Spiridon\n                   ...            \n31160           JANIKOWSKI, Damian\n31161    REZAEI, Ghasem Gholamreza\n31162               TOTROV, Rustam\n31163            ALEKSANYAN, Artur\n31164               LIDBERG, Jimmy\nName: Athlete, Length: 31165, dtype: object"
     },
     "execution_count": 35,
     "metadata": {},
     "output_type": "execute_result"
    }
   ],
   "source": [
    "pd.read_csv('data/summer.csv', usecols=['Athlete'], squeeze=True)"
   ],
   "metadata": {
    "collapsed": false,
    "pycharm": {
     "name": "#%%\n"
    }
   }
  },
  {
   "cell_type": "code",
   "execution_count": 36,
   "outputs": [],
   "source": [
    "sr = pd.Series({'a': 1, 'b': 2, 'c': 3, 'd': 4, 'e': 5, 'f': 6, 'g': None})"
   ],
   "metadata": {
    "collapsed": false,
    "pycharm": {
     "name": "#%%\n"
    }
   }
  },
  {
   "cell_type": "code",
   "execution_count": 37,
   "outputs": [
    {
     "data": {
      "text/plain": "a    1.0\nb    2.0\nc    3.0\nd    4.0\ne    5.0\nf    6.0\ng    NaN\ndtype: float64"
     },
     "execution_count": 37,
     "metadata": {},
     "output_type": "execute_result"
    }
   ],
   "source": [
    "sr.sort_values()\n"
   ],
   "metadata": {
    "collapsed": false,
    "pycharm": {
     "name": "#%%\n"
    }
   }
  },
  {
   "cell_type": "code",
   "execution_count": 38,
   "outputs": [
    {
     "data": {
      "text/plain": "f    6.0\ne    5.0\nd    4.0\nc    3.0\nb    2.0\na    1.0\ng    NaN\ndtype: float64"
     },
     "execution_count": 38,
     "metadata": {},
     "output_type": "execute_result"
    }
   ],
   "source": [
    "sr.sort_values(ascending=False)"
   ],
   "metadata": {
    "collapsed": false,
    "pycharm": {
     "name": "#%%\n"
    }
   }
  },
  {
   "cell_type": "code",
   "execution_count": 39,
   "outputs": [
    {
     "data": {
      "text/plain": "f    6.0\ne    5.0\nd    4.0\nc    3.0\nb    2.0\na    1.0\ng    NaN\ndtype: float64"
     },
     "execution_count": 39,
     "metadata": {},
     "output_type": "execute_result"
    }
   ],
   "source": [
    "sr.sort_values(ascending=False, na_position='last')"
   ],
   "metadata": {
    "collapsed": false,
    "pycharm": {
     "name": "#%%\n"
    }
   }
  },
  {
   "cell_type": "code",
   "execution_count": 67,
   "outputs": [
    {
     "data": {
      "text/plain": "g    NaN\nf    6.0\ne    5.0\nd    4.0\nc    3.0\nb    2.0\na    1.0\ndtype: float64"
     },
     "execution_count": 67,
     "metadata": {},
     "output_type": "execute_result"
    }
   ],
   "source": [
    "sr.sort_values(ascending=False, na_position='first')"
   ],
   "metadata": {
    "collapsed": false,
    "pycharm": {
     "name": "#%%\n"
    }
   }
  },
  {
   "cell_type": "code",
   "execution_count": 41,
   "outputs": [
    {
     "data": {
      "text/plain": "f    6.0\ne    5.0\nd    4.0\nc    3.0\nb    2.0\na    1.0\ng    NaN\ndtype: float64"
     },
     "execution_count": 41,
     "metadata": {},
     "output_type": "execute_result"
    }
   ],
   "source": [
    "sr.sort_values(ascending=False, inplace=True)\n",
    "sr"
   ],
   "metadata": {
    "collapsed": false,
    "pycharm": {
     "name": "#%%\n"
    }
   }
  },
  {
   "cell_type": "code",
   "execution_count": 42,
   "outputs": [
    {
     "data": {
      "text/plain": "a    1.0\nb    2.0\nc    3.0\nd    4.0\ne    5.0\nf    6.0\ng    NaN\ndtype: float64"
     },
     "execution_count": 42,
     "metadata": {},
     "output_type": "execute_result"
    }
   ],
   "source": [
    "sr.sort_index(ascending=True)"
   ],
   "metadata": {
    "collapsed": false,
    "pycharm": {
     "name": "#%%\n"
    }
   }
  },
  {
   "cell_type": "markdown",
   "source": [
    "### nlagest & nsmallest"
   ],
   "metadata": {
    "collapsed": false,
    "pycharm": {
     "name": "#%% md\n"
    }
   }
  },
  {
   "cell_type": "code",
   "execution_count": 43,
   "outputs": [],
   "source": [
    "titanic = pd.read_csv('data/titanic.csv')\n"
   ],
   "metadata": {
    "collapsed": false,
    "pycharm": {
     "name": "#%%\n"
    }
   }
  },
  {
   "cell_type": "code",
   "execution_count": 44,
   "outputs": [],
   "source": [
    "age = titanic.age"
   ],
   "metadata": {
    "collapsed": false,
    "pycharm": {
     "name": "#%%\n"
    }
   }
  },
  {
   "cell_type": "code",
   "execution_count": 45,
   "outputs": [
    {
     "data": {
      "text/plain": "0    22.0\n1    38.0\n2    26.0\n3    35.0\n4    35.0\nName: age, dtype: float64"
     },
     "execution_count": 45,
     "metadata": {},
     "output_type": "execute_result"
    }
   ],
   "source": [
    "age.head()"
   ],
   "metadata": {
    "collapsed": false,
    "pycharm": {
     "name": "#%%\n"
    }
   }
  },
  {
   "cell_type": "code",
   "execution_count": 46,
   "outputs": [
    {
     "data": {
      "text/plain": "630    80.0\n851    74.0\n96     71.0\nName: age, dtype: float64"
     },
     "execution_count": 46,
     "metadata": {},
     "output_type": "execute_result"
    }
   ],
   "source": [
    "# nlargest find the n largest values\n",
    "age.nlargest(3)"
   ],
   "metadata": {
    "collapsed": false,
    "pycharm": {
     "name": "#%%\n"
    }
   }
  },
  {
   "cell_type": "code",
   "execution_count": 47,
   "outputs": [
    {
     "data": {
      "text/plain": "803    0.42\n755    0.67\n469    0.75\nName: age, dtype: float64"
     },
     "execution_count": 47,
     "metadata": {},
     "output_type": "execute_result"
    }
   ],
   "source": [
    "# nsmallest find the n smallest values\n",
    "age.nsmallest(3)\n"
   ],
   "metadata": {
    "collapsed": false,
    "pycharm": {
     "name": "#%%\n"
    }
   }
  },
  {
   "cell_type": "code",
   "execution_count": 48,
   "outputs": [
    {
     "data": {
      "text/plain": "630"
     },
     "execution_count": 48,
     "metadata": {},
     "output_type": "execute_result"
    }
   ],
   "source": [
    "# idxmax & idxmin find the index of the largest and smallest values\n",
    "age.idxmax()\n",
    "# titanic.age.idxmax()"
   ],
   "metadata": {
    "collapsed": false,
    "pycharm": {
     "name": "#%%\n"
    }
   }
  },
  {
   "cell_type": "code",
   "execution_count": 49,
   "outputs": [
    {
     "data": {
      "text/plain": "803"
     },
     "execution_count": 49,
     "metadata": {},
     "output_type": "execute_result"
    }
   ],
   "source": [
    "age.idxmin()\n"
   ],
   "metadata": {
    "collapsed": false,
    "pycharm": {
     "name": "#%%\n"
    }
   }
  },
  {
   "cell_type": "code",
   "execution_count": 50,
   "outputs": [],
   "source": [
    "sales = pd.Series([10, 25, 6, 36, 2, 0, None, 5],\n",
    "                  index=[\"Mon\", \"Tue\", \"Wed\", \"Thu\", \"Fri\", \"Sat\", \"Sun\", \"Mon\"])"
   ],
   "metadata": {
    "collapsed": false,
    "pycharm": {
     "name": "#%%\n"
    }
   }
  },
  {
   "cell_type": "code",
   "execution_count": 51,
   "outputs": [
    {
     "data": {
      "text/plain": "Mon    10.0\nTue    25.0\nWed     6.0\nThu    36.0\nFri     2.0\nSat     0.0\nSun     NaN\nMon     5.0\ndtype: float64"
     },
     "execution_count": 51,
     "metadata": {},
     "output_type": "execute_result"
    }
   ],
   "source": [
    "sales"
   ],
   "metadata": {
    "collapsed": false,
    "pycharm": {
     "name": "#%%\n"
    }
   }
  },
  {
   "cell_type": "code",
   "execution_count": 52,
   "outputs": [
    {
     "data": {
      "text/plain": "nan"
     },
     "execution_count": 52,
     "metadata": {},
     "output_type": "execute_result"
    }
   ],
   "source": [
    "sales['Sun']"
   ],
   "metadata": {
    "collapsed": false,
    "pycharm": {
     "name": "#%%\n"
    }
   }
  },
  {
   "cell_type": "code",
   "execution_count": 53,
   "outputs": [
    {
     "data": {
      "text/plain": "Mon     9.090909\nTue    22.727273\nWed     5.454545\nThu    32.727273\nFri     1.818182\nSat     0.000000\nSun          NaN\nMon     4.545455\ndtype: float64"
     },
     "execution_count": 53,
     "metadata": {},
     "output_type": "execute_result"
    }
   ],
   "source": [
    "sales / 1.1"
   ],
   "metadata": {
    "collapsed": false,
    "pycharm": {
     "name": "#%%\n"
    }
   }
  },
  {
   "cell_type": "code",
   "execution_count": 54,
   "outputs": [
    {
     "data": {
      "text/plain": "Mon     9.09\nTue    22.73\nWed     5.45\nThu    32.73\nFri     1.82\nSat     0.00\nSun      NaN\nMon     4.55\ndtype: float64"
     },
     "execution_count": 54,
     "metadata": {},
     "output_type": "execute_result"
    }
   ],
   "source": [
    "(sales / 1.1).round(2)"
   ],
   "metadata": {
    "collapsed": false,
    "pycharm": {
     "name": "#%%\n"
    }
   }
  },
  {
   "cell_type": "code",
   "execution_count": 55,
   "outputs": [
    {
     "data": {
      "text/plain": "Mon     0.0\nTue    25.0\nWed     6.0\nThu    36.0\nFri     2.0\nSat     0.0\nSun     NaN\nMon     0.0\ndtype: float64"
     },
     "execution_count": 55,
     "metadata": {},
     "output_type": "execute_result"
    }
   ],
   "source": [
    "sales['Mon'] = 0\n",
    "sales"
   ],
   "metadata": {
    "collapsed": false,
    "pycharm": {
     "name": "#%%\n"
    }
   }
  },
  {
   "cell_type": "code",
   "execution_count": 56,
   "outputs": [
    {
     "name": "stderr",
     "output_type": "stream",
     "text": [
      "C:\\Users\\Langl\\AppData\\Local\\Temp\\ipykernel_520\\2371190570.py:1: SettingWithCopyWarning: \n",
      "A value is trying to be set on a copy of a slice from a DataFrame\n",
      "\n",
      "See the caveats in the documentation: https://pandas.pydata.org/pandas-docs/stable/user_guide/indexing.html#returning-a-view-versus-a-copy\n",
      "  age.iloc[0] = 99999\n"
     ]
    }
   ],
   "source": [
    "age.iloc[0] = 99999"
   ],
   "metadata": {
    "collapsed": false,
    "pycharm": {
     "name": "#%%\n"
    }
   }
  },
  {
   "cell_type": "code",
   "execution_count": 57,
   "outputs": [
    {
     "data": {
      "text/plain": "     survived  pclass     sex      age  sibsp  parch     fare embarked deck\n0           0       3    male  99999.0      1      0   7.2500        S  NaN\n1           1       1  female     38.0      1      0  71.2833        C    C\n2           1       3  female     26.0      0      0   7.9250        S  NaN\n3           1       1  female     35.0      1      0  53.1000        S    C\n4           0       3    male     35.0      0      0   8.0500        S  NaN\n..        ...     ...     ...      ...    ...    ...      ...      ...  ...\n886         0       2    male     27.0      0      0  13.0000        S  NaN\n887         1       1  female     19.0      0      0  30.0000        S    B\n888         0       3  female      NaN      1      2  23.4500        S  NaN\n889         1       1    male     26.0      0      0  30.0000        C    C\n890         0       3    male     32.0      0      0   7.7500        Q  NaN\n\n[891 rows x 9 columns]",
      "text/html": "<div>\n<style scoped>\n    .dataframe tbody tr th:only-of-type {\n        vertical-align: middle;\n    }\n\n    .dataframe tbody tr th {\n        vertical-align: top;\n    }\n\n    .dataframe thead th {\n        text-align: right;\n    }\n</style>\n<table border=\"1\" class=\"dataframe\">\n  <thead>\n    <tr style=\"text-align: right;\">\n      <th></th>\n      <th>survived</th>\n      <th>pclass</th>\n      <th>sex</th>\n      <th>age</th>\n      <th>sibsp</th>\n      <th>parch</th>\n      <th>fare</th>\n      <th>embarked</th>\n      <th>deck</th>\n    </tr>\n  </thead>\n  <tbody>\n    <tr>\n      <th>0</th>\n      <td>0</td>\n      <td>3</td>\n      <td>male</td>\n      <td>99999.0</td>\n      <td>1</td>\n      <td>0</td>\n      <td>7.2500</td>\n      <td>S</td>\n      <td>NaN</td>\n    </tr>\n    <tr>\n      <th>1</th>\n      <td>1</td>\n      <td>1</td>\n      <td>female</td>\n      <td>38.0</td>\n      <td>1</td>\n      <td>0</td>\n      <td>71.2833</td>\n      <td>C</td>\n      <td>C</td>\n    </tr>\n    <tr>\n      <th>2</th>\n      <td>1</td>\n      <td>3</td>\n      <td>female</td>\n      <td>26.0</td>\n      <td>0</td>\n      <td>0</td>\n      <td>7.9250</td>\n      <td>S</td>\n      <td>NaN</td>\n    </tr>\n    <tr>\n      <th>3</th>\n      <td>1</td>\n      <td>1</td>\n      <td>female</td>\n      <td>35.0</td>\n      <td>1</td>\n      <td>0</td>\n      <td>53.1000</td>\n      <td>S</td>\n      <td>C</td>\n    </tr>\n    <tr>\n      <th>4</th>\n      <td>0</td>\n      <td>3</td>\n      <td>male</td>\n      <td>35.0</td>\n      <td>0</td>\n      <td>0</td>\n      <td>8.0500</td>\n      <td>S</td>\n      <td>NaN</td>\n    </tr>\n    <tr>\n      <th>...</th>\n      <td>...</td>\n      <td>...</td>\n      <td>...</td>\n      <td>...</td>\n      <td>...</td>\n      <td>...</td>\n      <td>...</td>\n      <td>...</td>\n      <td>...</td>\n    </tr>\n    <tr>\n      <th>886</th>\n      <td>0</td>\n      <td>2</td>\n      <td>male</td>\n      <td>27.0</td>\n      <td>0</td>\n      <td>0</td>\n      <td>13.0000</td>\n      <td>S</td>\n      <td>NaN</td>\n    </tr>\n    <tr>\n      <th>887</th>\n      <td>1</td>\n      <td>1</td>\n      <td>female</td>\n      <td>19.0</td>\n      <td>0</td>\n      <td>0</td>\n      <td>30.0000</td>\n      <td>S</td>\n      <td>B</td>\n    </tr>\n    <tr>\n      <th>888</th>\n      <td>0</td>\n      <td>3</td>\n      <td>female</td>\n      <td>NaN</td>\n      <td>1</td>\n      <td>2</td>\n      <td>23.4500</td>\n      <td>S</td>\n      <td>NaN</td>\n    </tr>\n    <tr>\n      <th>889</th>\n      <td>1</td>\n      <td>1</td>\n      <td>male</td>\n      <td>26.0</td>\n      <td>0</td>\n      <td>0</td>\n      <td>30.0000</td>\n      <td>C</td>\n      <td>C</td>\n    </tr>\n    <tr>\n      <th>890</th>\n      <td>0</td>\n      <td>3</td>\n      <td>male</td>\n      <td>32.0</td>\n      <td>0</td>\n      <td>0</td>\n      <td>7.7500</td>\n      <td>Q</td>\n      <td>NaN</td>\n    </tr>\n  </tbody>\n</table>\n<p>891 rows × 9 columns</p>\n</div>"
     },
     "execution_count": 57,
     "metadata": {},
     "output_type": "execute_result"
    }
   ],
   "source": [
    "# override the value of the original dataframe\n",
    "titanic"
   ],
   "metadata": {
    "collapsed": false,
    "pycharm": {
     "name": "#%%\n"
    }
   }
  },
  {
   "cell_type": "code",
   "execution_count": 58,
   "outputs": [
    {
     "data": {
      "text/plain": "       Year    City      Sport           Discipline  \\\n0      1896  Athens   Aquatics             Swimming   \n1      1896  Athens   Aquatics             Swimming   \n2      1896  Athens   Aquatics             Swimming   \n3      1896  Athens   Aquatics             Swimming   \n4      1896  Athens   Aquatics             Swimming   \n...     ...     ...        ...                  ...   \n31160  2012  London  Wrestling  Wrestling Freestyle   \n31161  2012  London  Wrestling  Wrestling Freestyle   \n31162  2012  London  Wrestling  Wrestling Freestyle   \n31163  2012  London  Wrestling  Wrestling Freestyle   \n31164  2012  London  Wrestling  Wrestling Freestyle   \n\n                         Athlete Country Gender                       Event  \\\n0                  HAJOS, Alfred     HUN    Men              100M Freestyle   \n1               HERSCHMANN, Otto     AUT    Men              100M Freestyle   \n2              DRIVAS, Dimitrios     GRE    Men  100M Freestyle For Sailors   \n3             MALOKINIS, Ioannis     GRE    Men  100M Freestyle For Sailors   \n4             CHASAPIS, Spiridon     GRE    Men  100M Freestyle For Sailors   \n...                          ...     ...    ...                         ...   \n31160         JANIKOWSKI, Damian     POL    Men                    Wg 84 KG   \n31161  REZAEI, Ghasem Gholamreza     IRI    Men                    Wg 96 KG   \n31162             TOTROV, Rustam     RUS    Men                    Wg 96 KG   \n31163          ALEKSANYAN, Artur     ARM    Men                    Wg 96 KG   \n31164             LIDBERG, Jimmy     SWE    Men                    Wg 96 KG   \n\n        Medal  \n0        Gold  \n1      Silver  \n2      Bronze  \n3        Gold  \n4      Silver  \n...       ...  \n31160  Bronze  \n31161    Gold  \n31162  Silver  \n31163  Bronze  \n31164  Bronze  \n\n[31165 rows x 9 columns]",
      "text/html": "<div>\n<style scoped>\n    .dataframe tbody tr th:only-of-type {\n        vertical-align: middle;\n    }\n\n    .dataframe tbody tr th {\n        vertical-align: top;\n    }\n\n    .dataframe thead th {\n        text-align: right;\n    }\n</style>\n<table border=\"1\" class=\"dataframe\">\n  <thead>\n    <tr style=\"text-align: right;\">\n      <th></th>\n      <th>Year</th>\n      <th>City</th>\n      <th>Sport</th>\n      <th>Discipline</th>\n      <th>Athlete</th>\n      <th>Country</th>\n      <th>Gender</th>\n      <th>Event</th>\n      <th>Medal</th>\n    </tr>\n  </thead>\n  <tbody>\n    <tr>\n      <th>0</th>\n      <td>1896</td>\n      <td>Athens</td>\n      <td>Aquatics</td>\n      <td>Swimming</td>\n      <td>HAJOS, Alfred</td>\n      <td>HUN</td>\n      <td>Men</td>\n      <td>100M Freestyle</td>\n      <td>Gold</td>\n    </tr>\n    <tr>\n      <th>1</th>\n      <td>1896</td>\n      <td>Athens</td>\n      <td>Aquatics</td>\n      <td>Swimming</td>\n      <td>HERSCHMANN, Otto</td>\n      <td>AUT</td>\n      <td>Men</td>\n      <td>100M Freestyle</td>\n      <td>Silver</td>\n    </tr>\n    <tr>\n      <th>2</th>\n      <td>1896</td>\n      <td>Athens</td>\n      <td>Aquatics</td>\n      <td>Swimming</td>\n      <td>DRIVAS, Dimitrios</td>\n      <td>GRE</td>\n      <td>Men</td>\n      <td>100M Freestyle For Sailors</td>\n      <td>Bronze</td>\n    </tr>\n    <tr>\n      <th>3</th>\n      <td>1896</td>\n      <td>Athens</td>\n      <td>Aquatics</td>\n      <td>Swimming</td>\n      <td>MALOKINIS, Ioannis</td>\n      <td>GRE</td>\n      <td>Men</td>\n      <td>100M Freestyle For Sailors</td>\n      <td>Gold</td>\n    </tr>\n    <tr>\n      <th>4</th>\n      <td>1896</td>\n      <td>Athens</td>\n      <td>Aquatics</td>\n      <td>Swimming</td>\n      <td>CHASAPIS, Spiridon</td>\n      <td>GRE</td>\n      <td>Men</td>\n      <td>100M Freestyle For Sailors</td>\n      <td>Silver</td>\n    </tr>\n    <tr>\n      <th>...</th>\n      <td>...</td>\n      <td>...</td>\n      <td>...</td>\n      <td>...</td>\n      <td>...</td>\n      <td>...</td>\n      <td>...</td>\n      <td>...</td>\n      <td>...</td>\n    </tr>\n    <tr>\n      <th>31160</th>\n      <td>2012</td>\n      <td>London</td>\n      <td>Wrestling</td>\n      <td>Wrestling Freestyle</td>\n      <td>JANIKOWSKI, Damian</td>\n      <td>POL</td>\n      <td>Men</td>\n      <td>Wg 84 KG</td>\n      <td>Bronze</td>\n    </tr>\n    <tr>\n      <th>31161</th>\n      <td>2012</td>\n      <td>London</td>\n      <td>Wrestling</td>\n      <td>Wrestling Freestyle</td>\n      <td>REZAEI, Ghasem Gholamreza</td>\n      <td>IRI</td>\n      <td>Men</td>\n      <td>Wg 96 KG</td>\n      <td>Gold</td>\n    </tr>\n    <tr>\n      <th>31162</th>\n      <td>2012</td>\n      <td>London</td>\n      <td>Wrestling</td>\n      <td>Wrestling Freestyle</td>\n      <td>TOTROV, Rustam</td>\n      <td>RUS</td>\n      <td>Men</td>\n      <td>Wg 96 KG</td>\n      <td>Silver</td>\n    </tr>\n    <tr>\n      <th>31163</th>\n      <td>2012</td>\n      <td>London</td>\n      <td>Wrestling</td>\n      <td>Wrestling Freestyle</td>\n      <td>ALEKSANYAN, Artur</td>\n      <td>ARM</td>\n      <td>Men</td>\n      <td>Wg 96 KG</td>\n      <td>Bronze</td>\n    </tr>\n    <tr>\n      <th>31164</th>\n      <td>2012</td>\n      <td>London</td>\n      <td>Wrestling</td>\n      <td>Wrestling Freestyle</td>\n      <td>LIDBERG, Jimmy</td>\n      <td>SWE</td>\n      <td>Men</td>\n      <td>Wg 96 KG</td>\n      <td>Bronze</td>\n    </tr>\n  </tbody>\n</table>\n<p>31165 rows × 9 columns</p>\n</div>"
     },
     "execution_count": 58,
     "metadata": {},
     "output_type": "execute_result"
    }
   ],
   "source": [
    "summer = pd.read_csv('data/summer.csv')\n",
    "summer"
   ],
   "metadata": {
    "collapsed": false,
    "pycharm": {
     "name": "#%%\n"
    }
   }
  },
  {
   "cell_type": "code",
   "execution_count": 59,
   "outputs": [
    {
     "data": {
      "text/plain": "[RangeIndex(start=0, stop=31165, step=1),\n Index(['Year', 'City', 'Sport', 'Discipline', 'Athlete', 'Country', 'Gender',\n        'Event', 'Medal'],\n       dtype='object')]"
     },
     "execution_count": 59,
     "metadata": {},
     "output_type": "execute_result"
    }
   ],
   "source": [
    "summer.axes"
   ],
   "metadata": {
    "collapsed": false,
    "pycharm": {
     "name": "#%%\n"
    }
   }
  },
  {
   "cell_type": "code",
   "execution_count": 60,
   "outputs": [],
   "source": [
    "summer.set_index('Athlete', inplace=True)"
   ],
   "metadata": {
    "collapsed": false,
    "pycharm": {
     "name": "#%%\n"
    }
   }
  },
  {
   "cell_type": "code",
   "execution_count": 61,
   "outputs": [
    {
     "data": {
      "text/plain": "Index(['HERSCHMANN, Otto', 'DRIVAS, Dimitrios', 'MALOKINIS, Ioannis',\n       'CHASAPIS, Spiridon', 'CHOROPHAS, Efstathios', 'HAJOS, Alfred',\n       'ANDREOU, Joannis', 'CHOROPHAS, Efstathios', 'NEUMANN, Paul',\n       'PEPANOS, Antonios', 'LANE, Francis', 'SZOKOLYI, Alajos',\n       'BURKE, Thomas', 'HOFMANN, Fritz', 'CURTIS, Thomas',\n       'GOULDING, Grantley', 'LERMUSIAUX, Albin', 'FLACK, Edwin',\n       'BLAKE, Arthur', 'GMELIN, Charles', 'BURKE, Thomas', 'JAMISON, Herbert',\n       'GOLEMIS, Dimitrios', 'FLACK, Edwin', 'DANI, Nandor',\n       'VERSIS, Sotirios', 'GARRETT, Robert', 'PARASKEVOPOULOS, Panagiotis',\n       'CLARK, Ellery', 'CONNOLLY, James', 'GARRETT, Robert',\n       'CONNOLLY, James', 'CLARK, Ellery', 'GARRETT, Robert', 'KELLNER, Gyula',\n       'LOUIS, Spyridon', 'VASILAKOS, Kharilaos', 'DAMASKOS, Evangelos',\n       'THEODOROPOULOS, Ioannis', 'HOYT, William Welles', 'TYLER, Albert',\n       'PAPASIDERIS, Georgios', 'GARRETT, Robert', 'GOUSKOS, Miltiadis',\n       'PERSAKIS, Ioannis', 'CONNOLLY, James', 'TUFFERI, Alexandre',\n       'BATTEL, Edward', 'KONSTANTINIDIS, Aristidis', 'GOEDRICH, August',\n       'FLAMENG, Léon', 'KOLETTIS, Georgios', 'SCHMAL, Adolf', 'MASSON, Paul',\n       'FLAMENG, Léon', 'SCHMAL, Adolf', 'KEEPING, Frank', 'SCHMAL, Adolf',\n       'MASSON, Paul', 'NIKOLOPOULOS, Stamatios', 'FLAMENG, Léon',\n       'MASSON, Paul', 'NIKOLOPOULOS, Stamatios',\n       'PIERRAKOS-MAVROMICHALIS, Perikles', 'GRAVELOTTE, Eugène-Henri',\n       'CALLOT, Henri', 'PYRGOS, Leonidas', 'PERRONNET, Maurice',\n       'NIELSEN, Holger', 'GEORGIADIS, Ioannis', 'KARAKALOS, Telemachos',\n       'WEINGÄRTNER, Hermann', 'FLATOW, Alfred', 'FLATOW, Alfred',\n       'ZUTTER, Louis', 'ZUTTER, Louis', 'WEINGÄRTNER, Hermann',\n       'PERSAKIS, Petros', 'MITROPOULOS, Ioannis', 'WEINGÄRTNER, Hermann',\n       'HOFMANN, Fritz', 'ANDRIAKOPOULOS, Nicolaos', 'XENAKIS, Thomasios',\n       'BÖCKER, Konrad', 'FLATOW, Alfred', 'FLATOW, Gustav Felix',\n       'HILMAR, Georg', 'HOFMANN, Fritz', 'MANTEUFFEL, Fritz',\n       'NEUKIRCH, Karl', 'RÖSTEL, Richard', 'SCHUFT, Gustav', 'SCHUMANN, Carl',\n       'WEINGÄRTNER, Hermann', 'CHRYSAPHIS, Ioannis', 'KARVELAS, Phillippos',\n       'LOUNDRAS, Dimitrios', 'MITROPOULOS, Ioannis', 'BÖCKER, Konrad'],\n      dtype='object', name='Athlete')"
     },
     "execution_count": 61,
     "metadata": {},
     "output_type": "execute_result"
    }
   ],
   "source": [
    "summer.index[1:100]"
   ],
   "metadata": {
    "collapsed": false,
    "pycharm": {
     "name": "#%%\n"
    }
   }
  },
  {
   "cell_type": "code",
   "execution_count": 62,
   "outputs": [
    {
     "data": {
      "text/plain": "['Year', 'City', 'Sport', 'Discipline', 'Country', 'Gender', 'Event', 'Medal']"
     },
     "execution_count": 62,
     "metadata": {},
     "output_type": "execute_result"
    }
   ],
   "source": [
    "summer.columns.to_list()\n"
   ],
   "metadata": {
    "collapsed": false,
    "pycharm": {
     "name": "#%%\n"
    }
   }
  },
  {
   "cell_type": "code",
   "execution_count": 63,
   "outputs": [
    {
     "data": {
      "text/plain": "False"
     },
     "execution_count": 63,
     "metadata": {},
     "output_type": "execute_result"
    }
   ],
   "source": [
    "summer.index.is_unique"
   ],
   "metadata": {
    "collapsed": false,
    "pycharm": {
     "name": "#%%\n"
    }
   }
  },
  {
   "cell_type": "markdown",
   "source": [
    "Create index objects\n",
    "\n"
   ],
   "metadata": {
    "collapsed": false,
    "pycharm": {
     "name": "#%% md\n"
    }
   }
  },
  {
   "cell_type": "code",
   "execution_count": 64,
   "outputs": [
    {
     "data": {
      "text/plain": "Int64Index([1, 2, 3], dtype='int64', name='days')"
     },
     "execution_count": 64,
     "metadata": {},
     "output_type": "execute_result"
    }
   ],
   "source": [
    "list_1 = [1,2,3]\n",
    "pd.Index(list_1, name='days')"
   ],
   "metadata": {
    "collapsed": false,
    "pycharm": {
     "name": "#%%\n"
    }
   }
  },
  {
   "cell_type": "code",
   "execution_count": 65,
   "outputs": [
    {
     "data": {
      "text/plain": "        City      Sport           Discipline Country Gender  \\\nYear                                                          \n1896  Athens   Aquatics             Swimming     HUN    Men   \n1896  Athens   Aquatics             Swimming     AUT    Men   \n1896  Athens   Aquatics             Swimming     GRE    Men   \n1896  Athens   Aquatics             Swimming     GRE    Men   \n1896  Athens   Aquatics             Swimming     GRE    Men   \n...      ...        ...                  ...     ...    ...   \n2012  London  Wrestling  Wrestling Freestyle     POL    Men   \n2012  London  Wrestling  Wrestling Freestyle     IRI    Men   \n2012  London  Wrestling  Wrestling Freestyle     RUS    Men   \n2012  London  Wrestling  Wrestling Freestyle     ARM    Men   \n2012  London  Wrestling  Wrestling Freestyle     SWE    Men   \n\n                           Event   Medal  \nYear                                      \n1896              100M Freestyle    Gold  \n1896              100M Freestyle  Silver  \n1896  100M Freestyle For Sailors  Bronze  \n1896  100M Freestyle For Sailors    Gold  \n1896  100M Freestyle For Sailors  Silver  \n...                          ...     ...  \n2012                    Wg 84 KG  Bronze  \n2012                    Wg 96 KG    Gold  \n2012                    Wg 96 KG  Silver  \n2012                    Wg 96 KG  Bronze  \n2012                    Wg 96 KG  Bronze  \n\n[31165 rows x 7 columns]",
      "text/html": "<div>\n<style scoped>\n    .dataframe tbody tr th:only-of-type {\n        vertical-align: middle;\n    }\n\n    .dataframe tbody tr th {\n        vertical-align: top;\n    }\n\n    .dataframe thead th {\n        text-align: right;\n    }\n</style>\n<table border=\"1\" class=\"dataframe\">\n  <thead>\n    <tr style=\"text-align: right;\">\n      <th></th>\n      <th>City</th>\n      <th>Sport</th>\n      <th>Discipline</th>\n      <th>Country</th>\n      <th>Gender</th>\n      <th>Event</th>\n      <th>Medal</th>\n    </tr>\n    <tr>\n      <th>Year</th>\n      <th></th>\n      <th></th>\n      <th></th>\n      <th></th>\n      <th></th>\n      <th></th>\n      <th></th>\n    </tr>\n  </thead>\n  <tbody>\n    <tr>\n      <th>1896</th>\n      <td>Athens</td>\n      <td>Aquatics</td>\n      <td>Swimming</td>\n      <td>HUN</td>\n      <td>Men</td>\n      <td>100M Freestyle</td>\n      <td>Gold</td>\n    </tr>\n    <tr>\n      <th>1896</th>\n      <td>Athens</td>\n      <td>Aquatics</td>\n      <td>Swimming</td>\n      <td>AUT</td>\n      <td>Men</td>\n      <td>100M Freestyle</td>\n      <td>Silver</td>\n    </tr>\n    <tr>\n      <th>1896</th>\n      <td>Athens</td>\n      <td>Aquatics</td>\n      <td>Swimming</td>\n      <td>GRE</td>\n      <td>Men</td>\n      <td>100M Freestyle For Sailors</td>\n      <td>Bronze</td>\n    </tr>\n    <tr>\n      <th>1896</th>\n      <td>Athens</td>\n      <td>Aquatics</td>\n      <td>Swimming</td>\n      <td>GRE</td>\n      <td>Men</td>\n      <td>100M Freestyle For Sailors</td>\n      <td>Gold</td>\n    </tr>\n    <tr>\n      <th>1896</th>\n      <td>Athens</td>\n      <td>Aquatics</td>\n      <td>Swimming</td>\n      <td>GRE</td>\n      <td>Men</td>\n      <td>100M Freestyle For Sailors</td>\n      <td>Silver</td>\n    </tr>\n    <tr>\n      <th>...</th>\n      <td>...</td>\n      <td>...</td>\n      <td>...</td>\n      <td>...</td>\n      <td>...</td>\n      <td>...</td>\n      <td>...</td>\n    </tr>\n    <tr>\n      <th>2012</th>\n      <td>London</td>\n      <td>Wrestling</td>\n      <td>Wrestling Freestyle</td>\n      <td>POL</td>\n      <td>Men</td>\n      <td>Wg 84 KG</td>\n      <td>Bronze</td>\n    </tr>\n    <tr>\n      <th>2012</th>\n      <td>London</td>\n      <td>Wrestling</td>\n      <td>Wrestling Freestyle</td>\n      <td>IRI</td>\n      <td>Men</td>\n      <td>Wg 96 KG</td>\n      <td>Gold</td>\n    </tr>\n    <tr>\n      <th>2012</th>\n      <td>London</td>\n      <td>Wrestling</td>\n      <td>Wrestling Freestyle</td>\n      <td>RUS</td>\n      <td>Men</td>\n      <td>Wg 96 KG</td>\n      <td>Silver</td>\n    </tr>\n    <tr>\n      <th>2012</th>\n      <td>London</td>\n      <td>Wrestling</td>\n      <td>Wrestling Freestyle</td>\n      <td>ARM</td>\n      <td>Men</td>\n      <td>Wg 96 KG</td>\n      <td>Bronze</td>\n    </tr>\n    <tr>\n      <th>2012</th>\n      <td>London</td>\n      <td>Wrestling</td>\n      <td>Wrestling Freestyle</td>\n      <td>SWE</td>\n      <td>Men</td>\n      <td>Wg 96 KG</td>\n      <td>Bronze</td>\n    </tr>\n  </tbody>\n</table>\n<p>31165 rows × 7 columns</p>\n</div>"
     },
     "execution_count": 65,
     "metadata": {},
     "output_type": "execute_result"
    }
   ],
   "source": [
    " \n",
    "# summer.reset_index(drop=True)\n",
    "summer.set_index('Year', inplace=True, drop=True)\n",
    "summer"
   ],
   "metadata": {
    "collapsed": false,
    "pycharm": {
     "name": "#%%\n"
    }
   }
  },
  {
   "cell_type": "code",
   "execution_count": 66,
   "outputs": [
    {
     "ename": "TypeError",
     "evalue": "Index does not support mutable operations",
     "output_type": "error",
     "traceback": [
      "\u001B[1;31m---------------------------------------------------------------------------\u001B[0m",
      "\u001B[1;31mTypeError\u001B[0m                                 Traceback (most recent call last)",
      "Input \u001B[1;32mIn [66]\u001B[0m, in \u001B[0;36m<cell line: 1>\u001B[1;34m()\u001B[0m\n\u001B[1;32m----> 1\u001B[0m summer\u001B[38;5;241m.\u001B[39mindex[\u001B[38;5;241m0\u001B[39m] \u001B[38;5;241m=\u001B[39m \u001B[38;5;241m1000\u001B[39m\n",
      "File \u001B[1;32m~\\lib\\site-packages\\pandas\\core\\indexes\\base.py:5021\u001B[0m, in \u001B[0;36mIndex.__setitem__\u001B[1;34m(self, key, value)\u001B[0m\n\u001B[0;32m   5019\u001B[0m \u001B[38;5;129m@final\u001B[39m\n\u001B[0;32m   5020\u001B[0m \u001B[38;5;28;01mdef\u001B[39;00m \u001B[38;5;21m__setitem__\u001B[39m(\u001B[38;5;28mself\u001B[39m, key, value):\n\u001B[1;32m-> 5021\u001B[0m     \u001B[38;5;28;01mraise\u001B[39;00m \u001B[38;5;167;01mTypeError\u001B[39;00m(\u001B[38;5;124m\"\u001B[39m\u001B[38;5;124mIndex does not support mutable operations\u001B[39m\u001B[38;5;124m\"\u001B[39m)\n",
      "\u001B[1;31mTypeError\u001B[0m: Index does not support mutable operations"
     ]
    }
   ],
   "source": [
    "summer.index[0] = 1000"
   ],
   "metadata": {
    "collapsed": false,
    "pycharm": {
     "name": "#%%\n"
    }
   }
  },
  {
   "cell_type": "code",
   "execution_count": null,
   "outputs": [],
   "source": [
    "summer.index.size"
   ],
   "metadata": {
    "collapsed": false,
    "pycharm": {
     "name": "#%%\n"
    }
   }
  },
  {
   "cell_type": "code",
   "execution_count": null,
   "outputs": [],
   "source": [
    "new_index = ['medal_no {}'.format(i) for i in range (1, summer.index.size +1 )]\n",
    "new_index"
   ],
   "metadata": {
    "collapsed": false,
    "pycharm": {
     "name": "#%%\n"
    }
   }
  },
  {
   "cell_type": "markdown",
   "source": [
    "# Column Label"
   ],
   "metadata": {
    "collapsed": false,
    "pycharm": {
     "name": "#%% md\n"
    }
   }
  },
  {
   "cell_type": "code",
   "execution_count": null,
   "outputs": [],
   "source": [
    "titanic.columns[0] = 'survival'"
   ],
   "metadata": {
    "collapsed": false,
    "pycharm": {
     "name": "#%%\n"
    }
   }
  },
  {
   "cell_type": "code",
   "execution_count": null,
   "outputs": [],
   "source": [
    "titanic.columns = ['survived?', 'pclass', 'sex', 'age', 'sibsp', 'parch', 'fare',\n",
    "       'embarked', 'deck']\n",
    "titanic"
   ],
   "metadata": {
    "collapsed": false,
    "pycharm": {
     "name": "#%%\n"
    }
   }
  },
  {
   "cell_type": "code",
   "execution_count": null,
   "outputs": [],
   "source": [
    "titanic.columns.name = 'pass_char'\n",
    "titanic"
   ],
   "metadata": {
    "collapsed": false,
    "pycharm": {
     "name": "#%%\n"
    }
   }
  },
  {
   "cell_type": "code",
   "execution_count": null,
   "outputs": [],
   "source": [
    "titanic.index.name = 'Passenger_no'\n",
    "titanic"
   ],
   "metadata": {
    "collapsed": false,
    "pycharm": {
     "name": "#%%\n"
    }
   }
  },
  {
   "cell_type": "code",
   "execution_count": null,
   "outputs": [],
   "source": [
    "summer= pd.read_csv(\"data/summer.csv\", index_col = \"Athlete\")\n",
    "summer.rename(mapper = {\"HAJOS, Alfred\":'HAYOS, Alfred'}, axis = \"index\")"
   ],
   "metadata": {
    "collapsed": false,
    "pycharm": {
     "name": "#%%\n"
    }
   }
  },
  {
   "cell_type": "code",
   "execution_count": null,
   "outputs": [],
   "source": [
    "summer.rename(index = {\"HAJOS, Alfred\":'HAYOS, Alfred'}, inplace=True)\n",
    "summer"
   ],
   "metadata": {
    "collapsed": false,
    "pycharm": {
     "name": "#%%\n"
    }
   }
  },
  {
   "cell_type": "code",
   "execution_count": null,
   "outputs": [],
   "source": [
    "summer.rename(columns = {\"Sex\":\"Gender\", \"City\":\"Host_City\"}, inplace = True)\n",
    "summer.rename(mapper = {\"Sex\":\"Gender\", \"City\":\"Host_City\"}, axis = \"columns\")\n"
   ],
   "metadata": {
    "collapsed": false,
    "pycharm": {
     "name": "#%%\n"
    }
   }
  },
  {
   "cell_type": "code",
   "execution_count": null,
   "outputs": [],
   "source": [
    "mask2 = titanic.age > 14\n",
    "mask2.head()\n"
   ],
   "metadata": {
    "collapsed": false,
    "pycharm": {
     "name": "#%%\n"
    }
   }
  },
  {
   "cell_type": "code",
   "execution_count": null,
   "outputs": [],
   "source": [
    "mask1 = titanic.sex == \"male\"\n",
    "mask1.head()"
   ],
   "metadata": {
    "collapsed": false,
    "pycharm": {
     "name": "#%%\n"
    }
   }
  },
  {
   "cell_type": "code",
   "execution_count": null,
   "outputs": [],
   "source": [
    "(mask1 & mask2).head()\n"
   ],
   "metadata": {
    "collapsed": false,
    "pycharm": {
     "name": "#%%\n"
    }
   }
  }
 ],
 "metadata": {
  "kernelspec": {
   "display_name": "Python 3",
   "language": "python",
   "name": "python3"
  },
  "language_info": {
   "codemirror_mode": {
    "name": "ipython",
    "version": 2
   },
   "file_extension": ".py",
   "mimetype": "text/x-python",
   "name": "python",
   "nbconvert_exporter": "python",
   "pygments_lexer": "ipython2",
   "version": "2.7.6"
  }
 },
 "nbformat": 4,
 "nbformat_minor": 0
}