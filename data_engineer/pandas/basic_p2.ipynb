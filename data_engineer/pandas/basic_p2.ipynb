{
 "cells": [
  {
   "cell_type": "markdown",
   "metadata": {
    "collapsed": true,
    "pycharm": {
     "name": "#%% md\n"
    }
   },
   "source": [
    "# Pandas basic part 2\n",
    "\n",
    "- loc gets rows (and/or columns) with particular labels.\n",
    "\n",
    "- iloc gets rows (and/or columns) at integer locations.\n"
   ]
  },
  {
   "cell_type": "code",
   "execution_count": 24,
   "outputs": [
    {
     "data": {
      "text/plain": "                    Year    City     Sport Discipline Country Gender  \\\nAthlete                                                                \nHAJOS, Alfred       1896  Athens  Aquatics   Swimming     HUN    Men   \nHERSCHMANN, Otto    1896  Athens  Aquatics   Swimming     AUT    Men   \nDRIVAS, Dimitrios   1896  Athens  Aquatics   Swimming     GRE    Men   \nMALOKINIS, Ioannis  1896  Athens  Aquatics   Swimming     GRE    Men   \nCHASAPIS, Spiridon  1896  Athens  Aquatics   Swimming     GRE    Men   \n\n                                         Event   Medal  \nAthlete                                                 \nHAJOS, Alfred                   100M Freestyle    Gold  \nHERSCHMANN, Otto                100M Freestyle  Silver  \nDRIVAS, Dimitrios   100M Freestyle For Sailors  Bronze  \nMALOKINIS, Ioannis  100M Freestyle For Sailors    Gold  \nCHASAPIS, Spiridon  100M Freestyle For Sailors  Silver  ",
      "text/html": "<div>\n<style scoped>\n    .dataframe tbody tr th:only-of-type {\n        vertical-align: middle;\n    }\n\n    .dataframe tbody tr th {\n        vertical-align: top;\n    }\n\n    .dataframe thead th {\n        text-align: right;\n    }\n</style>\n<table border=\"1\" class=\"dataframe\">\n  <thead>\n    <tr style=\"text-align: right;\">\n      <th></th>\n      <th>Year</th>\n      <th>City</th>\n      <th>Sport</th>\n      <th>Discipline</th>\n      <th>Country</th>\n      <th>Gender</th>\n      <th>Event</th>\n      <th>Medal</th>\n    </tr>\n    <tr>\n      <th>Athlete</th>\n      <th></th>\n      <th></th>\n      <th></th>\n      <th></th>\n      <th></th>\n      <th></th>\n      <th></th>\n      <th></th>\n    </tr>\n  </thead>\n  <tbody>\n    <tr>\n      <th>HAJOS, Alfred</th>\n      <td>1896</td>\n      <td>Athens</td>\n      <td>Aquatics</td>\n      <td>Swimming</td>\n      <td>HUN</td>\n      <td>Men</td>\n      <td>100M Freestyle</td>\n      <td>Gold</td>\n    </tr>\n    <tr>\n      <th>HERSCHMANN, Otto</th>\n      <td>1896</td>\n      <td>Athens</td>\n      <td>Aquatics</td>\n      <td>Swimming</td>\n      <td>AUT</td>\n      <td>Men</td>\n      <td>100M Freestyle</td>\n      <td>Silver</td>\n    </tr>\n    <tr>\n      <th>DRIVAS, Dimitrios</th>\n      <td>1896</td>\n      <td>Athens</td>\n      <td>Aquatics</td>\n      <td>Swimming</td>\n      <td>GRE</td>\n      <td>Men</td>\n      <td>100M Freestyle For Sailors</td>\n      <td>Bronze</td>\n    </tr>\n    <tr>\n      <th>MALOKINIS, Ioannis</th>\n      <td>1896</td>\n      <td>Athens</td>\n      <td>Aquatics</td>\n      <td>Swimming</td>\n      <td>GRE</td>\n      <td>Men</td>\n      <td>100M Freestyle For Sailors</td>\n      <td>Gold</td>\n    </tr>\n    <tr>\n      <th>CHASAPIS, Spiridon</th>\n      <td>1896</td>\n      <td>Athens</td>\n      <td>Aquatics</td>\n      <td>Swimming</td>\n      <td>GRE</td>\n      <td>Men</td>\n      <td>100M Freestyle For Sailors</td>\n      <td>Silver</td>\n    </tr>\n  </tbody>\n</table>\n</div>"
     },
     "execution_count": 24,
     "metadata": {},
     "output_type": "execute_result"
    }
   ],
   "source": [
    "import pandas as pd\n",
    "\n",
    "summer = pd.read_csv('data/summer.csv', index_col='Athlete')\n",
    "\n",
    "summer.head()"
   ],
   "metadata": {
    "collapsed": false,
    "pycharm": {
     "name": "#%%\n"
    }
   }
  },
  {
   "cell_type": "markdown",
   "source": [
    "### Zero indexing vs negative indexing"
   ],
   "metadata": {
    "collapsed": false,
    "pycharm": {
     "name": "#%% md\n"
    }
   }
  },
  {
   "cell_type": "code",
   "execution_count": 25,
   "outputs": [
    {
     "data": {
      "text/plain": "Year                    1896\nCity                  Athens\nSport               Aquatics\nDiscipline          Swimming\nCountry                  HUN\nGender                   Men\nEvent         100M Freestyle\nMedal                   Gold\nName: HAJOS, Alfred, dtype: object"
     },
     "execution_count": 25,
     "metadata": {},
     "output_type": "execute_result"
    }
   ],
   "source": [
    "# this is a series\n",
    "summer.iloc[0]"
   ],
   "metadata": {
    "collapsed": false,
    "pycharm": {
     "name": "#%%\n"
    }
   }
  },
  {
   "cell_type": "code",
   "execution_count": 26,
   "outputs": [
    {
     "data": {
      "text/plain": "Year                         2012\nCity                       London\nSport                   Wrestling\nDiscipline    Wrestling Freestyle\nCountry                       SWE\nGender                        Men\nEvent                    Wg 96 KG\nMedal                      Bronze\nName: LIDBERG, Jimmy, dtype: object"
     },
     "execution_count": 26,
     "metadata": {},
     "output_type": "execute_result"
    }
   ],
   "source": [
    "summer.iloc[-1]"
   ],
   "metadata": {
    "collapsed": false,
    "pycharm": {
     "name": "#%%\n"
    }
   }
  },
  {
   "cell_type": "code",
   "execution_count": 27,
   "outputs": [
    {
     "data": {
      "text/plain": "                    Year    City     Sport Discipline Country Gender  \\\nAthlete                                                                \nHAJOS, Alfred       1896  Athens  Aquatics   Swimming     HUN    Men   \nHERSCHMANN, Otto    1896  Athens  Aquatics   Swimming     AUT    Men   \nDRIVAS, Dimitrios   1896  Athens  Aquatics   Swimming     GRE    Men   \nMALOKINIS, Ioannis  1896  Athens  Aquatics   Swimming     GRE    Men   \nCHASAPIS, Spiridon  1896  Athens  Aquatics   Swimming     GRE    Men   \n\n                                         Event   Medal  \nAthlete                                                 \nHAJOS, Alfred                   100M Freestyle    Gold  \nHERSCHMANN, Otto                100M Freestyle  Silver  \nDRIVAS, Dimitrios   100M Freestyle For Sailors  Bronze  \nMALOKINIS, Ioannis  100M Freestyle For Sailors    Gold  \nCHASAPIS, Spiridon  100M Freestyle For Sailors  Silver  ",
      "text/html": "<div>\n<style scoped>\n    .dataframe tbody tr th:only-of-type {\n        vertical-align: middle;\n    }\n\n    .dataframe tbody tr th {\n        vertical-align: top;\n    }\n\n    .dataframe thead th {\n        text-align: right;\n    }\n</style>\n<table border=\"1\" class=\"dataframe\">\n  <thead>\n    <tr style=\"text-align: right;\">\n      <th></th>\n      <th>Year</th>\n      <th>City</th>\n      <th>Sport</th>\n      <th>Discipline</th>\n      <th>Country</th>\n      <th>Gender</th>\n      <th>Event</th>\n      <th>Medal</th>\n    </tr>\n    <tr>\n      <th>Athlete</th>\n      <th></th>\n      <th></th>\n      <th></th>\n      <th></th>\n      <th></th>\n      <th></th>\n      <th></th>\n      <th></th>\n    </tr>\n  </thead>\n  <tbody>\n    <tr>\n      <th>HAJOS, Alfred</th>\n      <td>1896</td>\n      <td>Athens</td>\n      <td>Aquatics</td>\n      <td>Swimming</td>\n      <td>HUN</td>\n      <td>Men</td>\n      <td>100M Freestyle</td>\n      <td>Gold</td>\n    </tr>\n    <tr>\n      <th>HERSCHMANN, Otto</th>\n      <td>1896</td>\n      <td>Athens</td>\n      <td>Aquatics</td>\n      <td>Swimming</td>\n      <td>AUT</td>\n      <td>Men</td>\n      <td>100M Freestyle</td>\n      <td>Silver</td>\n    </tr>\n    <tr>\n      <th>DRIVAS, Dimitrios</th>\n      <td>1896</td>\n      <td>Athens</td>\n      <td>Aquatics</td>\n      <td>Swimming</td>\n      <td>GRE</td>\n      <td>Men</td>\n      <td>100M Freestyle For Sailors</td>\n      <td>Bronze</td>\n    </tr>\n    <tr>\n      <th>MALOKINIS, Ioannis</th>\n      <td>1896</td>\n      <td>Athens</td>\n      <td>Aquatics</td>\n      <td>Swimming</td>\n      <td>GRE</td>\n      <td>Men</td>\n      <td>100M Freestyle For Sailors</td>\n      <td>Gold</td>\n    </tr>\n    <tr>\n      <th>CHASAPIS, Spiridon</th>\n      <td>1896</td>\n      <td>Athens</td>\n      <td>Aquatics</td>\n      <td>Swimming</td>\n      <td>GRE</td>\n      <td>Men</td>\n      <td>100M Freestyle For Sailors</td>\n      <td>Silver</td>\n    </tr>\n  </tbody>\n</table>\n</div>"
     },
     "execution_count": 27,
     "metadata": {},
     "output_type": "execute_result"
    }
   ],
   "source": [
    "summer.iloc[0:5]"
   ],
   "metadata": {
    "collapsed": false,
    "pycharm": {
     "name": "#%%\n"
    }
   }
  },
  {
   "cell_type": "code",
   "execution_count": 28,
   "outputs": [
    {
     "data": {
      "text/plain": "                           Year    City      Sport           Discipline  \\\nAthlete                                                                   \nJANIKOWSKI, Damian         2012  London  Wrestling  Wrestling Freestyle   \nREZAEI, Ghasem Gholamreza  2012  London  Wrestling  Wrestling Freestyle   \nTOTROV, Rustam             2012  London  Wrestling  Wrestling Freestyle   \nALEKSANYAN, Artur          2012  London  Wrestling  Wrestling Freestyle   \n\n                          Country Gender     Event   Medal  \nAthlete                                                     \nJANIKOWSKI, Damian            POL    Men  Wg 84 KG  Bronze  \nREZAEI, Ghasem Gholamreza     IRI    Men  Wg 96 KG    Gold  \nTOTROV, Rustam                RUS    Men  Wg 96 KG  Silver  \nALEKSANYAN, Artur             ARM    Men  Wg 96 KG  Bronze  ",
      "text/html": "<div>\n<style scoped>\n    .dataframe tbody tr th:only-of-type {\n        vertical-align: middle;\n    }\n\n    .dataframe tbody tr th {\n        vertical-align: top;\n    }\n\n    .dataframe thead th {\n        text-align: right;\n    }\n</style>\n<table border=\"1\" class=\"dataframe\">\n  <thead>\n    <tr style=\"text-align: right;\">\n      <th></th>\n      <th>Year</th>\n      <th>City</th>\n      <th>Sport</th>\n      <th>Discipline</th>\n      <th>Country</th>\n      <th>Gender</th>\n      <th>Event</th>\n      <th>Medal</th>\n    </tr>\n    <tr>\n      <th>Athlete</th>\n      <th></th>\n      <th></th>\n      <th></th>\n      <th></th>\n      <th></th>\n      <th></th>\n      <th></th>\n      <th></th>\n    </tr>\n  </thead>\n  <tbody>\n    <tr>\n      <th>JANIKOWSKI, Damian</th>\n      <td>2012</td>\n      <td>London</td>\n      <td>Wrestling</td>\n      <td>Wrestling Freestyle</td>\n      <td>POL</td>\n      <td>Men</td>\n      <td>Wg 84 KG</td>\n      <td>Bronze</td>\n    </tr>\n    <tr>\n      <th>REZAEI, Ghasem Gholamreza</th>\n      <td>2012</td>\n      <td>London</td>\n      <td>Wrestling</td>\n      <td>Wrestling Freestyle</td>\n      <td>IRI</td>\n      <td>Men</td>\n      <td>Wg 96 KG</td>\n      <td>Gold</td>\n    </tr>\n    <tr>\n      <th>TOTROV, Rustam</th>\n      <td>2012</td>\n      <td>London</td>\n      <td>Wrestling</td>\n      <td>Wrestling Freestyle</td>\n      <td>RUS</td>\n      <td>Men</td>\n      <td>Wg 96 KG</td>\n      <td>Silver</td>\n    </tr>\n    <tr>\n      <th>ALEKSANYAN, Artur</th>\n      <td>2012</td>\n      <td>London</td>\n      <td>Wrestling</td>\n      <td>Wrestling Freestyle</td>\n      <td>ARM</td>\n      <td>Men</td>\n      <td>Wg 96 KG</td>\n      <td>Bronze</td>\n    </tr>\n  </tbody>\n</table>\n</div>"
     },
     "execution_count": 28,
     "metadata": {},
     "output_type": "execute_result"
    }
   ],
   "source": [
    "summer.iloc[-5:-1]"
   ],
   "metadata": {
    "collapsed": false,
    "pycharm": {
     "name": "#%%\n"
    }
   }
  },
  {
   "cell_type": "code",
   "execution_count": 29,
   "outputs": [
    {
     "data": {
      "text/plain": "'HUN'"
     },
     "execution_count": 29,
     "metadata": {},
     "output_type": "execute_result"
    }
   ],
   "source": [
    "summer.iloc[0, 4]"
   ],
   "metadata": {
    "collapsed": false,
    "pycharm": {
     "name": "#%%\n"
    }
   }
  },
  {
   "cell_type": "code",
   "execution_count": 30,
   "outputs": [
    {
     "data": {
      "text/plain": "Year         1896\nCity       Athens\nSport    Aquatics\nName: HAJOS, Alfred, dtype: object"
     },
     "execution_count": 30,
     "metadata": {},
     "output_type": "execute_result"
    }
   ],
   "source": [
    "summer.iloc[0, :3]"
   ],
   "metadata": {
    "collapsed": false,
    "pycharm": {
     "name": "#%%\n"
    }
   }
  },
  {
   "cell_type": "code",
   "execution_count": 31,
   "outputs": [
    {
     "data": {
      "text/plain": "                        City      Sport Gender   Medal\nAthlete                                               \nGARRETT, Robert       Athens  Athletics    Men  Silver\nKELLNER, Gyula        Athens  Athletics    Men  Bronze\nLOUIS, Spyridon       Athens  Athletics    Men    Gold\nVASILAKOS, Kharilaos  Athens  Athletics    Men  Silver\nDAMASKOS, Evangelos   Athens  Athletics    Men  Bronze",
      "text/html": "<div>\n<style scoped>\n    .dataframe tbody tr th:only-of-type {\n        vertical-align: middle;\n    }\n\n    .dataframe tbody tr th {\n        vertical-align: top;\n    }\n\n    .dataframe thead th {\n        text-align: right;\n    }\n</style>\n<table border=\"1\" class=\"dataframe\">\n  <thead>\n    <tr style=\"text-align: right;\">\n      <th></th>\n      <th>City</th>\n      <th>Sport</th>\n      <th>Gender</th>\n      <th>Medal</th>\n    </tr>\n    <tr>\n      <th>Athlete</th>\n      <th></th>\n      <th></th>\n      <th></th>\n      <th></th>\n    </tr>\n  </thead>\n  <tbody>\n    <tr>\n      <th>GARRETT, Robert</th>\n      <td>Athens</td>\n      <td>Athletics</td>\n      <td>Men</td>\n      <td>Silver</td>\n    </tr>\n    <tr>\n      <th>KELLNER, Gyula</th>\n      <td>Athens</td>\n      <td>Athletics</td>\n      <td>Men</td>\n      <td>Bronze</td>\n    </tr>\n    <tr>\n      <th>LOUIS, Spyridon</th>\n      <td>Athens</td>\n      <td>Athletics</td>\n      <td>Men</td>\n      <td>Gold</td>\n    </tr>\n    <tr>\n      <th>VASILAKOS, Kharilaos</th>\n      <td>Athens</td>\n      <td>Athletics</td>\n      <td>Men</td>\n      <td>Silver</td>\n    </tr>\n    <tr>\n      <th>DAMASKOS, Evangelos</th>\n      <td>Athens</td>\n      <td>Athletics</td>\n      <td>Men</td>\n      <td>Bronze</td>\n    </tr>\n  </tbody>\n</table>\n</div>"
     },
     "execution_count": 31,
     "metadata": {},
     "output_type": "execute_result"
    }
   ],
   "source": [
    "summer.iloc[34:39, [1, 2, 5, 7]]"
   ],
   "metadata": {
    "collapsed": false,
    "pycharm": {
     "name": "#%%\n"
    }
   }
  },
  {
   "cell_type": "code",
   "execution_count": 32,
   "outputs": [
    {
     "data": {
      "text/plain": "                             City      Sport Gender   Medal\nAthlete                                                    \nHAJOS, Alfred              Athens   Aquatics    Men    Gold\nHERSCHMANN, Otto           Athens   Aquatics    Men  Silver\nDRIVAS, Dimitrios          Athens   Aquatics    Men  Bronze\nMALOKINIS, Ioannis         Athens   Aquatics    Men    Gold\nCHASAPIS, Spiridon         Athens   Aquatics    Men  Silver\n...                           ...        ...    ...     ...\nJANIKOWSKI, Damian         London  Wrestling    Men  Bronze\nREZAEI, Ghasem Gholamreza  London  Wrestling    Men    Gold\nTOTROV, Rustam             London  Wrestling    Men  Silver\nALEKSANYAN, Artur          London  Wrestling    Men  Bronze\nLIDBERG, Jimmy             London  Wrestling    Men  Bronze\n\n[31165 rows x 4 columns]",
      "text/html": "<div>\n<style scoped>\n    .dataframe tbody tr th:only-of-type {\n        vertical-align: middle;\n    }\n\n    .dataframe tbody tr th {\n        vertical-align: top;\n    }\n\n    .dataframe thead th {\n        text-align: right;\n    }\n</style>\n<table border=\"1\" class=\"dataframe\">\n  <thead>\n    <tr style=\"text-align: right;\">\n      <th></th>\n      <th>City</th>\n      <th>Sport</th>\n      <th>Gender</th>\n      <th>Medal</th>\n    </tr>\n    <tr>\n      <th>Athlete</th>\n      <th></th>\n      <th></th>\n      <th></th>\n      <th></th>\n    </tr>\n  </thead>\n  <tbody>\n    <tr>\n      <th>HAJOS, Alfred</th>\n      <td>Athens</td>\n      <td>Aquatics</td>\n      <td>Men</td>\n      <td>Gold</td>\n    </tr>\n    <tr>\n      <th>HERSCHMANN, Otto</th>\n      <td>Athens</td>\n      <td>Aquatics</td>\n      <td>Men</td>\n      <td>Silver</td>\n    </tr>\n    <tr>\n      <th>DRIVAS, Dimitrios</th>\n      <td>Athens</td>\n      <td>Aquatics</td>\n      <td>Men</td>\n      <td>Bronze</td>\n    </tr>\n    <tr>\n      <th>MALOKINIS, Ioannis</th>\n      <td>Athens</td>\n      <td>Aquatics</td>\n      <td>Men</td>\n      <td>Gold</td>\n    </tr>\n    <tr>\n      <th>CHASAPIS, Spiridon</th>\n      <td>Athens</td>\n      <td>Aquatics</td>\n      <td>Men</td>\n      <td>Silver</td>\n    </tr>\n    <tr>\n      <th>...</th>\n      <td>...</td>\n      <td>...</td>\n      <td>...</td>\n      <td>...</td>\n    </tr>\n    <tr>\n      <th>JANIKOWSKI, Damian</th>\n      <td>London</td>\n      <td>Wrestling</td>\n      <td>Men</td>\n      <td>Bronze</td>\n    </tr>\n    <tr>\n      <th>REZAEI, Ghasem Gholamreza</th>\n      <td>London</td>\n      <td>Wrestling</td>\n      <td>Men</td>\n      <td>Gold</td>\n    </tr>\n    <tr>\n      <th>TOTROV, Rustam</th>\n      <td>London</td>\n      <td>Wrestling</td>\n      <td>Men</td>\n      <td>Silver</td>\n    </tr>\n    <tr>\n      <th>ALEKSANYAN, Artur</th>\n      <td>London</td>\n      <td>Wrestling</td>\n      <td>Men</td>\n      <td>Bronze</td>\n    </tr>\n    <tr>\n      <th>LIDBERG, Jimmy</th>\n      <td>London</td>\n      <td>Wrestling</td>\n      <td>Men</td>\n      <td>Bronze</td>\n    </tr>\n  </tbody>\n</table>\n<p>31165 rows × 4 columns</p>\n</div>"
     },
     "execution_count": 32,
     "metadata": {},
     "output_type": "execute_result"
    }
   ],
   "source": [
    "summer.iloc[:, [1, 2, 5, 7]]"
   ],
   "metadata": {
    "collapsed": false,
    "pycharm": {
     "name": "#%%\n"
    }
   }
  },
  {
   "cell_type": "code",
   "execution_count": 33,
   "outputs": [
    {
     "data": {
      "text/plain": "True"
     },
     "execution_count": 33,
     "metadata": {},
     "output_type": "execute_result"
    }
   ],
   "source": [
    "summer.iloc[:, 4].equals(summer.Country)"
   ],
   "metadata": {
    "collapsed": false,
    "pycharm": {
     "name": "#%%\n"
    }
   }
  },
  {
   "cell_type": "code",
   "execution_count": 34,
   "outputs": [
    {
     "data": {
      "text/plain": "Year                                1896\nCity                              Athens\nSport                           Aquatics\nDiscipline                      Swimming\nCountry                              GRE\nGender                               Men\nEvent         100M Freestyle For Sailors\nMedal                             Bronze\nName: DRIVAS, Dimitrios, dtype: object"
     },
     "execution_count": 34,
     "metadata": {},
     "output_type": "execute_result"
    }
   ],
   "source": [
    "summer.iloc[2]"
   ],
   "metadata": {
    "collapsed": false,
    "pycharm": {
     "name": "#%%\n"
    }
   }
  },
  {
   "cell_type": "code",
   "execution_count": 35,
   "outputs": [
    {
     "data": {
      "text/plain": "Year                                1896\nCity                              Athens\nSport                           Aquatics\nDiscipline                      Swimming\nCountry                              GRE\nGender                               Men\nEvent         100M Freestyle For Sailors\nMedal                             Bronze\nName: DRIVAS, Dimitrios, dtype: object"
     },
     "execution_count": 35,
     "metadata": {},
     "output_type": "execute_result"
    }
   ],
   "source": [
    "summer.loc['DRIVAS, Dimitrios']"
   ],
   "metadata": {
    "collapsed": false,
    "pycharm": {
     "name": "#%%\n"
    }
   }
  },
  {
   "cell_type": "code",
   "execution_count": 36,
   "outputs": [
    {
     "data": {
      "text/plain": "                  Medal                   Event\nAthlete                                        \nPHELPS, Michael    Gold          100M Butterfly\nPHELPS, Michael    Gold          200M Butterfly\nPHELPS, Michael  Bronze          200M Freestyle\nPHELPS, Michael    Gold  200M Individual Medley\nPHELPS, Michael    Gold  400M Individual Medley\nPHELPS, Michael  Bronze  4X100M Freestyle Relay\nPHELPS, Michael    Gold     4X100M Medley Relay\nPHELPS, Michael    Gold  4X200M Freestyle Relay\nPHELPS, Michael    Gold          100M Butterfly\nPHELPS, Michael    Gold          200M Butterfly\nPHELPS, Michael    Gold          200M Freestyle\nPHELPS, Michael    Gold  200M Individual Medley\nPHELPS, Michael    Gold  400M Individual Medley\nPHELPS, Michael    Gold  4X100M Freestyle Relay\nPHELPS, Michael    Gold     4X100M Medley Relay\nPHELPS, Michael    Gold  4X200M Freestyle Relay\nPHELPS, Michael    Gold          100M Butterfly\nPHELPS, Michael  Silver          200M Butterfly\nPHELPS, Michael    Gold             200M Medley\nPHELPS, Michael  Silver        4X100M Freestyle\nPHELPS, Michael    Gold           4X100M Medley\nPHELPS, Michael    Gold        4X200M Freestyle",
      "text/html": "<div>\n<style scoped>\n    .dataframe tbody tr th:only-of-type {\n        vertical-align: middle;\n    }\n\n    .dataframe tbody tr th {\n        vertical-align: top;\n    }\n\n    .dataframe thead th {\n        text-align: right;\n    }\n</style>\n<table border=\"1\" class=\"dataframe\">\n  <thead>\n    <tr style=\"text-align: right;\">\n      <th></th>\n      <th>Medal</th>\n      <th>Event</th>\n    </tr>\n    <tr>\n      <th>Athlete</th>\n      <th></th>\n      <th></th>\n    </tr>\n  </thead>\n  <tbody>\n    <tr>\n      <th>PHELPS, Michael</th>\n      <td>Gold</td>\n      <td>100M Butterfly</td>\n    </tr>\n    <tr>\n      <th>PHELPS, Michael</th>\n      <td>Gold</td>\n      <td>200M Butterfly</td>\n    </tr>\n    <tr>\n      <th>PHELPS, Michael</th>\n      <td>Bronze</td>\n      <td>200M Freestyle</td>\n    </tr>\n    <tr>\n      <th>PHELPS, Michael</th>\n      <td>Gold</td>\n      <td>200M Individual Medley</td>\n    </tr>\n    <tr>\n      <th>PHELPS, Michael</th>\n      <td>Gold</td>\n      <td>400M Individual Medley</td>\n    </tr>\n    <tr>\n      <th>PHELPS, Michael</th>\n      <td>Bronze</td>\n      <td>4X100M Freestyle Relay</td>\n    </tr>\n    <tr>\n      <th>PHELPS, Michael</th>\n      <td>Gold</td>\n      <td>4X100M Medley Relay</td>\n    </tr>\n    <tr>\n      <th>PHELPS, Michael</th>\n      <td>Gold</td>\n      <td>4X200M Freestyle Relay</td>\n    </tr>\n    <tr>\n      <th>PHELPS, Michael</th>\n      <td>Gold</td>\n      <td>100M Butterfly</td>\n    </tr>\n    <tr>\n      <th>PHELPS, Michael</th>\n      <td>Gold</td>\n      <td>200M Butterfly</td>\n    </tr>\n    <tr>\n      <th>PHELPS, Michael</th>\n      <td>Gold</td>\n      <td>200M Freestyle</td>\n    </tr>\n    <tr>\n      <th>PHELPS, Michael</th>\n      <td>Gold</td>\n      <td>200M Individual Medley</td>\n    </tr>\n    <tr>\n      <th>PHELPS, Michael</th>\n      <td>Gold</td>\n      <td>400M Individual Medley</td>\n    </tr>\n    <tr>\n      <th>PHELPS, Michael</th>\n      <td>Gold</td>\n      <td>4X100M Freestyle Relay</td>\n    </tr>\n    <tr>\n      <th>PHELPS, Michael</th>\n      <td>Gold</td>\n      <td>4X100M Medley Relay</td>\n    </tr>\n    <tr>\n      <th>PHELPS, Michael</th>\n      <td>Gold</td>\n      <td>4X200M Freestyle Relay</td>\n    </tr>\n    <tr>\n      <th>PHELPS, Michael</th>\n      <td>Gold</td>\n      <td>100M Butterfly</td>\n    </tr>\n    <tr>\n      <th>PHELPS, Michael</th>\n      <td>Silver</td>\n      <td>200M Butterfly</td>\n    </tr>\n    <tr>\n      <th>PHELPS, Michael</th>\n      <td>Gold</td>\n      <td>200M Medley</td>\n    </tr>\n    <tr>\n      <th>PHELPS, Michael</th>\n      <td>Silver</td>\n      <td>4X100M Freestyle</td>\n    </tr>\n    <tr>\n      <th>PHELPS, Michael</th>\n      <td>Gold</td>\n      <td>4X100M Medley</td>\n    </tr>\n    <tr>\n      <th>PHELPS, Michael</th>\n      <td>Gold</td>\n      <td>4X200M Freestyle</td>\n    </tr>\n  </tbody>\n</table>\n</div>"
     },
     "execution_count": 36,
     "metadata": {},
     "output_type": "execute_result"
    }
   ],
   "source": [
    "summer.loc['PHELPS, Michael', ['Medal', 'Event']]"
   ],
   "metadata": {
    "collapsed": false,
    "pycharm": {
     "name": "#%%\n"
    }
   }
  },
  {
   "cell_type": "code",
   "execution_count": 37,
   "outputs": [
    {
     "data": {
      "text/plain": "                            Medal                       Event\nAthlete                                                      \nHAJOS, Alfred                Gold              100M Freestyle\nHERSCHMANN, Otto           Silver              100M Freestyle\nDRIVAS, Dimitrios          Bronze  100M Freestyle For Sailors\nMALOKINIS, Ioannis           Gold  100M Freestyle For Sailors\nCHASAPIS, Spiridon         Silver  100M Freestyle For Sailors\n...                           ...                         ...\nJANIKOWSKI, Damian         Bronze                    Wg 84 KG\nREZAEI, Ghasem Gholamreza    Gold                    Wg 96 KG\nTOTROV, Rustam             Silver                    Wg 96 KG\nALEKSANYAN, Artur          Bronze                    Wg 96 KG\nLIDBERG, Jimmy             Bronze                    Wg 96 KG\n\n[31165 rows x 2 columns]",
      "text/html": "<div>\n<style scoped>\n    .dataframe tbody tr th:only-of-type {\n        vertical-align: middle;\n    }\n\n    .dataframe tbody tr th {\n        vertical-align: top;\n    }\n\n    .dataframe thead th {\n        text-align: right;\n    }\n</style>\n<table border=\"1\" class=\"dataframe\">\n  <thead>\n    <tr style=\"text-align: right;\">\n      <th></th>\n      <th>Medal</th>\n      <th>Event</th>\n    </tr>\n    <tr>\n      <th>Athlete</th>\n      <th></th>\n      <th></th>\n    </tr>\n  </thead>\n  <tbody>\n    <tr>\n      <th>HAJOS, Alfred</th>\n      <td>Gold</td>\n      <td>100M Freestyle</td>\n    </tr>\n    <tr>\n      <th>HERSCHMANN, Otto</th>\n      <td>Silver</td>\n      <td>100M Freestyle</td>\n    </tr>\n    <tr>\n      <th>DRIVAS, Dimitrios</th>\n      <td>Bronze</td>\n      <td>100M Freestyle For Sailors</td>\n    </tr>\n    <tr>\n      <th>MALOKINIS, Ioannis</th>\n      <td>Gold</td>\n      <td>100M Freestyle For Sailors</td>\n    </tr>\n    <tr>\n      <th>CHASAPIS, Spiridon</th>\n      <td>Silver</td>\n      <td>100M Freestyle For Sailors</td>\n    </tr>\n    <tr>\n      <th>...</th>\n      <td>...</td>\n      <td>...</td>\n    </tr>\n    <tr>\n      <th>JANIKOWSKI, Damian</th>\n      <td>Bronze</td>\n      <td>Wg 84 KG</td>\n    </tr>\n    <tr>\n      <th>REZAEI, Ghasem Gholamreza</th>\n      <td>Gold</td>\n      <td>Wg 96 KG</td>\n    </tr>\n    <tr>\n      <th>TOTROV, Rustam</th>\n      <td>Silver</td>\n      <td>Wg 96 KG</td>\n    </tr>\n    <tr>\n      <th>ALEKSANYAN, Artur</th>\n      <td>Bronze</td>\n      <td>Wg 96 KG</td>\n    </tr>\n    <tr>\n      <th>LIDBERG, Jimmy</th>\n      <td>Bronze</td>\n      <td>Wg 96 KG</td>\n    </tr>\n  </tbody>\n</table>\n<p>31165 rows × 2 columns</p>\n</div>"
     },
     "execution_count": 37,
     "metadata": {},
     "output_type": "execute_result"
    }
   ],
   "source": [
    "summer.loc[:, ['Medal', 'Event']]"
   ],
   "metadata": {
    "collapsed": false,
    "pycharm": {
     "name": "#%%\n"
    }
   }
  },
  {
   "cell_type": "code",
   "execution_count": 38,
   "outputs": [],
   "source": [
    "# error because of the index not being unique\n",
    "# summer.loc[:'PHELPS, Michael', 'Medal']"
   ],
   "metadata": {
    "collapsed": false,
    "pycharm": {
     "name": "#%%\n"
    }
   }
  },
  {
   "cell_type": "code",
   "execution_count": 39,
   "outputs": [
    {
     "data": {
      "text/plain": "Athlete\nHAJOS, Alfred                  Gold\nHERSCHMANN, Otto             Silver\nDRIVAS, Dimitrios            Bronze\nMALOKINIS, Ioannis             Gold\nCHASAPIS, Spiridon           Silver\n                              ...  \nJANIKOWSKI, Damian           Bronze\nREZAEI, Ghasem Gholamreza      Gold\nTOTROV, Rustam               Silver\nALEKSANYAN, Artur            Bronze\nLIDBERG, Jimmy               Bronze\nName: Medal, Length: 31165, dtype: object"
     },
     "execution_count": 39,
     "metadata": {},
     "output_type": "execute_result"
    }
   ],
   "source": [
    "summer.loc[:, 'Medal']"
   ],
   "metadata": {
    "collapsed": false,
    "pycharm": {
     "name": "#%%\n"
    }
   }
  },
  {
   "cell_type": "code",
   "execution_count": 40,
   "outputs": [
    {
     "data": {
      "text/plain": "True"
     },
     "execution_count": 40,
     "metadata": {},
     "output_type": "execute_result"
    }
   ],
   "source": [
    "summer.loc[:, 'Medal'].equals(summer.Medal)"
   ],
   "metadata": {
    "collapsed": false,
    "pycharm": {
     "name": "#%%\n"
    }
   }
  },
  {
   "cell_type": "markdown",
   "source": [
    "### indexing"
   ],
   "metadata": {
    "collapsed": false,
    "pycharm": {
     "name": "#%% md\n"
    }
   }
  },
  {
   "cell_type": "code",
   "execution_count": 41,
   "outputs": [],
   "source": [
    "summer = pd.read_csv('data/summer.csv')"
   ],
   "metadata": {
    "collapsed": false,
    "pycharm": {
     "name": "#%%\n"
    }
   }
  },
  {
   "cell_type": "code",
   "execution_count": 42,
   "outputs": [
    {
     "data": {
      "text/plain": "       Medal            Event\n0       Gold   100M Freestyle\n5     Bronze  1200M Freestyle\n3000  Silver     110M Hurdles",
      "text/html": "<div>\n<style scoped>\n    .dataframe tbody tr th:only-of-type {\n        vertical-align: middle;\n    }\n\n    .dataframe tbody tr th {\n        vertical-align: top;\n    }\n\n    .dataframe thead th {\n        text-align: right;\n    }\n</style>\n<table border=\"1\" class=\"dataframe\">\n  <thead>\n    <tr style=\"text-align: right;\">\n      <th></th>\n      <th>Medal</th>\n      <th>Event</th>\n    </tr>\n  </thead>\n  <tbody>\n    <tr>\n      <th>0</th>\n      <td>Gold</td>\n      <td>100M Freestyle</td>\n    </tr>\n    <tr>\n      <th>5</th>\n      <td>Bronze</td>\n      <td>1200M Freestyle</td>\n    </tr>\n    <tr>\n      <th>3000</th>\n      <td>Silver</td>\n      <td>110M Hurdles</td>\n    </tr>\n  </tbody>\n</table>\n</div>"
     },
     "execution_count": 42,
     "metadata": {},
     "output_type": "execute_result"
    }
   ],
   "source": [
    "summer.loc[[0,5,3000], ['Medal', 'Event']]\n",
    "# error because 40000 is not in the index\n",
    "# summer.loc[[0,5,40000], ['Medal', 'Event']]"
   ],
   "metadata": {
    "collapsed": false,
    "pycharm": {
     "name": "#%%\n"
    }
   }
  },
  {
   "cell_type": "code",
   "execution_count": 43,
   "outputs": [
    {
     "name": "stderr",
     "output_type": "stream",
     "text": [
      "C:\\Users\\Langl\\AppData\\Local\\Temp\\ipykernel_22332\\855377411.py:1: FutureWarning: Interpreting call\n",
      "\t'.reindex(a, b)' as \n",
      "\t'.reindex(index=a, columns=b)'.\n",
      "Use named arguments to remove any ambiguity. In the future, using positional arguments for 'index' or 'columns' will raise a 'TypeError'.\n",
      "  summer.reindex([0,5,40000], ['Medal', 'Event', 'Age'])\n"
     ]
    },
    {
     "data": {
      "text/plain": "        Medal            Event  Age\n0        Gold   100M Freestyle  NaN\n5      Bronze  1200M Freestyle  NaN\n40000     NaN              NaN  NaN",
      "text/html": "<div>\n<style scoped>\n    .dataframe tbody tr th:only-of-type {\n        vertical-align: middle;\n    }\n\n    .dataframe tbody tr th {\n        vertical-align: top;\n    }\n\n    .dataframe thead th {\n        text-align: right;\n    }\n</style>\n<table border=\"1\" class=\"dataframe\">\n  <thead>\n    <tr style=\"text-align: right;\">\n      <th></th>\n      <th>Medal</th>\n      <th>Event</th>\n      <th>Age</th>\n    </tr>\n  </thead>\n  <tbody>\n    <tr>\n      <th>0</th>\n      <td>Gold</td>\n      <td>100M Freestyle</td>\n      <td>NaN</td>\n    </tr>\n    <tr>\n      <th>5</th>\n      <td>Bronze</td>\n      <td>1200M Freestyle</td>\n      <td>NaN</td>\n    </tr>\n    <tr>\n      <th>40000</th>\n      <td>NaN</td>\n      <td>NaN</td>\n      <td>NaN</td>\n    </tr>\n  </tbody>\n</table>\n</div>"
     },
     "execution_count": 43,
     "metadata": {},
     "output_type": "execute_result"
    }
   ],
   "source": [
    "summer.reindex([0,5,40000], ['Medal', 'Event', 'Age'])"
   ],
   "metadata": {
    "collapsed": false,
    "pycharm": {
     "name": "#%%\n"
    }
   }
  },
  {
   "cell_type": "code",
   "execution_count": 44,
   "outputs": [],
   "source": [
    "summer.set_index('Athlete', inplace=True)"
   ],
   "metadata": {
    "collapsed": false,
    "pycharm": {
     "name": "#%%\n"
    }
   }
  },
  {
   "cell_type": "code",
   "execution_count": 45,
   "outputs": [],
   "source": [
    "# error because the index is not unique\n",
    "# summer.reindex([0,5,40000], ['Medal', 'Event', 'Age'])"
   ],
   "metadata": {
    "collapsed": false,
    "pycharm": {
     "name": "#%%\n"
    }
   }
  },
  {
   "cell_type": "code",
   "execution_count": 48,
   "outputs": [
    {
     "data": {
      "text/plain": "Year         2012\nMedal      Bronze\nEvent    Wg 84 KG\nName: JANIKOWSKI, Damian, dtype: object"
     },
     "execution_count": 48,
     "metadata": {},
     "output_type": "execute_result"
    }
   ],
   "source": [
    "summer[['Year', 'Medal', 'Event']].loc['JANIKOWSKI, Damian']"
   ],
   "metadata": {
    "collapsed": false,
    "pycharm": {
     "name": "#%%\n"
    }
   }
  },
  {
   "cell_type": "markdown",
   "source": [
    "### Advanced"
   ],
   "metadata": {
    "collapsed": false,
    "pycharm": {
     "name": "#%% md\n"
    }
   }
  },
  {
   "cell_type": "code",
   "execution_count": 49,
   "outputs": [
    {
     "data": {
      "text/plain": "                      Year      City     Sport Discipline Country Gender  \\\nAthlete                                                                    \nHAJOS, Alfred         1896    Athens  Aquatics   Swimming     HUN    Men   \nHERSCHMANN, Otto      1896    Athens  Aquatics   Swimming     AUT    Men   \nDRIVAS, Dimitrios     1896    Athens  Aquatics   Swimming     GRE    Men   \nMALOKINIS, Ioannis    1896    Athens  Aquatics   Swimming     GRE    Men   \nCHASAPIS, Spiridon    1896    Athens  Aquatics   Swimming     GRE    Men   \nKISS, Geza            1904  St Louis  Aquatics   Swimming     HUN    Men   \nPHRANGOUDIS, Joannis  1896    Athens  Shooting   Shooting     GRE    Men   \n\n                                           Event   Medal  \nAthlete                                                   \nHAJOS, Alfred                     100M Freestyle    Gold  \nHERSCHMANN, Otto                  100M Freestyle  Silver  \nDRIVAS, Dimitrios     100M Freestyle For Sailors  Bronze  \nMALOKINIS, Ioannis    100M Freestyle For Sailors    Gold  \nCHASAPIS, Spiridon    100M Freestyle For Sailors  Silver  \nKISS, Geza                       1500M Freestyle  Silver  \nPHRANGOUDIS, Joannis       50M Pistol (60 Shots)  Bronze  ",
      "text/html": "<div>\n<style scoped>\n    .dataframe tbody tr th:only-of-type {\n        vertical-align: middle;\n    }\n\n    .dataframe tbody tr th {\n        vertical-align: top;\n    }\n\n    .dataframe thead th {\n        text-align: right;\n    }\n</style>\n<table border=\"1\" class=\"dataframe\">\n  <thead>\n    <tr style=\"text-align: right;\">\n      <th></th>\n      <th>Year</th>\n      <th>City</th>\n      <th>Sport</th>\n      <th>Discipline</th>\n      <th>Country</th>\n      <th>Gender</th>\n      <th>Event</th>\n      <th>Medal</th>\n    </tr>\n    <tr>\n      <th>Athlete</th>\n      <th></th>\n      <th></th>\n      <th></th>\n      <th></th>\n      <th></th>\n      <th></th>\n      <th></th>\n      <th></th>\n    </tr>\n  </thead>\n  <tbody>\n    <tr>\n      <th>HAJOS, Alfred</th>\n      <td>1896</td>\n      <td>Athens</td>\n      <td>Aquatics</td>\n      <td>Swimming</td>\n      <td>HUN</td>\n      <td>Men</td>\n      <td>100M Freestyle</td>\n      <td>Gold</td>\n    </tr>\n    <tr>\n      <th>HERSCHMANN, Otto</th>\n      <td>1896</td>\n      <td>Athens</td>\n      <td>Aquatics</td>\n      <td>Swimming</td>\n      <td>AUT</td>\n      <td>Men</td>\n      <td>100M Freestyle</td>\n      <td>Silver</td>\n    </tr>\n    <tr>\n      <th>DRIVAS, Dimitrios</th>\n      <td>1896</td>\n      <td>Athens</td>\n      <td>Aquatics</td>\n      <td>Swimming</td>\n      <td>GRE</td>\n      <td>Men</td>\n      <td>100M Freestyle For Sailors</td>\n      <td>Bronze</td>\n    </tr>\n    <tr>\n      <th>MALOKINIS, Ioannis</th>\n      <td>1896</td>\n      <td>Athens</td>\n      <td>Aquatics</td>\n      <td>Swimming</td>\n      <td>GRE</td>\n      <td>Men</td>\n      <td>100M Freestyle For Sailors</td>\n      <td>Gold</td>\n    </tr>\n    <tr>\n      <th>CHASAPIS, Spiridon</th>\n      <td>1896</td>\n      <td>Athens</td>\n      <td>Aquatics</td>\n      <td>Swimming</td>\n      <td>GRE</td>\n      <td>Men</td>\n      <td>100M Freestyle For Sailors</td>\n      <td>Silver</td>\n    </tr>\n    <tr>\n      <th>KISS, Geza</th>\n      <td>1904</td>\n      <td>St Louis</td>\n      <td>Aquatics</td>\n      <td>Swimming</td>\n      <td>HUN</td>\n      <td>Men</td>\n      <td>1500M Freestyle</td>\n      <td>Silver</td>\n    </tr>\n    <tr>\n      <th>PHRANGOUDIS, Joannis</th>\n      <td>1896</td>\n      <td>Athens</td>\n      <td>Shooting</td>\n      <td>Shooting</td>\n      <td>GRE</td>\n      <td>Men</td>\n      <td>50M Pistol (60 Shots)</td>\n      <td>Bronze</td>\n    </tr>\n  </tbody>\n</table>\n</div>"
     },
     "execution_count": 49,
     "metadata": {},
     "output_type": "execute_result"
    }
   ],
   "source": [
    "# getting first 5 rows and 678, 123\n",
    "row =list(range(5)) + [678,123]\n",
    "summer.iloc[row]"
   ],
   "metadata": {
    "collapsed": false,
    "pycharm": {
     "name": "#%%\n"
    }
   }
  },
  {
   "cell_type": "code",
   "execution_count": 54,
   "outputs": [
    {
     "data": {
      "text/plain": "                           Year    City      Sport Gender\nAthlete                                                  \nHAJOS, Alfred              1896  Athens   Aquatics    Men\nHERSCHMANN, Otto           1896  Athens   Aquatics    Men\nDRIVAS, Dimitrios          1896  Athens   Aquatics    Men\nMALOKINIS, Ioannis         1896  Athens   Aquatics    Men\nCHASAPIS, Spiridon         1896  Athens   Aquatics    Men\n...                         ...     ...        ...    ...\nJANIKOWSKI, Damian         2012  London  Wrestling    Men\nREZAEI, Ghasem Gholamreza  2012  London  Wrestling    Men\nTOTROV, Rustam             2012  London  Wrestling    Men\nALEKSANYAN, Artur          2012  London  Wrestling    Men\nLIDBERG, Jimmy             2012  London  Wrestling    Men\n\n[31165 rows x 4 columns]",
      "text/html": "<div>\n<style scoped>\n    .dataframe tbody tr th:only-of-type {\n        vertical-align: middle;\n    }\n\n    .dataframe tbody tr th {\n        vertical-align: top;\n    }\n\n    .dataframe thead th {\n        text-align: right;\n    }\n</style>\n<table border=\"1\" class=\"dataframe\">\n  <thead>\n    <tr style=\"text-align: right;\">\n      <th></th>\n      <th>Year</th>\n      <th>City</th>\n      <th>Sport</th>\n      <th>Gender</th>\n    </tr>\n    <tr>\n      <th>Athlete</th>\n      <th></th>\n      <th></th>\n      <th></th>\n      <th></th>\n    </tr>\n  </thead>\n  <tbody>\n    <tr>\n      <th>HAJOS, Alfred</th>\n      <td>1896</td>\n      <td>Athens</td>\n      <td>Aquatics</td>\n      <td>Men</td>\n    </tr>\n    <tr>\n      <th>HERSCHMANN, Otto</th>\n      <td>1896</td>\n      <td>Athens</td>\n      <td>Aquatics</td>\n      <td>Men</td>\n    </tr>\n    <tr>\n      <th>DRIVAS, Dimitrios</th>\n      <td>1896</td>\n      <td>Athens</td>\n      <td>Aquatics</td>\n      <td>Men</td>\n    </tr>\n    <tr>\n      <th>MALOKINIS, Ioannis</th>\n      <td>1896</td>\n      <td>Athens</td>\n      <td>Aquatics</td>\n      <td>Men</td>\n    </tr>\n    <tr>\n      <th>CHASAPIS, Spiridon</th>\n      <td>1896</td>\n      <td>Athens</td>\n      <td>Aquatics</td>\n      <td>Men</td>\n    </tr>\n    <tr>\n      <th>...</th>\n      <td>...</td>\n      <td>...</td>\n      <td>...</td>\n      <td>...</td>\n    </tr>\n    <tr>\n      <th>JANIKOWSKI, Damian</th>\n      <td>2012</td>\n      <td>London</td>\n      <td>Wrestling</td>\n      <td>Men</td>\n    </tr>\n    <tr>\n      <th>REZAEI, Ghasem Gholamreza</th>\n      <td>2012</td>\n      <td>London</td>\n      <td>Wrestling</td>\n      <td>Men</td>\n    </tr>\n    <tr>\n      <th>TOTROV, Rustam</th>\n      <td>2012</td>\n      <td>London</td>\n      <td>Wrestling</td>\n      <td>Men</td>\n    </tr>\n    <tr>\n      <th>ALEKSANYAN, Artur</th>\n      <td>2012</td>\n      <td>London</td>\n      <td>Wrestling</td>\n      <td>Men</td>\n    </tr>\n    <tr>\n      <th>LIDBERG, Jimmy</th>\n      <td>2012</td>\n      <td>London</td>\n      <td>Wrestling</td>\n      <td>Men</td>\n    </tr>\n  </tbody>\n</table>\n<p>31165 rows × 4 columns</p>\n</div>"
     },
     "execution_count": 54,
     "metadata": {},
     "output_type": "execute_result"
    }
   ],
   "source": [
    "# getting first 3 columns and Gender col\n",
    "col = summer.columns[:3].to_list() + ['Gender']\n",
    "summer.loc[:,col]"
   ],
   "metadata": {
    "collapsed": false,
    "pycharm": {
     "name": "#%%\n"
    }
   }
  },
  {
   "cell_type": "code",
   "execution_count": 55,
   "outputs": [
    {
     "data": {
      "text/plain": "                 Year     City     Sport Gender\nAthlete                                        \nPHELPS, Michael  2004   Athens  Aquatics    Men\nPHELPS, Michael  2004   Athens  Aquatics    Men\nPHELPS, Michael  2004   Athens  Aquatics    Men\nPHELPS, Michael  2004   Athens  Aquatics    Men\nPHELPS, Michael  2004   Athens  Aquatics    Men\nPHELPS, Michael  2004   Athens  Aquatics    Men\nPHELPS, Michael  2004   Athens  Aquatics    Men\nPHELPS, Michael  2004   Athens  Aquatics    Men\nPHELPS, Michael  2008  Beijing  Aquatics    Men\nPHELPS, Michael  2008  Beijing  Aquatics    Men\nPHELPS, Michael  2008  Beijing  Aquatics    Men\nPHELPS, Michael  2008  Beijing  Aquatics    Men\nPHELPS, Michael  2008  Beijing  Aquatics    Men\nPHELPS, Michael  2008  Beijing  Aquatics    Men\nPHELPS, Michael  2008  Beijing  Aquatics    Men\nPHELPS, Michael  2008  Beijing  Aquatics    Men\nPHELPS, Michael  2012   London  Aquatics    Men\nPHELPS, Michael  2012   London  Aquatics    Men\nPHELPS, Michael  2012   London  Aquatics    Men\nPHELPS, Michael  2012   London  Aquatics    Men\nPHELPS, Michael  2012   London  Aquatics    Men\nPHELPS, Michael  2012   London  Aquatics    Men",
      "text/html": "<div>\n<style scoped>\n    .dataframe tbody tr th:only-of-type {\n        vertical-align: middle;\n    }\n\n    .dataframe tbody tr th {\n        vertical-align: top;\n    }\n\n    .dataframe thead th {\n        text-align: right;\n    }\n</style>\n<table border=\"1\" class=\"dataframe\">\n  <thead>\n    <tr style=\"text-align: right;\">\n      <th></th>\n      <th>Year</th>\n      <th>City</th>\n      <th>Sport</th>\n      <th>Gender</th>\n    </tr>\n    <tr>\n      <th>Athlete</th>\n      <th></th>\n      <th></th>\n      <th></th>\n      <th></th>\n    </tr>\n  </thead>\n  <tbody>\n    <tr>\n      <th>PHELPS, Michael</th>\n      <td>2004</td>\n      <td>Athens</td>\n      <td>Aquatics</td>\n      <td>Men</td>\n    </tr>\n    <tr>\n      <th>PHELPS, Michael</th>\n      <td>2004</td>\n      <td>Athens</td>\n      <td>Aquatics</td>\n      <td>Men</td>\n    </tr>\n    <tr>\n      <th>PHELPS, Michael</th>\n      <td>2004</td>\n      <td>Athens</td>\n      <td>Aquatics</td>\n      <td>Men</td>\n    </tr>\n    <tr>\n      <th>PHELPS, Michael</th>\n      <td>2004</td>\n      <td>Athens</td>\n      <td>Aquatics</td>\n      <td>Men</td>\n    </tr>\n    <tr>\n      <th>PHELPS, Michael</th>\n      <td>2004</td>\n      <td>Athens</td>\n      <td>Aquatics</td>\n      <td>Men</td>\n    </tr>\n    <tr>\n      <th>PHELPS, Michael</th>\n      <td>2004</td>\n      <td>Athens</td>\n      <td>Aquatics</td>\n      <td>Men</td>\n    </tr>\n    <tr>\n      <th>PHELPS, Michael</th>\n      <td>2004</td>\n      <td>Athens</td>\n      <td>Aquatics</td>\n      <td>Men</td>\n    </tr>\n    <tr>\n      <th>PHELPS, Michael</th>\n      <td>2004</td>\n      <td>Athens</td>\n      <td>Aquatics</td>\n      <td>Men</td>\n    </tr>\n    <tr>\n      <th>PHELPS, Michael</th>\n      <td>2008</td>\n      <td>Beijing</td>\n      <td>Aquatics</td>\n      <td>Men</td>\n    </tr>\n    <tr>\n      <th>PHELPS, Michael</th>\n      <td>2008</td>\n      <td>Beijing</td>\n      <td>Aquatics</td>\n      <td>Men</td>\n    </tr>\n    <tr>\n      <th>PHELPS, Michael</th>\n      <td>2008</td>\n      <td>Beijing</td>\n      <td>Aquatics</td>\n      <td>Men</td>\n    </tr>\n    <tr>\n      <th>PHELPS, Michael</th>\n      <td>2008</td>\n      <td>Beijing</td>\n      <td>Aquatics</td>\n      <td>Men</td>\n    </tr>\n    <tr>\n      <th>PHELPS, Michael</th>\n      <td>2008</td>\n      <td>Beijing</td>\n      <td>Aquatics</td>\n      <td>Men</td>\n    </tr>\n    <tr>\n      <th>PHELPS, Michael</th>\n      <td>2008</td>\n      <td>Beijing</td>\n      <td>Aquatics</td>\n      <td>Men</td>\n    </tr>\n    <tr>\n      <th>PHELPS, Michael</th>\n      <td>2008</td>\n      <td>Beijing</td>\n      <td>Aquatics</td>\n      <td>Men</td>\n    </tr>\n    <tr>\n      <th>PHELPS, Michael</th>\n      <td>2008</td>\n      <td>Beijing</td>\n      <td>Aquatics</td>\n      <td>Men</td>\n    </tr>\n    <tr>\n      <th>PHELPS, Michael</th>\n      <td>2012</td>\n      <td>London</td>\n      <td>Aquatics</td>\n      <td>Men</td>\n    </tr>\n    <tr>\n      <th>PHELPS, Michael</th>\n      <td>2012</td>\n      <td>London</td>\n      <td>Aquatics</td>\n      <td>Men</td>\n    </tr>\n    <tr>\n      <th>PHELPS, Michael</th>\n      <td>2012</td>\n      <td>London</td>\n      <td>Aquatics</td>\n      <td>Men</td>\n    </tr>\n    <tr>\n      <th>PHELPS, Michael</th>\n      <td>2012</td>\n      <td>London</td>\n      <td>Aquatics</td>\n      <td>Men</td>\n    </tr>\n    <tr>\n      <th>PHELPS, Michael</th>\n      <td>2012</td>\n      <td>London</td>\n      <td>Aquatics</td>\n      <td>Men</td>\n    </tr>\n    <tr>\n      <th>PHELPS, Michael</th>\n      <td>2012</td>\n      <td>London</td>\n      <td>Aquatics</td>\n      <td>Men</td>\n    </tr>\n  </tbody>\n</table>\n</div>"
     },
     "execution_count": 55,
     "metadata": {},
     "output_type": "execute_result"
    }
   ],
   "source": [
    "summer.loc['PHELPS, Michael', col]"
   ],
   "metadata": {
    "collapsed": false,
    "pycharm": {
     "name": "#%%\n"
    }
   }
  }
 ],
 "metadata": {
  "kernelspec": {
   "display_name": "Python 3",
   "language": "python",
   "name": "python3"
  },
  "language_info": {
   "codemirror_mode": {
    "name": "ipython",
    "version": 2
   },
   "file_extension": ".py",
   "mimetype": "text/x-python",
   "name": "python",
   "nbconvert_exporter": "python",
   "pygments_lexer": "ipython2",
   "version": "2.7.6"
  }
 },
 "nbformat": 4,
 "nbformat_minor": 0
}