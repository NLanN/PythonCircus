{
 "cells": [
  {
   "cell_type": "markdown",
   "metadata": {
    "collapsed": true,
    "pycharm": {
     "name": "#%% md\n"
    }
   },
   "source": [
    "# Series"
   ],
   "outputs": [
    {
     "ename": "SyntaxError",
     "evalue": "invalid syntax (84456852.py, line 1)",
     "output_type": "error",
     "traceback": [
      "\u001B[1;36m  Input \u001B[1;32mIn [1]\u001B[1;36m\u001B[0m\n\u001B[1;33m    Data frame\u001B[0m\n\u001B[1;37m         ^\u001B[0m\n\u001B[1;31mSyntaxError\u001B[0m\u001B[1;31m:\u001B[0m invalid syntax\n"
     ]
    }
   ],
   "execution_count": 1
  },
  {
   "cell_type": "code",
   "execution_count": 130,
   "outputs": [],
   "source": [
    "import pandas as pd\n",
    "\n",
    "titanic = pd.read_csv('data/titanic.csv')\n"
   ],
   "metadata": {
    "collapsed": false,
    "pycharm": {
     "name": "#%%\n"
    }
   }
  },
  {
   "cell_type": "code",
   "execution_count": 131,
   "outputs": [
    {
     "data": {
      "text/plain": "     survived  pclass     sex   age  sibsp  parch     fare embarked deck\n0           0       3    male  22.0      1      0   7.2500        S  NaN\n1           1       1  female  38.0      1      0  71.2833        C    C\n2           1       3  female  26.0      0      0   7.9250        S  NaN\n3           1       1  female  35.0      1      0  53.1000        S    C\n4           0       3    male  35.0      0      0   8.0500        S  NaN\n..        ...     ...     ...   ...    ...    ...      ...      ...  ...\n886         0       2    male  27.0      0      0  13.0000        S  NaN\n887         1       1  female  19.0      0      0  30.0000        S    B\n888         0       3  female   NaN      1      2  23.4500        S  NaN\n889         1       1    male  26.0      0      0  30.0000        C    C\n890         0       3    male  32.0      0      0   7.7500        Q  NaN\n\n[891 rows x 9 columns]",
      "text/html": "<div>\n<style scoped>\n    .dataframe tbody tr th:only-of-type {\n        vertical-align: middle;\n    }\n\n    .dataframe tbody tr th {\n        vertical-align: top;\n    }\n\n    .dataframe thead th {\n        text-align: right;\n    }\n</style>\n<table border=\"1\" class=\"dataframe\">\n  <thead>\n    <tr style=\"text-align: right;\">\n      <th></th>\n      <th>survived</th>\n      <th>pclass</th>\n      <th>sex</th>\n      <th>age</th>\n      <th>sibsp</th>\n      <th>parch</th>\n      <th>fare</th>\n      <th>embarked</th>\n      <th>deck</th>\n    </tr>\n  </thead>\n  <tbody>\n    <tr>\n      <th>0</th>\n      <td>0</td>\n      <td>3</td>\n      <td>male</td>\n      <td>22.0</td>\n      <td>1</td>\n      <td>0</td>\n      <td>7.2500</td>\n      <td>S</td>\n      <td>NaN</td>\n    </tr>\n    <tr>\n      <th>1</th>\n      <td>1</td>\n      <td>1</td>\n      <td>female</td>\n      <td>38.0</td>\n      <td>1</td>\n      <td>0</td>\n      <td>71.2833</td>\n      <td>C</td>\n      <td>C</td>\n    </tr>\n    <tr>\n      <th>2</th>\n      <td>1</td>\n      <td>3</td>\n      <td>female</td>\n      <td>26.0</td>\n      <td>0</td>\n      <td>0</td>\n      <td>7.9250</td>\n      <td>S</td>\n      <td>NaN</td>\n    </tr>\n    <tr>\n      <th>3</th>\n      <td>1</td>\n      <td>1</td>\n      <td>female</td>\n      <td>35.0</td>\n      <td>1</td>\n      <td>0</td>\n      <td>53.1000</td>\n      <td>S</td>\n      <td>C</td>\n    </tr>\n    <tr>\n      <th>4</th>\n      <td>0</td>\n      <td>3</td>\n      <td>male</td>\n      <td>35.0</td>\n      <td>0</td>\n      <td>0</td>\n      <td>8.0500</td>\n      <td>S</td>\n      <td>NaN</td>\n    </tr>\n    <tr>\n      <th>...</th>\n      <td>...</td>\n      <td>...</td>\n      <td>...</td>\n      <td>...</td>\n      <td>...</td>\n      <td>...</td>\n      <td>...</td>\n      <td>...</td>\n      <td>...</td>\n    </tr>\n    <tr>\n      <th>886</th>\n      <td>0</td>\n      <td>2</td>\n      <td>male</td>\n      <td>27.0</td>\n      <td>0</td>\n      <td>0</td>\n      <td>13.0000</td>\n      <td>S</td>\n      <td>NaN</td>\n    </tr>\n    <tr>\n      <th>887</th>\n      <td>1</td>\n      <td>1</td>\n      <td>female</td>\n      <td>19.0</td>\n      <td>0</td>\n      <td>0</td>\n      <td>30.0000</td>\n      <td>S</td>\n      <td>B</td>\n    </tr>\n    <tr>\n      <th>888</th>\n      <td>0</td>\n      <td>3</td>\n      <td>female</td>\n      <td>NaN</td>\n      <td>1</td>\n      <td>2</td>\n      <td>23.4500</td>\n      <td>S</td>\n      <td>NaN</td>\n    </tr>\n    <tr>\n      <th>889</th>\n      <td>1</td>\n      <td>1</td>\n      <td>male</td>\n      <td>26.0</td>\n      <td>0</td>\n      <td>0</td>\n      <td>30.0000</td>\n      <td>C</td>\n      <td>C</td>\n    </tr>\n    <tr>\n      <th>890</th>\n      <td>0</td>\n      <td>3</td>\n      <td>male</td>\n      <td>32.0</td>\n      <td>0</td>\n      <td>0</td>\n      <td>7.7500</td>\n      <td>Q</td>\n      <td>NaN</td>\n    </tr>\n  </tbody>\n</table>\n<p>891 rows × 9 columns</p>\n</div>"
     },
     "execution_count": 131,
     "metadata": {},
     "output_type": "execute_result"
    }
   ],
   "source": [
    "titanic"
   ],
   "metadata": {
    "collapsed": false,
    "pycharm": {
     "name": "#%%\n"
    }
   }
  },
  {
   "cell_type": "code",
   "execution_count": 132,
   "outputs": [
    {
     "data": {
      "text/plain": "0    22.0\n1    38.0\n2    26.0\n3    35.0\n4    35.0\nName: age, dtype: float64"
     },
     "execution_count": 132,
     "metadata": {},
     "output_type": "execute_result"
    }
   ],
   "source": [
    "age = titanic.age\n",
    "age.head()"
   ],
   "metadata": {
    "collapsed": false,
    "pycharm": {
     "name": "#%%\n"
    }
   }
  },
  {
   "cell_type": "code",
   "execution_count": 133,
   "outputs": [
    {
     "data": {
      "text/plain": "pandas.core.series.Series"
     },
     "execution_count": 133,
     "metadata": {},
     "output_type": "execute_result"
    }
   ],
   "source": [
    "#series\n",
    "type(age)"
   ],
   "metadata": {
    "collapsed": false,
    "pycharm": {
     "name": "#%%\n"
    }
   }
  },
  {
   "cell_type": "code",
   "execution_count": 134,
   "outputs": [
    {
     "data": {
      "text/plain": "(891,)"
     },
     "execution_count": 134,
     "metadata": {},
     "output_type": "execute_result"
    }
   ],
   "source": [
    "age.shape"
   ],
   "metadata": {
    "collapsed": false,
    "pycharm": {
     "name": "#%%\n"
    }
   }
  },
  {
   "cell_type": "code",
   "execution_count": 135,
   "outputs": [
    {
     "data": {
      "text/plain": "RangeIndex(start=0, stop=891, step=1)"
     },
     "execution_count": 135,
     "metadata": {},
     "output_type": "execute_result"
    }
   ],
   "source": [
    "age.index"
   ],
   "metadata": {
    "collapsed": false,
    "pycharm": {
     "name": "#%%\n"
    }
   }
  },
  {
   "cell_type": "code",
   "execution_count": 136,
   "outputs": [
    {
     "name": "stdout",
     "output_type": "stream",
     "text": [
      "<class 'pandas.core.series.Series'>\n",
      "RangeIndex: 891 entries, 0 to 890\n",
      "Series name: age\n",
      "Non-Null Count  Dtype  \n",
      "--------------  -----  \n",
      "714 non-null    float64\n",
      "dtypes: float64(1)\n",
      "memory usage: 7.1 KB\n"
     ]
    }
   ],
   "source": [
    "age.info()"
   ],
   "metadata": {
    "collapsed": false,
    "pycharm": {
     "name": "#%%\n"
    }
   }
  },
  {
   "cell_type": "code",
   "execution_count": 137,
   "outputs": [
    {
     "data": {
      "text/plain": "      age\n0    22.0\n1    38.0\n2    26.0\n3    35.0\n4    35.0\n..    ...\n886  27.0\n887  19.0\n888   NaN\n889  26.0\n890  32.0\n\n[891 rows x 1 columns]",
      "text/html": "<div>\n<style scoped>\n    .dataframe tbody tr th:only-of-type {\n        vertical-align: middle;\n    }\n\n    .dataframe tbody tr th {\n        vertical-align: top;\n    }\n\n    .dataframe thead th {\n        text-align: right;\n    }\n</style>\n<table border=\"1\" class=\"dataframe\">\n  <thead>\n    <tr style=\"text-align: right;\">\n      <th></th>\n      <th>age</th>\n    </tr>\n  </thead>\n  <tbody>\n    <tr>\n      <th>0</th>\n      <td>22.0</td>\n    </tr>\n    <tr>\n      <th>1</th>\n      <td>38.0</td>\n    </tr>\n    <tr>\n      <th>2</th>\n      <td>26.0</td>\n    </tr>\n    <tr>\n      <th>3</th>\n      <td>35.0</td>\n    </tr>\n    <tr>\n      <th>4</th>\n      <td>35.0</td>\n    </tr>\n    <tr>\n      <th>...</th>\n      <td>...</td>\n    </tr>\n    <tr>\n      <th>886</th>\n      <td>27.0</td>\n    </tr>\n    <tr>\n      <th>887</th>\n      <td>19.0</td>\n    </tr>\n    <tr>\n      <th>888</th>\n      <td>NaN</td>\n    </tr>\n    <tr>\n      <th>889</th>\n      <td>26.0</td>\n    </tr>\n    <tr>\n      <th>890</th>\n      <td>32.0</td>\n    </tr>\n  </tbody>\n</table>\n<p>891 rows × 1 columns</p>\n</div>"
     },
     "execution_count": 137,
     "metadata": {},
     "output_type": "execute_result"
    }
   ],
   "source": [
    "age.to_frame()"
   ],
   "metadata": {
    "collapsed": false,
    "pycharm": {
     "name": "#%%\n"
    }
   }
  },
  {
   "cell_type": "code",
   "execution_count": 138,
   "outputs": [
    {
     "data": {
      "text/plain": "21205.17"
     },
     "execution_count": 138,
     "metadata": {},
     "output_type": "execute_result"
    }
   ],
   "source": [
    "age.sum()\n"
   ],
   "metadata": {
    "collapsed": false,
    "pycharm": {
     "name": "#%%\n"
    }
   }
  },
  {
   "cell_type": "code",
   "execution_count": 139,
   "outputs": [
    {
     "data": {
      "text/plain": "891"
     },
     "execution_count": 139,
     "metadata": {},
     "output_type": "execute_result"
    }
   ],
   "source": [
    "age.size"
   ],
   "metadata": {
    "collapsed": false,
    "pycharm": {
     "name": "#%%\n"
    }
   }
  },
  {
   "cell_type": "code",
   "execution_count": 140,
   "outputs": [
    {
     "data": {
      "text/plain": "891"
     },
     "execution_count": 140,
     "metadata": {},
     "output_type": "execute_result"
    }
   ],
   "source": [
    "len(age)"
   ],
   "metadata": {
    "collapsed": false,
    "pycharm": {
     "name": "#%%\n"
    }
   }
  },
  {
   "cell_type": "code",
   "execution_count": 141,
   "outputs": [
    {
     "data": {
      "text/plain": "714"
     },
     "execution_count": 141,
     "metadata": {},
     "output_type": "execute_result"
    }
   ],
   "source": [
    "age.count()"
   ],
   "metadata": {
    "collapsed": false,
    "pycharm": {
     "name": "#%%\n"
    }
   }
  },
  {
   "cell_type": "code",
   "execution_count": 142,
   "outputs": [
    {
     "data": {
      "text/plain": "29.69911764705882"
     },
     "execution_count": 142,
     "metadata": {},
     "output_type": "execute_result"
    }
   ],
   "source": [
    "age.mean()"
   ],
   "metadata": {
    "collapsed": false,
    "pycharm": {
     "name": "#%%\n"
    }
   }
  },
  {
   "cell_type": "code",
   "execution_count": 143,
   "outputs": [
    {
     "data": {
      "text/plain": "28.0"
     },
     "execution_count": 143,
     "metadata": {},
     "output_type": "execute_result"
    }
   ],
   "source": [
    "age.median()"
   ],
   "metadata": {
    "collapsed": false,
    "pycharm": {
     "name": "#%%\n"
    }
   }
  },
  {
   "cell_type": "code",
   "execution_count": 144,
   "outputs": [
    {
     "data": {
      "text/plain": "14.526497332334042"
     },
     "execution_count": 144,
     "metadata": {},
     "output_type": "execute_result"
    }
   ],
   "source": [
    "age.std()"
   ],
   "metadata": {
    "collapsed": false,
    "pycharm": {
     "name": "#%%\n"
    }
   }
  },
  {
   "cell_type": "code",
   "execution_count": 145,
   "outputs": [
    {
     "data": {
      "text/plain": "array([22.  , 38.  , 26.  , 35.  ,   nan, 54.  ,  2.  , 27.  , 14.  ,\n        4.  , 58.  , 20.  , 39.  , 55.  , 31.  , 34.  , 15.  , 28.  ,\n        8.  , 19.  , 40.  , 66.  , 42.  , 21.  , 18.  ,  3.  ,  7.  ,\n       49.  , 29.  , 65.  , 28.5 ,  5.  , 11.  , 45.  , 17.  , 32.  ,\n       16.  , 25.  ,  0.83, 30.  , 33.  , 23.  , 24.  , 46.  , 59.  ,\n       71.  , 37.  , 47.  , 14.5 , 70.5 , 32.5 , 12.  ,  9.  , 36.5 ,\n       51.  , 55.5 , 40.5 , 44.  ,  1.  , 61.  , 56.  , 50.  , 36.  ,\n       45.5 , 20.5 , 62.  , 41.  , 52.  , 63.  , 23.5 ,  0.92, 43.  ,\n       60.  , 10.  , 64.  , 13.  , 48.  ,  0.75, 53.  , 57.  , 80.  ,\n       70.  , 24.5 ,  6.  ,  0.67, 30.5 ,  0.42, 34.5 , 74.  ])"
     },
     "execution_count": 145,
     "metadata": {},
     "output_type": "execute_result"
    }
   ],
   "source": [
    "age.unique()\n"
   ],
   "metadata": {
    "collapsed": false,
    "pycharm": {
     "name": "#%%\n"
    }
   }
  },
  {
   "cell_type": "code",
   "execution_count": 146,
   "outputs": [
    {
     "data": {
      "text/plain": "89"
     },
     "execution_count": 146,
     "metadata": {},
     "output_type": "execute_result"
    }
   ],
   "source": [
    "age.nunique(dropna=True) # 88\n",
    "age.nunique(dropna=False)"
   ],
   "metadata": {
    "collapsed": false,
    "pycharm": {
     "name": "#%%\n"
    }
   }
  },
  {
   "cell_type": "code",
   "execution_count": 147,
   "outputs": [
    {
     "data": {
      "text/plain": "24.00    30\n22.00    27\n18.00    26\n19.00    25\n28.00    25\n         ..\n36.50     1\n55.50     1\n0.92      1\n23.50     1\n74.00     1\nName: age, Length: 88, dtype: int64"
     },
     "execution_count": 147,
     "metadata": {},
     "output_type": "execute_result"
    }
   ],
   "source": [
    "age.value_counts()"
   ],
   "metadata": {
    "collapsed": false,
    "pycharm": {
     "name": "#%%\n"
    }
   }
  },
  {
   "cell_type": "code",
   "execution_count": 148,
   "outputs": [
    {
     "data": {
      "text/plain": "22.00    27\n38.00    11\n26.00    18\n35.00    18\n54.00     8\n         ..\n0.67      1\n30.50     2\n0.42      1\n34.50     1\n74.00     1\nName: age, Length: 88, dtype: int64"
     },
     "execution_count": 148,
     "metadata": {},
     "output_type": "execute_result"
    }
   ],
   "source": [
    "age.value_counts(sort=False)"
   ],
   "metadata": {
    "collapsed": false,
    "pycharm": {
     "name": "#%%\n"
    }
   }
  },
  {
   "cell_type": "code",
   "execution_count": 149,
   "outputs": [
    {
     "data": {
      "text/plain": "NaN      177\n24.00     30\n22.00     27\n18.00     26\n28.00     25\n        ... \n36.50      1\n55.50      1\n0.92       1\n23.50      1\n74.00      1\nName: age, Length: 89, dtype: int64"
     },
     "execution_count": 149,
     "metadata": {},
     "output_type": "execute_result"
    }
   ],
   "source": [
    "age.value_counts(dropna=False)"
   ],
   "metadata": {
    "collapsed": false,
    "pycharm": {
     "name": "#%%\n"
    }
   }
  },
  {
   "cell_type": "code",
   "execution_count": 150,
   "outputs": [
    {
     "data": {
      "text/plain": "74.0     1\n14.5     1\n70.5     1\n12.0     1\n36.5     1\n        ..\n30.0    25\n19.0    25\n18.0    26\n22.0    27\n24.0    30\nName: age, Length: 88, dtype: int64"
     },
     "execution_count": 150,
     "metadata": {},
     "output_type": "execute_result"
    }
   ],
   "source": [
    "age.value_counts(ascending=True)"
   ],
   "metadata": {
    "collapsed": false,
    "pycharm": {
     "name": "#%%\n"
    }
   }
  },
  {
   "cell_type": "code",
   "execution_count": 151,
   "outputs": [
    {
     "data": {
      "text/plain": "NaN      0.198653\n24.00    0.033670\n22.00    0.030303\n18.00    0.029181\n28.00    0.028058\n           ...   \n36.50    0.001122\n55.50    0.001122\n0.92     0.001122\n23.50    0.001122\n74.00    0.001122\nName: age, Length: 89, dtype: float64"
     },
     "execution_count": 151,
     "metadata": {},
     "output_type": "execute_result"
    }
   ],
   "source": [
    "age.value_counts(normalize=True, dropna=False)"
   ],
   "metadata": {
    "collapsed": false,
    "pycharm": {
     "name": "#%%\n"
    }
   }
  },
  {
   "cell_type": "code",
   "execution_count": 152,
   "outputs": [
    {
     "data": {
      "text/plain": "(16.336, 32.252]    346\n(32.252, 48.168]    188\n(0.339, 16.336]     100\n(48.168, 64.084]     69\n(64.084, 80.0]       11\nName: age, dtype: int64"
     },
     "execution_count": 152,
     "metadata": {},
     "output_type": "execute_result"
    }
   ],
   "source": [
    "age.value_counts(bins=5)"
   ],
   "metadata": {
    "collapsed": false,
    "pycharm": {
     "name": "#%%\n"
    }
   }
  },
  {
   "cell_type": "code",
   "execution_count": 153,
   "outputs": [
    {
     "data": {
      "text/plain": "(16.336, 24.294]    177\n(24.294, 32.252]    169\n(32.252, 40.21]     118\n(40.21, 48.168]      70\n(0.339, 8.378]       54\n(8.378, 16.336]      46\n(48.168, 56.126]     45\n(56.126, 64.084]     24\n(64.084, 72.042]      9\n(72.042, 80.0]        2\nName: age, dtype: int64"
     },
     "execution_count": 153,
     "metadata": {},
     "output_type": "execute_result"
    }
   ],
   "source": [
    "age.value_counts(bins=10)"
   ],
   "metadata": {
    "collapsed": false,
    "pycharm": {
     "name": "#%%\n"
    }
   }
  },
  {
   "cell_type": "code",
   "execution_count": 154,
   "outputs": [],
   "source": [
    "summer = pd.read_csv('data/summer.csv')"
   ],
   "metadata": {
    "collapsed": false,
    "pycharm": {
     "name": "#%%\n"
    }
   }
  },
  {
   "cell_type": "code",
   "execution_count": 155,
   "outputs": [
    {
     "data": {
      "text/plain": "       Year    City      Sport           Discipline  \\\n0      1896  Athens   Aquatics             Swimming   \n1      1896  Athens   Aquatics             Swimming   \n2      1896  Athens   Aquatics             Swimming   \n3      1896  Athens   Aquatics             Swimming   \n4      1896  Athens   Aquatics             Swimming   \n...     ...     ...        ...                  ...   \n31160  2012  London  Wrestling  Wrestling Freestyle   \n31161  2012  London  Wrestling  Wrestling Freestyle   \n31162  2012  London  Wrestling  Wrestling Freestyle   \n31163  2012  London  Wrestling  Wrestling Freestyle   \n31164  2012  London  Wrestling  Wrestling Freestyle   \n\n                         Athlete Country Gender                       Event  \\\n0                  HAJOS, Alfred     HUN    Men              100M Freestyle   \n1               HERSCHMANN, Otto     AUT    Men              100M Freestyle   \n2              DRIVAS, Dimitrios     GRE    Men  100M Freestyle For Sailors   \n3             MALOKINIS, Ioannis     GRE    Men  100M Freestyle For Sailors   \n4             CHASAPIS, Spiridon     GRE    Men  100M Freestyle For Sailors   \n...                          ...     ...    ...                         ...   \n31160         JANIKOWSKI, Damian     POL    Men                    Wg 84 KG   \n31161  REZAEI, Ghasem Gholamreza     IRI    Men                    Wg 96 KG   \n31162             TOTROV, Rustam     RUS    Men                    Wg 96 KG   \n31163          ALEKSANYAN, Artur     ARM    Men                    Wg 96 KG   \n31164             LIDBERG, Jimmy     SWE    Men                    Wg 96 KG   \n\n        Medal  \n0        Gold  \n1      Silver  \n2      Bronze  \n3        Gold  \n4      Silver  \n...       ...  \n31160  Bronze  \n31161    Gold  \n31162  Silver  \n31163  Bronze  \n31164  Bronze  \n\n[31165 rows x 9 columns]",
      "text/html": "<div>\n<style scoped>\n    .dataframe tbody tr th:only-of-type {\n        vertical-align: middle;\n    }\n\n    .dataframe tbody tr th {\n        vertical-align: top;\n    }\n\n    .dataframe thead th {\n        text-align: right;\n    }\n</style>\n<table border=\"1\" class=\"dataframe\">\n  <thead>\n    <tr style=\"text-align: right;\">\n      <th></th>\n      <th>Year</th>\n      <th>City</th>\n      <th>Sport</th>\n      <th>Discipline</th>\n      <th>Athlete</th>\n      <th>Country</th>\n      <th>Gender</th>\n      <th>Event</th>\n      <th>Medal</th>\n    </tr>\n  </thead>\n  <tbody>\n    <tr>\n      <th>0</th>\n      <td>1896</td>\n      <td>Athens</td>\n      <td>Aquatics</td>\n      <td>Swimming</td>\n      <td>HAJOS, Alfred</td>\n      <td>HUN</td>\n      <td>Men</td>\n      <td>100M Freestyle</td>\n      <td>Gold</td>\n    </tr>\n    <tr>\n      <th>1</th>\n      <td>1896</td>\n      <td>Athens</td>\n      <td>Aquatics</td>\n      <td>Swimming</td>\n      <td>HERSCHMANN, Otto</td>\n      <td>AUT</td>\n      <td>Men</td>\n      <td>100M Freestyle</td>\n      <td>Silver</td>\n    </tr>\n    <tr>\n      <th>2</th>\n      <td>1896</td>\n      <td>Athens</td>\n      <td>Aquatics</td>\n      <td>Swimming</td>\n      <td>DRIVAS, Dimitrios</td>\n      <td>GRE</td>\n      <td>Men</td>\n      <td>100M Freestyle For Sailors</td>\n      <td>Bronze</td>\n    </tr>\n    <tr>\n      <th>3</th>\n      <td>1896</td>\n      <td>Athens</td>\n      <td>Aquatics</td>\n      <td>Swimming</td>\n      <td>MALOKINIS, Ioannis</td>\n      <td>GRE</td>\n      <td>Men</td>\n      <td>100M Freestyle For Sailors</td>\n      <td>Gold</td>\n    </tr>\n    <tr>\n      <th>4</th>\n      <td>1896</td>\n      <td>Athens</td>\n      <td>Aquatics</td>\n      <td>Swimming</td>\n      <td>CHASAPIS, Spiridon</td>\n      <td>GRE</td>\n      <td>Men</td>\n      <td>100M Freestyle For Sailors</td>\n      <td>Silver</td>\n    </tr>\n    <tr>\n      <th>...</th>\n      <td>...</td>\n      <td>...</td>\n      <td>...</td>\n      <td>...</td>\n      <td>...</td>\n      <td>...</td>\n      <td>...</td>\n      <td>...</td>\n      <td>...</td>\n    </tr>\n    <tr>\n      <th>31160</th>\n      <td>2012</td>\n      <td>London</td>\n      <td>Wrestling</td>\n      <td>Wrestling Freestyle</td>\n      <td>JANIKOWSKI, Damian</td>\n      <td>POL</td>\n      <td>Men</td>\n      <td>Wg 84 KG</td>\n      <td>Bronze</td>\n    </tr>\n    <tr>\n      <th>31161</th>\n      <td>2012</td>\n      <td>London</td>\n      <td>Wrestling</td>\n      <td>Wrestling Freestyle</td>\n      <td>REZAEI, Ghasem Gholamreza</td>\n      <td>IRI</td>\n      <td>Men</td>\n      <td>Wg 96 KG</td>\n      <td>Gold</td>\n    </tr>\n    <tr>\n      <th>31162</th>\n      <td>2012</td>\n      <td>London</td>\n      <td>Wrestling</td>\n      <td>Wrestling Freestyle</td>\n      <td>TOTROV, Rustam</td>\n      <td>RUS</td>\n      <td>Men</td>\n      <td>Wg 96 KG</td>\n      <td>Silver</td>\n    </tr>\n    <tr>\n      <th>31163</th>\n      <td>2012</td>\n      <td>London</td>\n      <td>Wrestling</td>\n      <td>Wrestling Freestyle</td>\n      <td>ALEKSANYAN, Artur</td>\n      <td>ARM</td>\n      <td>Men</td>\n      <td>Wg 96 KG</td>\n      <td>Bronze</td>\n    </tr>\n    <tr>\n      <th>31164</th>\n      <td>2012</td>\n      <td>London</td>\n      <td>Wrestling</td>\n      <td>Wrestling Freestyle</td>\n      <td>LIDBERG, Jimmy</td>\n      <td>SWE</td>\n      <td>Men</td>\n      <td>Wg 96 KG</td>\n      <td>Bronze</td>\n    </tr>\n  </tbody>\n</table>\n<p>31165 rows × 9 columns</p>\n</div>"
     },
     "execution_count": 155,
     "metadata": {},
     "output_type": "execute_result"
    }
   ],
   "source": [
    "summer"
   ],
   "metadata": {
    "collapsed": false,
    "pycharm": {
     "name": "#%%\n"
    }
   }
  },
  {
   "cell_type": "code",
   "execution_count": 156,
   "outputs": [],
   "source": [
    "athletes = summer.Athlete"
   ],
   "metadata": {
    "collapsed": false,
    "pycharm": {
     "name": "#%%\n"
    }
   }
  },
  {
   "cell_type": "code",
   "execution_count": 157,
   "outputs": [
    {
     "data": {
      "text/plain": "0                    HAJOS, Alfred\n1                 HERSCHMANN, Otto\n2                DRIVAS, Dimitrios\n3               MALOKINIS, Ioannis\n4               CHASAPIS, Spiridon\n                   ...            \n31160           JANIKOWSKI, Damian\n31161    REZAEI, Ghasem Gholamreza\n31162               TOTROV, Rustam\n31163            ALEKSANYAN, Artur\n31164               LIDBERG, Jimmy\nName: Athlete, Length: 31165, dtype: object"
     },
     "execution_count": 157,
     "metadata": {},
     "output_type": "execute_result"
    }
   ],
   "source": [
    "athletes\n",
    "\n"
   ],
   "metadata": {
    "collapsed": false,
    "pycharm": {
     "name": "#%%\n"
    }
   }
  },
  {
   "cell_type": "code",
   "execution_count": 158,
   "outputs": [
    {
     "data": {
      "text/plain": "dtype('O')"
     },
     "execution_count": 158,
     "metadata": {},
     "output_type": "execute_result"
    }
   ],
   "source": [
    "athletes.dtype"
   ],
   "metadata": {
    "collapsed": false,
    "pycharm": {
     "name": "#%%\n"
    }
   }
  },
  {
   "cell_type": "code",
   "execution_count": 159,
   "outputs": [
    {
     "data": {
      "text/plain": "array(['HAJOS, Alfred', 'HERSCHMANN, Otto', 'DRIVAS, Dimitrios', ...,\n       'TOTROV, Rustam', 'ALEKSANYAN, Artur', 'LIDBERG, Jimmy'],\n      dtype=object)"
     },
     "execution_count": 159,
     "metadata": {},
     "output_type": "execute_result"
    }
   ],
   "source": [
    "athletes.unique()"
   ],
   "metadata": {
    "collapsed": false,
    "pycharm": {
     "name": "#%%\n"
    }
   }
  },
  {
   "cell_type": "code",
   "execution_count": 160,
   "outputs": [
    {
     "data": {
      "text/plain": "22762"
     },
     "execution_count": 160,
     "metadata": {},
     "output_type": "execute_result"
    }
   ],
   "source": [
    "# number of unique values\n",
    "athletes.nunique()"
   ],
   "metadata": {
    "collapsed": false,
    "pycharm": {
     "name": "#%%\n"
    }
   }
  },
  {
   "cell_type": "code",
   "execution_count": 161,
   "outputs": [
    {
     "data": {
      "text/plain": "'ÖSTRAND, Per-Olof'"
     },
     "execution_count": 161,
     "metadata": {},
     "output_type": "execute_result"
    }
   ],
   "source": [
    "athletes.max()\n"
   ],
   "metadata": {
    "collapsed": false,
    "pycharm": {
     "name": "#%%\n"
    }
   }
  },
  {
   "cell_type": "code",
   "execution_count": 162,
   "outputs": [
    {
     "data": {
      "text/plain": "'AABYE, Edgar'"
     },
     "execution_count": 162,
     "metadata": {},
     "output_type": "execute_result"
    }
   ],
   "source": [
    "athletes.min()"
   ],
   "metadata": {
    "collapsed": false,
    "pycharm": {
     "name": "#%%\n"
    }
   }
  },
  {
   "cell_type": "code",
   "execution_count": 163,
   "outputs": [
    {
     "data": {
      "text/plain": "PHELPS, Michael          22\nLATYNINA, Larisa         18\nANDRIANOV, Nikolay       15\nONO, Takashi             13\nMANGIAROTTI, Edoardo     13\n                         ..\nZAKA, Uddin               1\nZAFAR, Hayat              1\nMUHAMMAD, Rashid          1\nMANNA, Muhammad Afzal     1\nLIDBERG, Jimmy            1\nName: Athlete, Length: 22762, dtype: int64"
     },
     "execution_count": 163,
     "metadata": {},
     "output_type": "execute_result"
    }
   ],
   "source": [
    "athletes.value_counts()\n"
   ],
   "metadata": {
    "collapsed": false,
    "pycharm": {
     "name": "#%%\n"
    }
   }
  },
  {
   "cell_type": "code",
   "execution_count": 163,
   "outputs": [],
   "source": [],
   "metadata": {
    "collapsed": false,
    "pycharm": {
     "name": "#%%\n"
    }
   }
  }
 ],
 "metadata": {
  "kernelspec": {
   "display_name": "Python 3",
   "language": "python",
   "name": "python3"
  },
  "language_info": {
   "codemirror_mode": {
    "name": "ipython",
    "version": 2
   },
   "file_extension": ".py",
   "mimetype": "text/x-python",
   "name": "python",
   "nbconvert_exporter": "python",
   "pygments_lexer": "ipython2",
   "version": "2.7.6"
  }
 },
 "nbformat": 4,
 "nbformat_minor": 0
}