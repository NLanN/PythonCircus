{
 "cells": [
  {
   "cell_type": "markdown",
   "metadata": {},
   "source": [
    "### Constant time: O(1)\n"
   ]
  },
  {
   "cell_type": "code",
   "execution_count": 1,
   "metadata": {},
   "outputs": [
    {
     "name": "stdout",
     "output_type": "stream",
     "text": [
      "O(1):  \n",
      " 9 \n",
      "\n"
     ]
    }
   ],
   "source": [
    "# O(1)\n",
    "num = 10\n",
    "\n",
    "def deduct_one(num):\n",
    "    num -= 1\n",
    "    return num\n",
    "    \n",
    "print(\"O(1): \", \"\\n\", deduct_one(num), \"\\n\")"
   ]
  },
  {
   "cell_type": "markdown",
   "metadata": {},
   "source": [
    "### Logarithmic time: O(log n)"
   ]
  },
  {
   "cell_type": "code",
   "execution_count": 2,
   "metadata": {},
   "outputs": [
    {
     "name": "stdout",
     "output_type": "stream",
     "text": [
      "O(log n): \n",
      "5.0\n",
      "2.5\n",
      "1.25\n",
      "0.625\n",
      "\n"
     ]
    }
   ],
   "source": [
    "# O(log n)\n",
    "num = 10\n",
    "\n",
    "def divide(num):\n",
    "    while  num > 1:\n",
    "        num /= 2\n",
    "        print(num)\n",
    "    return num\n",
    "\n",
    "print(\"O(log n): \")\n",
    "divide(num)\n",
    "print()\n"
   ]
  },
  {
   "cell_type": "markdown",
   "metadata": {},
   "source": [
    "### Linear time: O(n)"
   ]
  },
  {
   "cell_type": "code",
   "execution_count": 3,
   "metadata": {},
   "outputs": [
    {
     "name": "stdout",
     "output_type": "stream",
     "text": [
      "O(n): \n",
      "[1]\n",
      "[1, 1]\n",
      "[1, 1, 1]\n",
      "[1, 1, 1, 1]\n",
      "[1, 1, 1, 1, 1]\n",
      "[1, 1, 1, 1, 1, 1]\n",
      "[1, 1, 1, 1, 1, 1, 1]\n",
      "[1, 1, 1, 1, 1, 1, 1, 1]\n",
      "[1, 1, 1, 1, 1, 1, 1, 1, 1]\n",
      "[1, 1, 1, 1, 1, 1, 1, 1, 1, 1]\n",
      "\n"
     ]
    }
   ],
   "source": [
    "# O(n)\n",
    "num = 10\n",
    "\n",
    "def add_ones_to_the_list(num):\n",
    "    test_list = []\n",
    "    for i in range(0, num):\n",
    "        test_list.append(1)\n",
    "        print(test_list)\n",
    "    return test_list\n",
    "\n",
    "print(\"O(n): \")\n",
    "add_ones_to_the_list(num)\n",
    "print()\n"
   ]
  },
  {
   "cell_type": "markdown",
   "metadata": {},
   "source": [
    "### Linearithmic time: O(n log n)"
   ]
  },
  {
   "cell_type": "code",
   "execution_count": null,
   "metadata": {},
   "outputs": [],
   "source": [
    "# O(n log n)\n",
    "test_list = [1, 43, 31, 21, 6, 96, 48, 13, 25, 5]\n",
    "\n",
    "def merge_sort(test_list):\n",
    "    if len(test_list) < 2:\n",
    "        return test_list\n",
    "    middle = int(len(test_list) / 2)\n",
    "    left = merge_sort(test_list[:middle])\n",
    "    right = merge_sort(test_list[middle:])\n",
    "    result = []\n",
    "    print(\"Left: \", left)\n",
    "    print(\"Right: \", right)\n",
    "    while len(left) > 0 and len(right) > 0:\n",
    "        if left[0] <= right[0]:\n",
    "            result.append(left[0])\n",
    "            left.pop(0)\n",
    "        else:\n",
    "            result.append(right[0])\n",
    "            right.pop(0)\n",
    "    result += left\n",
    "    result += right\n",
    "    print(\"Result: \", result)\n",
    "    return result\n",
    "\n",
    "print(\"O(n log n): \")\n",
    "merge_sort(test_list)\n",
    "print()"
   ]
  },
  {
   "cell_type": "markdown",
   "metadata": {},
   "source": [
    "### Polynomial time: O(n**2)"
   ]
  },
  {
   "cell_type": "code",
   "execution_count": null,
   "metadata": {},
   "outputs": [],
   "source": [
    "\n",
    "# O(n**2)\n",
    "test_list = [1, 43, 31, 21, 6, 96, 48, 13, 25, 5]\n",
    "\n",
    "def bubble_sort(test_list):\n",
    "    for i in range(len(test_list)):\n",
    "        for j in range(i+1, len(test_list)):\n",
    "            if test_list[j] < test_list[i]:\n",
    "                test_list[j], test_list[i] = test_list[i], test_list[j]\n",
    "            print(test_list)\n",
    "\n",
    "print(\"O(n**2): \")\n",
    "bubble_sort(test_list)"
   ]
  },
  {
   "cell_type": "markdown",
   "metadata": {},
   "source": [
    "# O(10**n): trying to break a password by testing every possible combination\n",
    "# (assuming numerical password of length N)\n",
    "\n",
    "'''\n",
    "Function: 10n**2 + 10n + 20\n",
    "n = 1000, output: 10,010,020\n",
    "'''\n"
   ]
  }
 ],
 "metadata": {
  "interpreter": {
   "hash": "d3eea2e89496e4096d7d96fd6f3eaac49aff5ada75cf88cf9896326921e20e0a"
  },
  "kernelspec": {
   "display_name": "Python 3.9.6 64-bit",
   "language": "python",
   "name": "python3"
  },
  "language_info": {
   "codemirror_mode": {
    "name": "ipython",
    "version": 3
   },
   "file_extension": ".py",
   "mimetype": "text/x-python",
   "name": "python",
   "nbconvert_exporter": "python",
   "pygments_lexer": "ipython3",
   "version": "3.9.6"
  },
  "orig_nbformat": 4
 },
 "nbformat": 4,
 "nbformat_minor": 2
}
