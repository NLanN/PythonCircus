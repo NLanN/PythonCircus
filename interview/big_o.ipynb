{
 "cells": [
  {
   "cell_type": "markdown",
   "metadata": {},
   "source": [
    "# Big O notation\n",
    "> ref: https://www.youtube.com/watch?v=g2o22C3CRfU\n",
    "> https://github.com/JingMa87/Python/blob/master/BigONotationTutorial/Big%20O%20Notation%20Examples"
   ]
  },
  {
   "cell_type": "markdown",
   "metadata": {},
   "source": [
    "### Constant time: O(1)\n",
    "O (1) có nghĩa là cần một thời gian không đổi để chạy một thuật toán, bất kể kích thước của đầu vào.\n"
   ]
  },
  {
   "cell_type": "code",
   "execution_count": 4,
   "metadata": {},
   "outputs": [
    {
     "name": "stdout",
     "output_type": "stream",
     "text": [
      "O(1):  \n",
      " 9 \n",
      "\n"
     ]
    }
   ],
   "source": [
    "# O(1)\n",
    "num = 10\n",
    "\n",
    "def deduct_one(num):\n",
    "    num -= 1\n",
    "    return num\n",
    "    \n",
    "print(\"O(1): \", \"\\n\", deduct_one(num), \"\\n\")"
   ]
  },
  {
   "cell_type": "markdown",
   "metadata": {},
   "source": [
    "### Logarithmic time: O(log n)\n",
    "O (log n) có nghĩa là thời gian chạy tăng tương ứng với logarit của kích thước đầu vào, có nghĩa là thời gian chạy hầu như không tăng khi bạn tăng đầu vào theo cấp số nhân."
   ]
  },
  {
   "cell_type": "code",
   "execution_count": 5,
   "metadata": {},
   "outputs": [
    {
     "name": "stdout",
     "output_type": "stream",
     "text": [
      "O(log n): \n",
      "5.0\n",
      "2.5\n",
      "1.25\n",
      "0.625\n",
      "\n"
     ]
    }
   ],
   "source": [
    "# O(log n)\n",
    "num = 10\n",
    "\n",
    "def divide(num):\n",
    "    while  num > 1:\n",
    "        num /= 2\n",
    "        print(num)\n",
    "    return num\n",
    "\n",
    "print(\"O(log n): \")\n",
    "divide(num)\n",
    "print()\n"
   ]
  },
  {
   "cell_type": "markdown",
   "metadata": {},
   "source": [
    "### Linear time: O(n)\n",
    "O (n) có nghĩa là thời gian chạy tăng cùng tốc độ với đầu vào."
   ]
  },
  {
   "cell_type": "code",
   "execution_count": 6,
   "metadata": {},
   "outputs": [
    {
     "name": "stdout",
     "output_type": "stream",
     "text": [
      "O(n): \n",
      "[1]\n",
      "[1, 1]\n",
      "[1, 1, 1]\n",
      "[1, 1, 1, 1]\n",
      "[1, 1, 1, 1, 1]\n",
      "[1, 1, 1, 1, 1, 1]\n",
      "[1, 1, 1, 1, 1, 1, 1]\n",
      "[1, 1, 1, 1, 1, 1, 1, 1]\n",
      "[1, 1, 1, 1, 1, 1, 1, 1, 1]\n",
      "[1, 1, 1, 1, 1, 1, 1, 1, 1, 1]\n",
      "\n"
     ]
    }
   ],
   "source": [
    "# O(n)\n",
    "num = 10\n",
    "\n",
    "def add_ones_to_the_list(num):\n",
    "    test_list = []\n",
    "    for i in range(0, num):\n",
    "        test_list.append(1)\n",
    "        print(test_list)\n",
    "    return test_list\n",
    "\n",
    "print(\"O(n): \")\n",
    "add_ones_to_the_list(num)\n",
    "\n"
   ]
  },
  {
   "cell_type": "markdown",
   "metadata": {},
   "source": [
    "### Linearithmic time: O(n log n)\n",
    "O(n log n), thường bị nhầm lẫn với O (log n), có nghĩa là thời gian chạy của một thuật toán là tuyến tính, là sự kết hợp của độ phức tạp tuyến tính và logarit."
   ]
  },
  {
   "cell_type": "code",
   "execution_count": 7,
   "metadata": {},
   "outputs": [
    {
     "name": "stdout",
     "output_type": "stream",
     "text": [
      "O(n log n): \n",
      "Left:  [1]\n",
      "Right:  [43]\n",
      "Result:  [1, 43]\n",
      "Left:  [21]\n",
      "Right:  [6]\n",
      "Result:  [6, 21]\n",
      "Left:  [31]\n",
      "Right:  [6, 21]\n",
      "Result:  [6, 21, 31]\n",
      "Left:  [1, 43]\n",
      "Right:  [6, 21, 31]\n",
      "Result:  [1, 6, 21, 31, 43]\n",
      "Left:  [96]\n",
      "Right:  [48]\n",
      "Result:  [48, 96]\n",
      "Left:  [25]\n",
      "Right:  [5]\n",
      "Result:  [5, 25]\n",
      "Left:  [13]\n",
      "Right:  [5, 25]\n",
      "Result:  [5, 13, 25]\n",
      "Left:  [48, 96]\n",
      "Right:  [5, 13, 25]\n",
      "Result:  [5, 13, 25, 48, 96]\n",
      "Left:  [1, 6, 21, 31, 43]\n",
      "Right:  [5, 13, 25, 48, 96]\n",
      "Result:  [1, 5, 6, 13, 21, 25, 31, 43, 48, 96]\n",
      "\n"
     ]
    }
   ],
   "source": [
    "# O(n log n)\n",
    "test_list = [1, 43, 31, 21, 6, 96, 48, 13, 25, 5]\n",
    "\n",
    "def merge_sort(test_list):\n",
    "    if len(test_list) < 2:\n",
    "        return test_list\n",
    "    middle = int(len(test_list) / 2)\n",
    "    left = merge_sort(test_list[:middle])\n",
    "    right = merge_sort(test_list[middle:])\n",
    "    result = []\n",
    "    print(\"Left: \", left)\n",
    "    print(\"Right: \", right)\n",
    "    while len(left) > 0 and len(right) > 0:\n",
    "        if left[0] <= right[0]:\n",
    "            result.append(left[0])\n",
    "            left.pop(0)\n",
    "        else:\n",
    "            result.append(right[0])\n",
    "            right.pop(0)\n",
    "    result += left\n",
    "    result += right\n",
    "    print(\"Result: \", result)\n",
    "    return result\n",
    "\n",
    "print(\"O(n log n): \")\n",
    "merge_sort(test_list)\n",
    "print()"
   ]
  },
  {
   "cell_type": "markdown",
   "metadata": {},
   "source": [
    "### Polynomial time: O(n**2)\n",
    "O (n²) có nghĩa là phép tính chạy theo thời gian bậc hai (quadratic), là kích thước bình phương của dữ liệu đầu vào."
   ]
  },
  {
   "cell_type": "code",
   "execution_count": 8,
   "metadata": {},
   "outputs": [
    {
     "name": "stdout",
     "output_type": "stream",
     "text": [
      "O(n**2): \n",
      "[1, 43, 31, 21, 6, 96, 48, 13, 25, 5]\n",
      "[1, 43, 31, 21, 6, 96, 48, 13, 25, 5]\n",
      "[1, 43, 31, 21, 6, 96, 48, 13, 25, 5]\n",
      "[1, 43, 31, 21, 6, 96, 48, 13, 25, 5]\n",
      "[1, 43, 31, 21, 6, 96, 48, 13, 25, 5]\n",
      "[1, 43, 31, 21, 6, 96, 48, 13, 25, 5]\n",
      "[1, 43, 31, 21, 6, 96, 48, 13, 25, 5]\n",
      "[1, 43, 31, 21, 6, 96, 48, 13, 25, 5]\n",
      "[1, 43, 31, 21, 6, 96, 48, 13, 25, 5]\n",
      "[1, 31, 43, 21, 6, 96, 48, 13, 25, 5]\n",
      "[1, 21, 43, 31, 6, 96, 48, 13, 25, 5]\n",
      "[1, 6, 43, 31, 21, 96, 48, 13, 25, 5]\n",
      "[1, 6, 43, 31, 21, 96, 48, 13, 25, 5]\n",
      "[1, 6, 43, 31, 21, 96, 48, 13, 25, 5]\n",
      "[1, 6, 43, 31, 21, 96, 48, 13, 25, 5]\n",
      "[1, 6, 43, 31, 21, 96, 48, 13, 25, 5]\n",
      "[1, 5, 43, 31, 21, 96, 48, 13, 25, 6]\n",
      "[1, 5, 31, 43, 21, 96, 48, 13, 25, 6]\n",
      "[1, 5, 21, 43, 31, 96, 48, 13, 25, 6]\n",
      "[1, 5, 21, 43, 31, 96, 48, 13, 25, 6]\n",
      "[1, 5, 21, 43, 31, 96, 48, 13, 25, 6]\n",
      "[1, 5, 13, 43, 31, 96, 48, 21, 25, 6]\n",
      "[1, 5, 13, 43, 31, 96, 48, 21, 25, 6]\n",
      "[1, 5, 6, 43, 31, 96, 48, 21, 25, 13]\n",
      "[1, 5, 6, 31, 43, 96, 48, 21, 25, 13]\n",
      "[1, 5, 6, 31, 43, 96, 48, 21, 25, 13]\n",
      "[1, 5, 6, 31, 43, 96, 48, 21, 25, 13]\n",
      "[1, 5, 6, 21, 43, 96, 48, 31, 25, 13]\n",
      "[1, 5, 6, 21, 43, 96, 48, 31, 25, 13]\n",
      "[1, 5, 6, 13, 43, 96, 48, 31, 25, 21]\n",
      "[1, 5, 6, 13, 43, 96, 48, 31, 25, 21]\n",
      "[1, 5, 6, 13, 43, 96, 48, 31, 25, 21]\n",
      "[1, 5, 6, 13, 31, 96, 48, 43, 25, 21]\n",
      "[1, 5, 6, 13, 25, 96, 48, 43, 31, 21]\n",
      "[1, 5, 6, 13, 21, 96, 48, 43, 31, 25]\n",
      "[1, 5, 6, 13, 21, 48, 96, 43, 31, 25]\n",
      "[1, 5, 6, 13, 21, 43, 96, 48, 31, 25]\n",
      "[1, 5, 6, 13, 21, 31, 96, 48, 43, 25]\n",
      "[1, 5, 6, 13, 21, 25, 96, 48, 43, 31]\n",
      "[1, 5, 6, 13, 21, 25, 48, 96, 43, 31]\n",
      "[1, 5, 6, 13, 21, 25, 43, 96, 48, 31]\n",
      "[1, 5, 6, 13, 21, 25, 31, 96, 48, 43]\n",
      "[1, 5, 6, 13, 21, 25, 31, 48, 96, 43]\n",
      "[1, 5, 6, 13, 21, 25, 31, 43, 96, 48]\n",
      "[1, 5, 6, 13, 21, 25, 31, 43, 48, 96]\n"
     ]
    }
   ],
   "source": [
    "\n",
    "# O(n**2)\n",
    "test_list = [1, 43, 31, 21, 6, 96, 48, 13, 25, 5]\n",
    "\n",
    "def bubble_sort(test_list):\n",
    "    for i in range(len(test_list)):\n",
    "        for j in range(i+1, len(test_list)):\n",
    "            if test_list[j] < test_list[i]:\n",
    "                test_list[j], test_list[i] = test_list[i], test_list[j]\n",
    "            print(test_list)\n",
    "\n",
    "print(\"O(n**2): \")\n",
    "bubble_sort(test_list)"
   ]
  },
  {
   "cell_type": "markdown",
   "metadata": {},
   "source": [
    "O(10**n): trying to break a password by testing every possible combination\n",
    "(assuming numerical password of length N)\n",
    "\n",
    "'''\n",
    "Function: 10n**2 + 10n + 20\n",
    "n = 1000, output: 10,010,020\n",
    "'''\n"
   ]
  }
 ],
 "metadata": {
  "interpreter": {
   "hash": "d3eea2e89496e4096d7d96fd6f3eaac49aff5ada75cf88cf9896326921e20e0a"
  },
  "kernelspec": {
   "display_name": "Python 3.9.6 64-bit",
   "language": "python",
   "name": "python3"
  },
  "language_info": {
   "codemirror_mode": {
    "name": "ipython",
    "version": 3
   },
   "file_extension": ".py",
   "mimetype": "text/x-python",
   "name": "python",
   "nbconvert_exporter": "python",
   "pygments_lexer": "ipython3",
   "version": "3.9.6"
  },
  "orig_nbformat": 4
 },
 "nbformat": 4,
 "nbformat_minor": 2
}
