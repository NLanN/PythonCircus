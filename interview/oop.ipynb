{
 "cells": [
  {
   "cell_type": "markdown",
   "metadata": {},
   "source": [
    "# OOP in python\n",
    ">ref: https://github.com/arvimal/oop_with_python\n"
   ]
  },
  {
   "cell_type": "markdown",
   "metadata": {},
   "source": [
    "# Encapsulation \n",
    "Tính đóng gói cho phép che giấu thông tin và những tính chất xử lý bên trong của đối tượng. Các đối tượng khác không thể tác động trực tiếp đến dữ liệu bên trong và làm thay đổi trạng thái của đối tượng mà bắt buộc phải thông qua các phương thức công khai do đối tượng đó cung cấp.\n",
    " "
   ]
  },
  {
   "cell_type": "code",
   "execution_count": 6,
   "metadata": {},
   "outputs": [
    {
     "data": {
      "text/plain": [
       "100"
      ]
     },
     "execution_count": 6,
     "metadata": {},
     "output_type": "execute_result"
    }
   ],
   "source": [
    "# right\n",
    "class MyClass(object):\n",
    "    def set_val(self, val):\n",
    "        self.value = val\n",
    "\n",
    "    def get_val(self):\n",
    "        print(self.value)\n",
    "        return self.value\n",
    "\n",
    "\n",
    "a = MyClass()\n",
    "b = MyClass()\n",
    "\n",
    "a.set_val(10)\n",
    "b.set_val(100)\n",
    "\n",
    "a.get_val()\n",
    "b.get_val()"
   ]
  },
  {
   "cell_type": "code",
   "execution_count": 7,
   "metadata": {},
   "outputs": [
    {
     "name": "stdout",
     "output_type": "stream",
     "text": [
      "10\n",
      "11\n",
      "\n",
      "\n",
      "15\n",
      "16\n",
      "\n",
      "\n",
      "MyString\n"
     ]
    },
    {
     "ename": "TypeError",
     "evalue": "can only concatenate str (not \"int\") to str",
     "output_type": "error",
     "traceback": [
      "\u001b[1;31m---------------------------------------------------------------------------\u001b[0m",
      "\u001b[1;31mTypeError\u001b[0m                                 Traceback (most recent call last)",
      "\u001b[1;32mc:\\Users\\Langl\\WORKSPACE\\PYTHON\\PythonCircus\\interview\\oop.ipynb Cell 4'\u001b[0m in \u001b[0;36m<cell line: 34>\u001b[1;34m()\u001b[0m\n\u001b[0;32m     <a href='vscode-notebook-cell:/c%3A/Users/Langl/WORKSPACE/PYTHON/PythonCircus/interview/oop.ipynb#ch0000004?line=31'>32</a>\u001b[0m b\u001b[39m.\u001b[39mval \u001b[39m=\u001b[39m \u001b[39m\"\u001b[39m\u001b[39mMyString\u001b[39m\u001b[39m\"\u001b[39m  \u001b[39m# <== Breaking encapsulation, works fine\u001b[39;00m\n\u001b[0;32m     <a href='vscode-notebook-cell:/c%3A/Users/Langl/WORKSPACE/PYTHON/PythonCircus/interview/oop.ipynb#ch0000004?line=32'>33</a>\u001b[0m b\u001b[39m.\u001b[39mget_val()  \u001b[39m# <== Prints the val set by breaking encap\u001b[39;00m\n\u001b[1;32m---> <a href='vscode-notebook-cell:/c%3A/Users/Langl/WORKSPACE/PYTHON/PythonCircus/interview/oop.ipynb#ch0000004?line=33'>34</a>\u001b[0m b\u001b[39m.\u001b[39;49mincrement_val()  \u001b[39m# This will fail, since str + int wont work\u001b[39;00m\n\u001b[0;32m     <a href='vscode-notebook-cell:/c%3A/Users/Langl/WORKSPACE/PYTHON/PythonCircus/interview/oop.ipynb#ch0000004?line=34'>35</a>\u001b[0m \u001b[39mprint\u001b[39m(\u001b[39m\"\u001b[39m\u001b[39m\\n\u001b[39;00m\u001b[39m\"\u001b[39m)\n",
      "\u001b[1;32mc:\\Users\\Langl\\WORKSPACE\\PYTHON\\PythonCircus\\interview\\oop.ipynb Cell 4'\u001b[0m in \u001b[0;36mMyInteger.increment_val\u001b[1;34m(self)\u001b[0m\n\u001b[0;32m     <a href='vscode-notebook-cell:/c%3A/Users/Langl/WORKSPACE/PYTHON/PythonCircus/interview/oop.ipynb#ch0000004?line=11'>12</a>\u001b[0m \u001b[39mdef\u001b[39;00m \u001b[39mincrement_val\u001b[39m(\u001b[39mself\u001b[39m):\n\u001b[1;32m---> <a href='vscode-notebook-cell:/c%3A/Users/Langl/WORKSPACE/PYTHON/PythonCircus/interview/oop.ipynb#ch0000004?line=12'>13</a>\u001b[0m     \u001b[39mself\u001b[39m\u001b[39m.\u001b[39mval \u001b[39m=\u001b[39m \u001b[39mself\u001b[39;49m\u001b[39m.\u001b[39;49mval \u001b[39m+\u001b[39;49m \u001b[39m1\u001b[39;49m\n\u001b[0;32m     <a href='vscode-notebook-cell:/c%3A/Users/Langl/WORKSPACE/PYTHON/PythonCircus/interview/oop.ipynb#ch0000004?line=13'>14</a>\u001b[0m     \u001b[39mprint\u001b[39m(\u001b[39mself\u001b[39m\u001b[39m.\u001b[39mval)\n",
      "\u001b[1;31mTypeError\u001b[0m: can only concatenate str (not \"int\") to str"
     ]
    }
   ],
   "source": [
    "# wrong\n",
    "class MyInteger(object):\n",
    "    def set_val(self, val):\n",
    "        try:\n",
    "            val = int(val)\n",
    "        except ValueError:\n",
    "            return\n",
    "        self.val = val\n",
    "\n",
    "    def get_val(self):\n",
    "        print(self.val)\n",
    "\n",
    "    def increment_val(self):\n",
    "        self.val = self.val + 1\n",
    "        print(self.val)\n",
    "\n",
    "\n",
    "a = MyInteger()\n",
    "a.set_val(10)\n",
    "a.get_val()\n",
    "a.increment_val()\n",
    "print(\"\\n\")\n",
    "\n",
    "# Trying to break encapsulation in a new instance with an int\n",
    "c = MyInteger()\n",
    "c.val = 15\n",
    "c.get_val()\n",
    "c.increment_val()\n",
    "print(\"\\n\")\n",
    "\n",
    "# Trying to break encapsulation in a new instance with a str\n",
    "b = MyInteger()\n",
    "b.val = \"MyString\"  # <== Breaking encapsulation, works fine\n",
    "b.get_val()  # <== Prints the val set by breaking encap\n",
    "b.increment_val()  # This will fail, since str + int wont work\n",
    "print(\"\\n\")"
   ]
  },
  {
   "cell_type": "markdown",
   "metadata": {},
   "source": [
    "# Inheritance"
   ]
  },
  {
   "cell_type": "code",
   "execution_count": 1,
   "metadata": {},
   "outputs": [
    {
     "name": "stdout",
     "output_type": "stream",
     "text": [
      "()\n",
      "{}\n",
      "get_user\n",
      "Hacker is sleeping\n",
      "Gamer is eating\n",
      "10\n"
     ]
    }
   ],
   "source": [
    "from pytube import YouTube\n",
    "\n",
    "class Human(object):\n",
    "    __abtract__ = True\n",
    "\n",
    "    age = None\n",
    "\n",
    "    def sleep(self):\n",
    "        ...\n",
    "\n",
    "    def eat(self):\n",
    "        print('Human is eating')\n",
    "\n",
    "\n",
    "class Hacker(Human):\n",
    "    age = 10\n",
    "\n",
    "    def sleep(self):\n",
    "        print('Hacker is sleeping')\n",
    "\n",
    "\n",
    "class Gamer(Human):\n",
    "    age = 11\n",
    "\n",
    "    def sleep(self):\n",
    "        print('Gamer is sleeping')\n",
    "\n",
    "    def eat(self):\n",
    "        print('Gamer is eating')\n",
    "\n",
    "\n",
    "class Coder(Human):\n",
    "    age = 89\n",
    "\n",
    "    def sleep(self):\n",
    "        print('Coder is sleeping')\n",
    "\n",
    "    def eat(self):\n",
    "        print('Coder is eating')\n",
    "\n",
    "\n",
    "class IT(Hacker, Gamer, Coder):\n",
    "    ...\n",
    "\n",
    "\n",
    "def route(func):\n",
    "    def print_func_name(self, *args, **kwargs):\n",
    "        print(args)\n",
    "        print(kwargs)\n",
    "        return func((args, kwargs),*args, **kwargs)\n",
    "\n",
    "    return print_func_name\n",
    "\n",
    "\n",
    "@route\n",
    "def get_user(user_id):\n",
    "    print(\"get_user\")\n",
    "    return {\"user_id\": user_id}\n",
    "\n",
    "\n",
    "get_user(1)\n",
    "\n",
    "it = IT()\n",
    "it.sleep()\n",
    "it.eat()\n",
    "print(it.age)\n"
   ]
  },
  {
   "cell_type": "markdown",
   "metadata": {},
   "source": [
    "# Polymorphism\n",
    "Tính đa hình trong lập trình OOP cho phép các đối tượng khác nhau thực thi chức năng giống nhau theo những cách khác nhau"
   ]
  },
  {
   "cell_type": "code",
   "execution_count": 9,
   "metadata": {},
   "outputs": [
    {
     "name": "stdout",
     "output_type": "stream",
     "text": [
      "Rover wags tail\n",
      "Fluffy purrs\n",
      "Lucky purrs\n",
      "Scout wags tail\n"
     ]
    }
   ],
   "source": [
    "class Animal(object):\n",
    "    def __init__(self, name):\n",
    "        self.name = name\n",
    "\n",
    "    def eat(self, food):\n",
    "        print(\"{0} eats {1}\".format(self.name, food))\n",
    "\n",
    "\n",
    "class Dog(Animal):\n",
    "    def fetch(self, thing):\n",
    "        print(\"{0} goes after the {1}!\".format(self.name, thing))\n",
    "\n",
    "    def show_affection(self):\n",
    "        print(\"{0} wags tail\".format(self.name))\n",
    "\n",
    "\n",
    "class Cat(Animal):\n",
    "    def swatstring(self):\n",
    "        print(\"{0} shreds more string\".format(self.name))\n",
    "\n",
    "    def show_affection(self):\n",
    "        print(\"{0} purrs\".format(self.name))\n",
    "\n",
    "\n",
    "for a in (Dog(\"Rover\"), Cat(\"Fluffy\"), Cat(\"Lucky\"), Dog(\"Scout\")):\n",
    "    a.show_affection()"
   ]
  },
  {
   "cell_type": "markdown",
   "metadata": {},
   "source": [
    "# Abtraction\n",
    "The child class which inherits from an Abstract Base Class can implement\n",
    "methods of their own, but *should always* implement the methods defined in\n",
    "the parent ABC Class."
   ]
  },
  {
   "cell_type": "code",
   "execution_count": 10,
   "metadata": {},
   "outputs": [
    {
     "name": "stdout",
     "output_type": "stream",
     "text": [
      "\n",
      "Calling the get_val() method\n",
      "I'm part of the Abstract Methods defined in My_ABC_Class()\n",
      "10\n",
      "\n",
      "Calling the hello() method\n",
      "I'm *not* part of the Abstract Methods defined in My_ABC_Class()\n"
     ]
    }
   ],
   "source": [
    "import abc\n",
    "\n",
    "\n",
    "class My_ABC_Class(object):\n",
    "    __metaclass__ = abc.ABCMeta\n",
    "\n",
    "    @abc.abstractmethod\n",
    "    def set_val(self, val):\n",
    "        return\n",
    "\n",
    "    @abc.abstractmethod\n",
    "    def get_val(self):\n",
    "        return\n",
    "\n",
    "\n",
    "# Abstract Base Class defined above ^^^\n",
    "\n",
    "# Custom class inheriting from the above Abstract Base Class, below\n",
    "\n",
    "\n",
    "class MyClass(My_ABC_Class):\n",
    "    def set_val(self, input):\n",
    "        self.val = input\n",
    "\n",
    "    def get_val(self):\n",
    "        print(\"\\nCalling the get_val() method\")\n",
    "        print(\"I'm part of the Abstract Methods defined in My_ABC_Class()\")\n",
    "        return self.val\n",
    "\n",
    "    def hello(self):\n",
    "        print(\"\\nCalling the hello() method\")\n",
    "        print(\"I'm *not* part of the Abstract Methods defined in My_ABC_Class()\")\n",
    "\n",
    "\n",
    "my_class = MyClass()\n",
    "\n",
    "my_class.set_val(10)\n",
    "print(my_class.get_val())\n",
    "my_class.hello()"
   ]
  },
  {
   "cell_type": "markdown",
   "metadata": {},
   "source": [
    "# Instance method vs Classmethod vs Static method:\n",
    "- Intance only instance.\n",
    "- Class only class.\n",
    "- Static canbe call directly from class, no need to create an instance."
   ]
  },
  {
   "cell_type": "markdown",
   "metadata": {},
   "source": [
    "# Overloading"
   ]
  },
  {
   "cell_type": "code",
   "execution_count": 12,
   "metadata": {},
   "outputs": [
    {
     "name": "stdout",
     "output_type": "stream",
     "text": [
      "<__main__.MyChildClass object at 0x00000200CF7EAFD0>\n",
      "Documentation for MyChild Class\n",
      "None\n"
     ]
    }
   ],
   "source": [
    "import abc\n",
    "\n",
    "\n",
    "class MyClass(object):\n",
    "\n",
    "    __metaclass__ = abc.ABCMeta\n",
    "\n",
    "    def my_set_val(self, value):\n",
    "        self.value = value\n",
    "\n",
    "    def my_get_val(self):\n",
    "        return self.value\n",
    "\n",
    "    @abc.abstractmethod\n",
    "    def print_doc(self):\n",
    "        return\n",
    "\n",
    "\n",
    "class MyChildClass(MyClass):\n",
    "    def my_set_val(self, value):\n",
    "        if not isinstance(value, int):\n",
    "            value = 0\n",
    "        super(MyChildClass, self).my_set_val(self)\n",
    "\n",
    "    def print_doc(self):\n",
    "        print(\"Documentation for MyChild Class\")\n",
    "\n",
    "\n",
    "my_instance = MyChildClass()\n",
    "my_instance.my_set_val(100)\n",
    "print(my_instance.my_get_val())\n",
    "print(my_instance.print_doc())"
   ]
  },
  {
   "cell_type": "markdown",
   "metadata": {},
   "source": [
    "Super"
   ]
  },
  {
   "cell_type": "code",
   "execution_count": 13,
   "metadata": {},
   "outputs": [
    {
     "name": "stdout",
     "output_type": "stream",
     "text": [
      "I'm actually being called from the Child class\n",
      "But...\n",
      "I'm being called from the Parent class\n"
     ]
    }
   ],
   "source": [
    "class MyClass(object):\n",
    "    def func(self):\n",
    "        print(\"I'm being called from the Parent class\")\n",
    "\n",
    "\n",
    "class ChildClass(MyClass):\n",
    "    def func(self):\n",
    "        print(\"I'm actually being called from the Child class\")\n",
    "        print(\"But...\")\n",
    "        # Calling the `func()` method from the Parent class.\n",
    "        super(ChildClass, self).func()\n",
    "\n",
    "\n",
    "my_instance_2 = ChildClass()\n",
    "my_instance_2.func()"
   ]
  }
 ],
 "metadata": {
  "interpreter": {
   "hash": "d3eea2e89496e4096d7d96fd6f3eaac49aff5ada75cf88cf9896326921e20e0a"
  },
  "kernelspec": {
   "display_name": "Python 3.9.6 64-bit",
   "language": "python",
   "name": "python3"
  },
  "language_info": {
   "codemirror_mode": {
    "name": "ipython",
    "version": 3
   },
   "file_extension": ".py",
   "mimetype": "text/x-python",
   "name": "python",
   "nbconvert_exporter": "python",
   "pygments_lexer": "ipython3",
   "version": "3.9.6"
  },
  "orig_nbformat": 4
 },
 "nbformat": 4,
 "nbformat_minor": 2
}
