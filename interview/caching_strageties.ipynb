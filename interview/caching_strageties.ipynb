{
 "cells": [
  {
   "cell_type": "markdown",
   "metadata": {},
   "source": [
    "# Caching strategies\n",
    "> ref: https://codeahoy.com/2017/08/11/caching-strategies-and-how-to-choose-the-right-one/\n",
    "\n",
    "Caching is one of the easiest ways to increase system performance.\n",
    "\n",
    "### When?\n",
    "- When the system write heavy and reads less frequently. (e.g. time based logs)\n",
    "- When data written once and read multiple times. (e.g. User Profile)\n",
    "- When data returned always unique. (e.g. search queries)\n"
   ]
  },
  {
   "cell_type": "markdown",
   "metadata": {},
   "source": [
    "### Cache-Aside\n",
    "The cache sits on the side and the application directly talks to both the cache and the database.\n",
    "\n",
    "1. The application first checks the cache.\n",
    "2. If the data is found in cache, we’ve cache hit. The data is read and returned to the client.\n",
    "3. If the data is not found in cache, we’ve cache miss. The application has to do some extra work. It queries the database to read the data, returns it to the client and stores the data in cache so the subsequent reads for the same data results in a cache hit\n",
    "\n",
    "![Image](../images/cache-aside.png)\n",
    "\n",
    "Tech: Memcached and Redis\n",
    "\n",
    "*Pros:* \n",
    "- Work best for read-heavy workloads.\n",
    "- Resilient to cache failures\n",
    "- Data model in cache can be different than the data model in database.\n",
    "  \n",
    "*Cons:*\n",
    "- The most common write strategy is to write data to the database directly. When this happens, cache may become inconsistent with the database.\n",
    "- Use time to live (TTL) and continue serving stale data until TTL expires. "
   ]
  },
  {
   "cell_type": "markdown",
   "metadata": {},
   "source": [
    "### Read-Through\n",
    "Read-through cache sits in-line with the database. When there is a cache miss, it loads missing data from database, populates the cache and returns it to the application.\n",
    "- Both cache-aside and read-through strategies load data lazily, that is, only when it is first read.\n",
    "\n",
    "Tech: DynamoDB Accelerator (DAX)\n",
    "\n",
    "![Image](../images/read-through.png)\n",
    "\n",
    "*Pros:*\n",
    "- The data model in read-through cache cannot be different than that of the database.\n",
    "- Work best in read-heavy workloads when the same data is requested many times.\n",
    "\n",
    "*Cons:*\n",
    "- When the data is requested the first time, it always results in cache miss and incurs the extra penalty of loading data to the cache.\n",
    "- It is also possible for data to become inconsistent between cache and the database\n",
    "- Deal with this by ‘warming’ or ‘pre-heating’"
   ]
  },
  {
   "cell_type": "markdown",
   "metadata": {},
   "source": [
    "# Write-Through \n",
    "Data is first written to the cache and then to the database. The cache sits in-line with the database and writes always go through the cache to the main database.\n",
    "\n",
    "Tech: DynamoDB Accelerator (DAX)\n",
    "\n",
    "![Image](../images/write-through.png)\n",
    "\n",
    "*Pros:*\n",
    "- Can be paired with read-through caches, so we get all the benefits of read-through and we also get data consistency guarantee.\n",
    "\n",
    "*Cons:* \n",
    "- Extra write latency"
   ]
  },
  {
   "cell_type": "markdown",
   "metadata": {},
   "source": [
    "# Write-Around\n",
    "Data is written directly to the database and only the data that is read makes it way into the cache.\n",
    "\n",
    "*Pros:*\n",
    "- Write-around can be combine with read-through and provides good performance in situations where data is written once and read less frequently or never.\n",
    "- For example, real-time logs or chatroom messages. Likewise, this pattern can be combined with cache-aside as well.\n",
    " "
   ]
  },
  {
   "cell_type": "markdown",
   "metadata": {},
   "source": [
    "# Write-Back\n",
    "The application writes data to the cache which acknowledges immediately and after some delay, it writes the data back to the database.\n",
    "Sometimes called write-behind as well.\n",
    "\n",
    "Tech: DAX aws\n",
    "\n",
    "![Image](../images/write-back.png)\n",
    "\n",
    "*Pros:*\n",
    "- Good for write-heavy workloads.  \n",
    "- Good at combined with read-through.\n",
    "- Resilient to database failures and can tolerate some database downtime.\n",
    "-  If batching or coalescing is supported, it can reduce overall writes to the database, which decreases the load and reduces costs\n",
    "  \n",
    "*Cons:*\n",
    "- if there’s a cache failure, the data may be permanently lost.\n",
    "> Most relational databases storage engines (i.e. InnoDB) have write-back cache enabled by default in their internals. Queries are first written to memory and eventually flushed to the disk."
   ]
  }
 ],
 "metadata": {
  "language_info": {
   "name": "python"
  },
  "orig_nbformat": 4
 },
 "nbformat": 4,
 "nbformat_minor": 2
}
