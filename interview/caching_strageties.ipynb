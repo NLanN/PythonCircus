{
 "cells": [
  {
   "cell_type": "markdown",
   "metadata": {},
   "source": [
    "# Caching strategies\n",
    "> ref: https://codeahoy.com/2017/08/11/caching-strategies-and-how-to-choose-the-right-one/\n",
    "Caching is one of the easiest ways to increase system performance.\n",
    "## When?\n",
    "- When the system write heavy and reads less frequently. (e.g. time based logs)\n",
    "- When data written once and read multiple times. (e.g. User Profile)\n",
    "- When data returned always unique. (e.g. search queries)\n"
   ]
  },
  {
   "cell_type": "markdown",
   "metadata": {},
   "source": []
  }
 ],
 "metadata": {
  "language_info": {
   "name": "python"
  },
  "orig_nbformat": 4
 },
 "nbformat": 4,
 "nbformat_minor": 2
}
