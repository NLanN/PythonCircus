{
 "cells": [
  {
   "attachments": {},
   "cell_type": "markdown",
   "metadata": {},
   "source": [
    "# ACID\n",
    "> ref: https://www.postgresql.org/files/developer/transactions.pdf\n",
    "\n",
    "> ref: https://blog.sqlauthority.com/2016/04/10/acid-properties-database-interview-question-week-066/\n",
    "* Atomicity: This means that a transaction is treated as a single unit of work, and either all of its operations are performed, or none of them are. If any part of a transaction fails, the entire transaction is rolled back to its original state.\n",
    "\n",
    "* Consistency: This means that each transaction leaves the database in a valid state. The database is checked to ensure that all constraints, such as foreign key constraints or unique constraints, are satisfied before a transaction is committed.\n",
    "\n",
    "* Isolation: This means that each transaction is isolated from other concurrent transactions, so that each transaction sees a consistent snapshot of the database. PostgreSQL provides various levels of transaction isolation, including read committed, repeatable read, and serializable isolation.\n",
    "\n",
    "* Durability: This means that once a transaction is committed, its changes are permanently stored in the database, and even in the event of a power failure or other system crash, the changes will not be lost.\n",
    "\n",
    "![Image](../images/acid.png)\n",
    "\n"
   ]
  }
 ],
 "metadata": {
  "interpreter": {
   "hash": "6e11662a64c8110abf85f829304b054fd73f6a700eca22e0293f97ff74226d73"
  },
  "kernelspec": {
   "display_name": "Python 3.9.6 64-bit (system)",
   "language": "python",
   "name": "python3"
  },
  "language_info": {
   "name": "python",
   "version": "3.9.6"
  },
  "orig_nbformat": 4
 },
 "nbformat": 4,
 "nbformat_minor": 2
}
