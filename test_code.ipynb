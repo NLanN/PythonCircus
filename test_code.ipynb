{
 "cells": [
  {
   "cell_type": "code",
   "execution_count": 3,
   "outputs": [],
   "source": [
    "import requests\n",
    "from requests.adapters import HTTPAdapter\n",
    "from requests.packages.urllib3.util.retry import Retry\n",
    "\n",
    "\n",
    "def requests_retry_session(\n",
    "        retries=3,\n",
    "        backoff_factor=0.3,\n",
    "        status_forcelist=(500, 502, 504),\n",
    "        session=None,\n",
    "):\n",
    "    session = session or requests.Session()\n",
    "    retry = Retry(\n",
    "        total=retries,\n",
    "        read=retries,\n",
    "        connect=retries,\n",
    "        backoff_factor=backoff_factor,\n",
    "        status_forcelist=status_forcelist,\n",
    "    )\n",
    "    adapter = HTTPAdapter(max_retries=retry)\n",
    "    session.mount('http://', adapter)\n",
    "    session.mount('https://', adapter)\n",
    "    return session"
   ],
   "metadata": {
    "collapsed": false,
    "pycharm": {
     "name": "#%%\n"
    }
   }
  },
  {
   "cell_type": "code",
   "execution_count": 4,
   "outputs": [
    {
     "name": "stdout",
     "output_type": "stream",
     "text": [
      "200\n"
     ]
    }
   ],
   "source": [
    "response = requests_retry_session().get('https://www.peterbe.com/')\n",
    "print(response.status_code)\n",
    "\n",
    "s = requests.Session()\n",
    "s.auth = ('user', 'pass')\n",
    "s.headers.update({'x-test': 'true'})\n",
    "\n",
    "response = requests_retry_session(session=s).get(\n",
    "    'https://www.peterbe.com'\n",
    ")"
   ],
   "metadata": {
    "collapsed": false,
    "pycharm": {
     "name": "#%%\n"
    }
   }
  },
  {
   "cell_type": "code",
   "execution_count": 5,
   "outputs": [
    {
     "name": "stdout",
     "output_type": "stream",
     "text": [
      "It failed :( ConnectionError\n",
      "Took 17.965543031692505 seconds\n"
     ]
    }
   ],
   "source": [
    "import time\n",
    "t0 = time.time()\n",
    "try:\n",
    "    response = requests_retry_session().get(\n",
    "        'http://localhost:9999',\n",
    "    )\n",
    "except Exception as x:\n",
    "    print('It failed :(', x.__class__.__name__)\n",
    "else:\n",
    "    print('It eventually worked', response.status_code)\n",
    "finally:\n",
    "    t1 = time.time()\n",
    "    print('Took', t1 - t0, 'seconds')"
   ],
   "metadata": {
    "collapsed": false,
    "pycharm": {
     "name": "#%%\n"
    }
   }
  },
  {
   "cell_type": "code",
   "execution_count": 6,
   "outputs": [
    {
     "name": "stdout",
     "output_type": "stream",
     "text": [
      "It failed :( ConnectionError\n",
      "Took 23.01851487159729 seconds\n"
     ]
    }
   ],
   "source": [
    "t0 = time.time()\n",
    "try:\n",
    "    response = requests_retry_session().get(\n",
    "        'http://httpbin.org/delay/10',\n",
    "        timeout=5\n",
    "    )\n",
    "except Exception as x:\n",
    "    print('It failed :(', x.__class__.__name__)\n",
    "else:\n",
    "    print('It eventually worked', response.status_code)\n",
    "finally:\n",
    "    t1 = time.time()\n",
    "    print('Took', t1 - t0, 'seconds')"
   ],
   "metadata": {
    "collapsed": false,
    "pycharm": {
     "name": "#%%\n"
    }
   }
  },
  {
   "cell_type": "code",
   "execution_count": 7,
   "outputs": [
    {
     "name": "stdout",
     "output_type": "stream",
     "text": [
      "It failed :( RetryError\n",
      "Took 3.581242084503174 seconds\n"
     ]
    }
   ],
   "source": [
    "t0 = time.time()\n",
    "try:\n",
    "    response = requests_retry_session().get(\n",
    "        'http://httpbin.org/status/500',\n",
    "    )\n",
    "except Exception as x:\n",
    "    print('It failed :(', x.__class__.__name__)\n",
    "else:\n",
    "    print('It eventually worked', response.status_code)\n",
    "finally:\n",
    "    t1 = time.time()\n",
    "    print('Took', t1 - t0, 'seconds')"
   ],
   "metadata": {
    "collapsed": false,
    "pycharm": {
     "name": "#%%\n"
    }
   }
  },
  {
   "cell_type": "code",
   "execution_count": 8,
   "outputs": [],
   "source": [
    "class User:\n",
    "    def __init__(self, dup, name):\n",
    "        self.name = name\n",
    "        self.dup = dup\n",
    "\n",
    "class Student:\n",
    "    __hello = 1\n",
    "    def __init__(self, dup, clazz):\n",
    "        self.clazz = clazz\n",
    "        self.dup = dup\n",
    "\n",
    "user = User(1, 'A')\n",
    "student = Student(2, '2A')\n",
    "d = {}\n",
    "# d.update(user.__dict__)\n",
    "# d.update(student.__dict__)\n",
    "# d"
   ],
   "metadata": {
    "collapsed": false,
    "pycharm": {
     "name": "#%%\n"
    }
   }
  },
  {
   "cell_type": "code",
   "execution_count": 9,
   "outputs": [
    {
     "name": "stdout",
     "output_type": "stream",
     "text": [
      "It failed :( ConnectionError\n",
      "Took 17.995545625686646 seconds\n"
     ]
    }
   ],
   "source": [
    "import time\n",
    "t0 = time.time()\n",
    "try:\n",
    "    response = requests_retry_session().get(\n",
    "        'http://localhost:9999',\n",
    "    )\n",
    "except Exception as x:\n",
    "    print('It failed :(', x.__class__.__name__)\n",
    "else:\n",
    "    print('It eventually worked', response.status_code)\n",
    "finally:\n",
    "    t1 = time.time()\n",
    "    print('Took', t1 - t0, 'seconds')"
   ],
   "metadata": {
    "collapsed": false,
    "pycharm": {
     "name": "#%%\n"
    }
   }
  },
  {
   "cell_type": "code",
   "execution_count": 10,
   "outputs": [
    {
     "name": "stdout",
     "output_type": "stream",
     "text": [
      "It failed :( ConnectionError\n",
      "Took 22.896956205368042 seconds\n"
     ]
    }
   ],
   "source": [
    "t0 = time.time()\n",
    "try:\n",
    "    response = requests_retry_session().get(\n",
    "        'http://httpbin.org/delay/10',\n",
    "        timeout=5\n",
    "    )\n",
    "except Exception as x:\n",
    "    print('It failed :(', x.__class__.__name__)\n",
    "else:\n",
    "    print('It eventually worked', response.status_code)\n",
    "finally:\n",
    "    t1 = time.time()\n",
    "    print('Took', t1 - t0, 'seconds')"
   ],
   "metadata": {
    "collapsed": false,
    "pycharm": {
     "name": "#%%\n"
    }
   }
  },
  {
   "cell_type": "code",
   "execution_count": 11,
   "outputs": [
    {
     "name": "stdout",
     "output_type": "stream",
     "text": [
      "It failed :( RetryError\n",
      "Took 3.1791117191314697 seconds\n"
     ]
    }
   ],
   "source": [
    "t0 = time.time()\n",
    "try:\n",
    "    response = requests_retry_session().get(\n",
    "        'http://httpbin.org/status/500',\n",
    "    )\n",
    "except Exception as x:\n",
    "    print('It failed :(', x.__class__.__name__)\n",
    "else:\n",
    "    print('It eventually worked', response.status_code)\n",
    "finally:\n",
    "    t1 = time.time()\n",
    "    print('Took', t1 - t0, 'seconds')"
   ],
   "metadata": {
    "collapsed": false,
    "pycharm": {
     "name": "#%%\n"
    }
   }
  },
  {
   "cell_type": "code",
   "execution_count": 12,
   "outputs": [],
   "source": [
    "class User:\n",
    "    def __init__(self, dup, name):\n",
    "        self.name = name\n",
    "        self.dup = dup\n",
    "\n",
    "class Student:\n",
    "    __hello = 1\n",
    "    def __init__(self, dup, clazz):\n",
    "        self.clazz = clazz\n",
    "        self.dup = dup\n",
    "\n",
    "user = User(1, 'A')\n",
    "student = Student(2, '2A')\n",
    "d = {}\n",
    "# d.update(user.__dict__)\n",
    "# d.update(student.__dict__)\n",
    "# d"
   ],
   "metadata": {
    "collapsed": false,
    "pycharm": {
     "name": "#%%\n"
    }
   }
  },
  {
   "cell_type": "code",
   "execution_count": 13,
   "outputs": [
    {
     "ename": "AttributeError",
     "evalue": "'Animal' object has no attribute 'age'",
     "output_type": "error",
     "traceback": [
      "\u001B[1;31m---------------------------------------------------------------------------\u001B[0m",
      "\u001B[1;31mAttributeError\u001B[0m                            Traceback (most recent call last)",
      "Input \u001B[1;32mIn [13]\u001B[0m, in \u001B[0;36m<cell line: 8>\u001B[1;34m()\u001B[0m\n\u001B[0;32m      4\u001B[0m         age : \u001B[38;5;28mint\u001B[39m \u001B[38;5;241m=\u001B[39m \u001B[38;5;241m1\u001B[39m\n\u001B[0;32m      6\u001B[0m a \u001B[38;5;241m=\u001B[39m Animal()\n\u001B[1;32m----> 8\u001B[0m \u001B[38;5;28mprint\u001B[39m(a\u001B[38;5;241m.\u001B[39mfur, \u001B[43ma\u001B[49m\u001B[38;5;241;43m.\u001B[39;49m\u001B[43mage\u001B[49m)\n",
      "\u001B[1;31mAttributeError\u001B[0m: 'Animal' object has no attribute 'age'"
     ]
    }
   ],
   "source": [],
   "metadata": {
    "collapsed": false,
    "pycharm": {
     "name": "#%%"
    }
   }
  }
 ],
 "metadata": {
  "kernelspec": {
   "display_name": "Python 3",
   "language": "python",
   "name": "python3"
  },
  "language_info": {
   "codemirror_mode": {
    "name": "ipython",
    "version": 2
   },
   "file_extension": ".py",
   "mimetype": "text/x-python",
   "name": "python",
   "nbconvert_exporter": "python",
   "pygments_lexer": "ipython2",
   "version": "2.7.6"
  },
  "pycharm": {
   "stem_cell": {
    "cell_type": "raw",
    "source": [
     "\n"
    ],
    "metadata": {
     "collapsed": false
    }
   }
  }
 },
 "nbformat": 4,
 "nbformat_minor": 0
}