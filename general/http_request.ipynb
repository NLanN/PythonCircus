{
 "cells": [
  {
   "cell_type": "code",
   "execution_count": 3,
   "metadata": {
    "collapsed": true
   },
   "outputs": [],
   "source": [
    "\n",
    "\n",
    "DEFAULT_TIMEOUT = 1  # seconds\n",
    "\n",
    "# class TimeoutHTTPAdapter(HTTPAdapter):\n",
    "#     def __init__(self, *args, **kwargs):\n",
    "#         self.timeout = DEFAULT_TIMEOUT\n",
    "#         if \"timeout\" in kwargs:\n",
    "#             self.timeout = kwargs[\"timeout\"]\n",
    "#             del kwargs[\"timeout\"]\n",
    "#         super().__init__(*args, **kwargs)\n",
    "#\n",
    "#     def send(self, request, **kwargs):\n",
    "#         timeout = kwargs.get(\"timeout\")\n",
    "#         if timeout is None:\n",
    "#             kwargs[\"timeout\"] = self.timeout\n",
    "#         return super().send(request, **kwargs)"
   ]
  },
  {
   "cell_type": "code",
   "execution_count": 4,
   "outputs": [
    {
     "name": "stdout",
     "output_type": "stream",
     "text": [
      "Received status 500 HTTPConnectionPool(host='httpbin.org', port=80): Max retries exceeded with url: /status/500 (Caused by ResponseError('too many 500 error responses'))\n",
      "Received status 500 <Response [200]>\n",
      "With 1 seconds timeout HTTPConnectionPool(host='httpbin.org', port=80): Max retries exceeded with url: /delay/10 (Caused by ReadTimeoutError(\"HTTPConnectionPool(host='httpbin.org', port=80): Read timed out. (read timeout=1)\"))\n",
      "HTTPConnectionPool(host='httpbin.org', port=80): Max retries exceeded with url: /delay/10 (Caused by ReadTimeoutError(\"HTTPConnectionPool(host='httpbin.org', port=80): Read timed out. (read timeout=10)\"))\n"
     ]
    }
   ],
   "source": [
    "from requests.adapters import HTTPAdapter\n",
    "from requests.packages.urllib3.util.retry import Retry\n",
    "import requests\n",
    "\n",
    "http = requests.Session()\n",
    "\n",
    "retries = Retry(total=3, backoff_factor=0.3, status_forcelist=[429, 500, 502, 503, 504])\n",
    "http.mount(\"https://\", HTTPAdapter(max_retries=retries))\n",
    "http.mount(\"http://\", HTTPAdapter(max_retries=retries))\n",
    "\n",
    "try:\n",
    "    response = http.get(\"http://httpbin.org/status/500\", timeout=1)\n",
    "except requests.exceptions.RequestException as e:\n",
    "    print('Received status 500', e)\n",
    "\n",
    "try:\n",
    "    response = http.get(\"http://httpbin.org/status/200\", timeout=1)\n",
    "    print('Received status 500', response)\n",
    "except requests.exceptions.RequestException as e:\n",
    "    print(e)\n",
    "\n",
    "try:\n",
    "    response = http.get(\"http://httpbin.org/delay/10\", timeout=1)\n",
    "except requests.exceptions.RequestException as e:\n",
    "    print('With 1 seconds timeout', e)\n",
    "\n",
    "try:\n",
    "    response = http.get(\"http://httpbin.org/delay/10\", timeout=10)\n",
    "    print('With 20 seconds timeout', response)\n",
    "except requests.exceptions.RequestException as e:\n",
    "    print(e)"
   ],
   "metadata": {
    "collapsed": false,
    "pycharm": {
     "name": "#%%\n"
    }
   }
  },
  {
   "cell_type": "code",
   "execution_count": 1,
   "outputs": [
    {
     "ename": "NameError",
     "evalue": "name 'Retry' is not defined",
     "output_type": "error",
     "traceback": [
      "\u001B[1;31m---------------------------------------------------------------------------\u001B[0m",
      "\u001B[1;31mNameError\u001B[0m                                 Traceback (most recent call last)",
      "Input \u001B[1;32mIn [1]\u001B[0m, in \u001B[0;36m<cell line: 46>\u001B[1;34m()\u001B[0m\n\u001B[0;32m     41\u001B[0m             \u001B[38;5;28mprint\u001B[39m(\u001B[38;5;124mf\u001B[39m\u001B[38;5;124m'\u001B[39m\u001B[38;5;124mRequest exception: \u001B[39m\u001B[38;5;132;01m{\u001B[39;00me\u001B[38;5;132;01m}\u001B[39;00m\u001B[38;5;124m'\u001B[39m)\n\u001B[0;32m     43\u001B[0m         \u001B[38;5;28;01mreturn\u001B[39;00m res\n\u001B[1;32m---> 46\u001B[0m api \u001B[38;5;241m=\u001B[39m \u001B[43mHTTPWrapper\u001B[49m\u001B[43m(\u001B[49m\n\u001B[0;32m     47\u001B[0m \u001B[43m            \u001B[49m\u001B[43mapi_name\u001B[49m\u001B[38;5;241;43m=\u001B[39;49m\u001B[38;5;124;43m'\u001B[39;49m\u001B[38;5;124;43mAcurity\u001B[39;49m\u001B[38;5;124;43m'\u001B[39;49m\u001B[43m,\u001B[49m\n\u001B[0;32m     48\u001B[0m \u001B[43m            \u001B[49m\u001B[43mbase_url\u001B[49m\u001B[38;5;241;43m=\u001B[39;49m\u001B[38;5;124;43m\"\u001B[39;49m\u001B[38;5;124;43mhttp://httpbin.org/\u001B[39;49m\u001B[38;5;124;43m\"\u001B[39;49m\u001B[43m,\u001B[49m\n\u001B[0;32m     49\u001B[0m \u001B[43m            \u001B[49m\u001B[43mtotal\u001B[49m\u001B[38;5;241;43m=\u001B[39;49m\u001B[38;5;241;43m5\u001B[39;49m\u001B[43m,\u001B[49m\n\u001B[0;32m     50\u001B[0m \u001B[43m            \u001B[49m\u001B[43mbackoff_factor\u001B[49m\u001B[38;5;241;43m=\u001B[39;49m\u001B[38;5;241;43m10\u001B[39;49m\u001B[43m,\u001B[49m\n\u001B[0;32m     51\u001B[0m \u001B[43m            \u001B[49m\u001B[43mstatus_forcelist\u001B[49m\u001B[38;5;241;43m=\u001B[39;49m\u001B[43m(\u001B[49m\u001B[38;5;241;43m429\u001B[39;49m\u001B[43m,\u001B[49m\u001B[43m \u001B[49m\u001B[38;5;241;43m500\u001B[39;49m\u001B[43m,\u001B[49m\u001B[43m \u001B[49m\u001B[38;5;241;43m502\u001B[39;49m\u001B[43m,\u001B[49m\u001B[43m \u001B[49m\u001B[38;5;241;43m503\u001B[39;49m\u001B[43m,\u001B[49m\u001B[43m \u001B[49m\u001B[38;5;241;43m504\u001B[39;49m\u001B[43m)\u001B[49m\u001B[43m,\u001B[49m\n\u001B[0;32m     52\u001B[0m \u001B[43m        \u001B[49m\u001B[43m)\u001B[49m\n\u001B[0;32m     54\u001B[0m res \u001B[38;5;241m=\u001B[39m api\u001B[38;5;241m.\u001B[39mrequest(\n\u001B[0;32m     55\u001B[0m             method\u001B[38;5;241m=\u001B[39m\u001B[38;5;124m'\u001B[39m\u001B[38;5;124mGET\u001B[39m\u001B[38;5;124m'\u001B[39m,\n\u001B[0;32m     56\u001B[0m             end_point\u001B[38;5;241m=\u001B[39m\u001B[38;5;124m'\u001B[39m\u001B[38;5;124m/delay/10\u001B[39m\u001B[38;5;124m'\u001B[39m,\n\u001B[0;32m     57\u001B[0m         )\n\u001B[0;32m     59\u001B[0m \u001B[38;5;28mprint\u001B[39m(res)\n",
      "Input \u001B[1;32mIn [1]\u001B[0m, in \u001B[0;36mHTTPWrapper.__init__\u001B[1;34m(self, api_name, base_url, total, backoff_factor, status_forcelist, method_whitelist)\u001B[0m\n\u001B[0;32m     20\u001B[0m \u001B[38;5;28mself\u001B[39m\u001B[38;5;241m.\u001B[39mapi_name \u001B[38;5;241m=\u001B[39m api_name\n\u001B[0;32m     21\u001B[0m \u001B[38;5;28mself\u001B[39m\u001B[38;5;241m.\u001B[39mbase_url \u001B[38;5;241m=\u001B[39m base_url\n\u001B[1;32m---> 22\u001B[0m \u001B[38;5;28mself\u001B[39m\u001B[38;5;241m.\u001B[39mretries \u001B[38;5;241m=\u001B[39m \u001B[43mRetry\u001B[49m(\n\u001B[0;32m     23\u001B[0m     total\u001B[38;5;241m=\u001B[39mtotal,\n\u001B[0;32m     24\u001B[0m     backoff_factor\u001B[38;5;241m=\u001B[39mbackoff_factor,\n\u001B[0;32m     25\u001B[0m     status_forcelist\u001B[38;5;241m=\u001B[39mstatus_forcelist,\n\u001B[0;32m     26\u001B[0m     method_whitelist\u001B[38;5;241m=\u001B[39mmethod_whitelist,\n\u001B[0;32m     27\u001B[0m )\n",
      "\u001B[1;31mNameError\u001B[0m: name 'Retry' is not defined"
     ]
    }
   ],
   "source": [
    "\n",
    "\n",
    "class HTTPWrapper(object):\n",
    "\n",
    "    def __init__(\n",
    "            self,\n",
    "            api_name,\n",
    "            base_url,\n",
    "            total=3,\n",
    "            backoff_factor=10,\n",
    "            status_forcelist=(429, 500, 502, 503, 504),\n",
    "            method_whitelist=(\n",
    "                    'HEAD',\n",
    "                    'GET',\n",
    "                    'PUT',\n",
    "                    'POST',\n",
    "                    'DELETE',\n",
    "                    'OPTIONS',\n",
    "                    'TRACE',\n",
    "            ),\n",
    "    ):\n",
    "        self.api_name = api_name\n",
    "        self.base_url = base_url\n",
    "        self.retries = Retry(\n",
    "            total=total,\n",
    "            backoff_factor=backoff_factor,\n",
    "            status_forcelist=status_forcelist,\n",
    "            method_whitelist=method_whitelist,\n",
    "        )\n",
    "\n",
    "    def request(self, method, end_point, url=None, retries=None, **kwargs):\n",
    "        url = url or self.base_url + end_point\n",
    "        retries = retries or self.retries\n",
    "\n",
    "        http = requests.Session()\n",
    "        http.mount('https://', HTTPAdapter(max_retries=retries))\n",
    "        http.mount('http://', HTTPAdapter(max_retries=retries))\n",
    "        request = getattr(http, method.lower())\n",
    "\n",
    "        try:\n",
    "            res = request(url=url, **kwargs)\n",
    "        except requests.exceptions.RequestException as e:\n",
    "            print(f'Request exception: {e}')\n",
    "\n",
    "        return res\n",
    "\n",
    "\n",
    "api = HTTPWrapper(\n",
    "            api_name='Acurity',\n",
    "            base_url=\"http://httpbin.org/\",\n",
    "            total=5,\n",
    "            backoff_factor=10,\n",
    "            status_forcelist=(429, 500, 502, 503, 504),\n",
    "        )\n",
    "\n",
    "res = api.request(\n",
    "            method='GET',\n",
    "            end_point='/delay/10',\n",
    "        )\n",
    "\n",
    "print(res)"
   ],
   "metadata": {
    "collapsed": false,
    "pycharm": {
     "name": "#%%\n"
    }
   }
  }
 ],
 "metadata": {
  "kernelspec": {
   "display_name": "Python 3",
   "language": "python",
   "name": "python3"
  },
  "language_info": {
   "codemirror_mode": {
    "name": "ipython",
    "version": 2
   },
   "file_extension": ".py",
   "mimetype": "text/x-python",
   "name": "python",
   "nbconvert_exporter": "python",
   "pygments_lexer": "ipython2",
   "version": "2.7.6"
  }
 },
 "nbformat": 4,
 "nbformat_minor": 0
}