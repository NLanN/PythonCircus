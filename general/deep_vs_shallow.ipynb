{
 "cells": [
  {
   "cell_type": "markdown",
   "metadata": {},
   "source": [
    "### Deepcopy vs Shallow copy"
   ]
  },
  {
   "cell_type": "code",
   "execution_count": null,
   "metadata": {},
   "outputs": [],
   "source": [
    "import copy\n",
    "\n",
    "l1 = [1, 2, 3, [1, 2]]\n",
    "\n",
    "l2 = copy.deepcopy(l1)\n",
    "\n",
    "l3 = copy.copy(l1)\n",
    "\n",
    "print(id(l1), id(l2), id(l3))\n",
    "print('-----------------')\n",
    "\n",
    "for i in l1:\n",
    "    print(id(i))\n",
    "\n",
    "print('-----------------')\n",
    "for i in l2:\n",
    "    print(id(i))\n",
    "\n",
    "print('-----------------')\n",
    "\n",
    "for i in l3:\n",
    "    print(id(i))\n",
    "\n",
    "l1.sort(key=lambda x: x[0] if isinstance(x, list) else x)"
   ]
  }
 ],
 "metadata": {
  "language_info": {
   "name": "python"
  },
  "orig_nbformat": 4
 },
 "nbformat": 4,
 "nbformat_minor": 2
}
